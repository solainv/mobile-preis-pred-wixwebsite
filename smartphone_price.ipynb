{
 "cells": [
  {
   "cell_type": "code",
   "execution_count": 1,
   "id": "bdab6e7b-691d-46ee-9db6-0e601bbed2cd",
   "metadata": {},
   "outputs": [],
   "source": [
    "import pandas as pd\n",
    "import numpy as np\n",
    "from sklearn.model_selection import train_test_split\n",
    "pd.options.display.max_columns = None"
   ]
  },
  {
   "cell_type": "code",
   "execution_count": 2,
   "id": "09549770-a608-4e96-baa7-6481ebf4d17d",
   "metadata": {},
   "outputs": [
    {
     "data": {
      "text/html": [
       "<div>\n",
       "<style scoped>\n",
       "    .dataframe tbody tr th:only-of-type {\n",
       "        vertical-align: middle;\n",
       "    }\n",
       "\n",
       "    .dataframe tbody tr th {\n",
       "        vertical-align: top;\n",
       "    }\n",
       "\n",
       "    .dataframe thead th {\n",
       "        text-align: right;\n",
       "    }\n",
       "</style>\n",
       "<table border=\"1\" class=\"dataframe\">\n",
       "  <thead>\n",
       "    <tr style=\"text-align: right;\">\n",
       "      <th></th>\n",
       "      <th>brand_name</th>\n",
       "      <th>model</th>\n",
       "      <th>display</th>\n",
       "      <th>front_camera</th>\n",
       "      <th>rare_camera</th>\n",
       "      <th>processor</th>\n",
       "      <th>battery_capacity</th>\n",
       "      <th>ram</th>\n",
       "      <th>internal_storage</th>\n",
       "      <th>price(€)</th>\n",
       "    </tr>\n",
       "  </thead>\n",
       "  <tbody>\n",
       "    <tr>\n",
       "      <th>0</th>\n",
       "      <td>SAMSUNG</td>\n",
       "      <td>Samsung S24 Ultra</td>\n",
       "      <td>6.8\" (120Hz)</td>\n",
       "      <td>40MP</td>\n",
       "      <td>108MP + 10MP + 10MP + 12MP</td>\n",
       "      <td>Exynos</td>\n",
       "      <td>5000 mAh</td>\n",
       "      <td>8.0</td>\n",
       "      <td>128</td>\n",
       "      <td>1810.81</td>\n",
       "    </tr>\n",
       "    <tr>\n",
       "      <th>1</th>\n",
       "      <td>SAMSUNG</td>\n",
       "      <td>Samsung S24 Plus</td>\n",
       "      <td>6.6\" (120Hz)</td>\n",
       "      <td>10MP</td>\n",
       "      <td>50MP + 10MP + 12MP</td>\n",
       "      <td>Exynos</td>\n",
       "      <td>4500 mAh</td>\n",
       "      <td>8.0</td>\n",
       "      <td>128</td>\n",
       "      <td>1027.02</td>\n",
       "    </tr>\n",
       "    <tr>\n",
       "      <th>2</th>\n",
       "      <td>SAMSUNG</td>\n",
       "      <td>Samsung Zero</td>\n",
       "      <td>6.41\" (120Hz)</td>\n",
       "      <td>32 MP</td>\n",
       "      <td>12 MP + 8 MP + 12 MP</td>\n",
       "      <td>Snapdragon 888 5G</td>\n",
       "      <td>4500 mAh</td>\n",
       "      <td>8.0</td>\n",
       "      <td>256</td>\n",
       "      <td>610.81</td>\n",
       "    </tr>\n",
       "    <tr>\n",
       "      <th>3</th>\n",
       "      <td>SAMSUNG</td>\n",
       "      <td>Samsung S24</td>\n",
       "      <td>6.1\" (120Hz)</td>\n",
       "      <td>10MP</td>\n",
       "      <td>50MP + 10MP + 12MP</td>\n",
       "      <td>Exynos</td>\n",
       "      <td>3700 mAh</td>\n",
       "      <td>8.0</td>\n",
       "      <td>128</td>\n",
       "      <td>1351.35</td>\n",
       "    </tr>\n",
       "    <tr>\n",
       "      <th>4</th>\n",
       "      <td>SAMSUNG</td>\n",
       "      <td>Samsung A05s</td>\n",
       "      <td>6.5\" (90Hz)</td>\n",
       "      <td>5MP</td>\n",
       "      <td>50MP + 2MP + 2MP</td>\n",
       "      <td>Exynos</td>\n",
       "      <td>5000 mAh</td>\n",
       "      <td>4.0</td>\n",
       "      <td>64</td>\n",
       "      <td>135.13</td>\n",
       "    </tr>\n",
       "  </tbody>\n",
       "</table>\n",
       "</div>"
      ],
      "text/plain": [
       "  brand_name              model        display front_camera  \\\n",
       "0    SAMSUNG  Samsung S24 Ultra   6.8\" (120Hz)         40MP   \n",
       "1    SAMSUNG   Samsung S24 Plus   6.6\" (120Hz)         10MP   \n",
       "2    SAMSUNG       Samsung Zero  6.41\" (120Hz)        32 MP   \n",
       "3    SAMSUNG        Samsung S24   6.1\" (120Hz)         10MP   \n",
       "4    SAMSUNG       Samsung A05s    6.5\" (90Hz)          5MP   \n",
       "\n",
       "                  rare_camera          processor battery_capacity  ram  \\\n",
       "0  108MP + 10MP + 10MP + 12MP            Exynos          5000 mAh  8.0   \n",
       "1          50MP + 10MP + 12MP            Exynos          4500 mAh  8.0   \n",
       "2        12 MP + 8 MP + 12 MP  Snapdragon 888 5G         4500 mAh  8.0   \n",
       "3          50MP + 10MP + 12MP            Exynos          3700 mAh  8.0   \n",
       "4            50MP + 2MP + 2MP            Exynos          5000 mAh  4.0   \n",
       "\n",
       "   internal_storage  price(€)  \n",
       "0               128   1810.81  \n",
       "1               128   1027.02  \n",
       "2               256    610.81  \n",
       "3               128   1351.35  \n",
       "4                64    135.13  "
      ]
     },
     "execution_count": 2,
     "metadata": {},
     "output_type": "execute_result"
    }
   ],
   "source": [
    "df = pd.read_csv('smartphone prices.csv')\n",
    "df.head()"
   ]
  },
  {
   "cell_type": "code",
   "execution_count": 3,
   "id": "ff296c17-7e86-4a8f-bfcd-fc9524b1c80b",
   "metadata": {},
   "outputs": [
    {
     "data": {
      "text/plain": [
       "(1256, 10)"
      ]
     },
     "execution_count": 3,
     "metadata": {},
     "output_type": "execute_result"
    }
   ],
   "source": [
    "df.shape"
   ]
  },
  {
   "cell_type": "markdown",
   "id": "d8e2e804-a66d-4dfc-9d84-504afc021909",
   "metadata": {},
   "source": [
    "## Data Wrangling\n",
    "Um Model und Visualisierungen auf kontinuiertliche Variable problemlos durchzuführen muss man numerische Werte haben"
   ]
  },
  {
   "cell_type": "code",
   "execution_count": 4,
   "id": "ca0f8413-0f58-4476-b28e-bd51f547f829",
   "metadata": {},
   "outputs": [
    {
     "data": {
      "text/plain": [
       "brand_name          0\n",
       "model               0\n",
       "display             0\n",
       "front_camera        0\n",
       "rare_camera         0\n",
       "processor           9\n",
       "battery_capacity    0\n",
       "ram                 0\n",
       "internal_storage    0\n",
       "price(€)            0\n",
       "dtype: int64"
      ]
     },
     "execution_count": 4,
     "metadata": {},
     "output_type": "execute_result"
    }
   ],
   "source": [
    "#Fehlende Werte (NaN values)\n",
    "df.isna().sum()"
   ]
  },
  {
   "cell_type": "code",
   "execution_count": 5,
   "id": "601a391a-29f0-4305-ba4e-7e3e2c52c07d",
   "metadata": {},
   "outputs": [],
   "source": [
    "# hier sind nur 9 werte in der spalte processor fehlend dann werden wir sie einfach wegmachen \n",
    "df.dropna(inplace=True)"
   ]
  },
  {
   "cell_type": "code",
   "execution_count": 6,
   "id": "4830adc2-c1bd-4615-828d-6a621f723e90",
   "metadata": {},
   "outputs": [
    {
     "data": {
      "text/plain": [
       "(1247, 10)"
      ]
     },
     "execution_count": 6,
     "metadata": {},
     "output_type": "execute_result"
    }
   ],
   "source": [
    "df.shape"
   ]
  },
  {
   "cell_type": "code",
   "execution_count": 7,
   "id": "2cb8c976-decd-470b-aaf2-b3768345f58f",
   "metadata": {},
   "outputs": [
    {
     "data": {
      "text/plain": [
       "2"
      ]
     },
     "execution_count": 7,
     "metadata": {},
     "output_type": "execute_result"
    }
   ],
   "source": [
    "#sich wiederholende Zeilen zeigen\n",
    "df.duplicated().sum()"
   ]
  },
  {
   "cell_type": "code",
   "execution_count": 8,
   "id": "82849c85-9972-4212-bed7-afe6ccb45b39",
   "metadata": {},
   "outputs": [],
   "source": [
    "# sich wiederholendeZeilen entfernen\n",
    "df.drop_duplicates(inplace=True)"
   ]
  },
  {
   "cell_type": "code",
   "execution_count": 9,
   "id": "f469af5c-fd9e-4af4-8333-0c2fff004d99",
   "metadata": {},
   "outputs": [
    {
     "data": {
      "text/plain": [
       "brand_name          0\n",
       "model               0\n",
       "display             0\n",
       "front_camera        0\n",
       "rare_camera         0\n",
       "processor           0\n",
       "battery_capacity    0\n",
       "ram                 0\n",
       "internal_storage    0\n",
       "price(€)            0\n",
       "dtype: int64"
      ]
     },
     "execution_count": 9,
     "metadata": {},
     "output_type": "execute_result"
    }
   ],
   "source": [
    "# Null Werte\n",
    "df.isnull().sum()"
   ]
  },
  {
   "cell_type": "markdown",
   "id": "121d0019-757c-484e-9996-c52fc10a6952",
   "metadata": {},
   "source": [
    "Nachdem die Methode \"drop\" verwendet wurde, muss der Index immer zurückgesetzt werden. Dies ist besonders wichtig, wenn Schleifen über Zeilen verwendet werden."
   ]
  },
  {
   "cell_type": "code",
   "execution_count": 10,
   "id": "75be87df-8d1c-4d90-a280-5c842851a8ff",
   "metadata": {},
   "outputs": [],
   "source": [
    "df.reset_index(drop=True, inplace=True) # drop = true um den ehemaligen Index zu entfernen"
   ]
  },
  {
   "cell_type": "code",
   "execution_count": 11,
   "id": "ec586a4a-4f57-42db-8553-dfe6f66e4e72",
   "metadata": {},
   "outputs": [
    {
     "data": {
      "text/plain": [
       "brand_name           object\n",
       "model                object\n",
       "display              object\n",
       "front_camera         object\n",
       "rare_camera          object\n",
       "processor            object\n",
       "battery_capacity     object\n",
       "ram                 float64\n",
       "internal_storage      int64\n",
       "price(€)            float64\n",
       "dtype: object"
      ]
     },
     "execution_count": 11,
     "metadata": {},
     "output_type": "execute_result"
    }
   ],
   "source": [
    "df.dtypes"
   ]
  },
  {
   "cell_type": "code",
   "execution_count": 12,
   "id": "f41386a4-6c20-49b2-a841-9b18b1de02ea",
   "metadata": {},
   "outputs": [
    {
     "data": {
      "text/plain": [
       "Index(['brand_name', 'model', 'display', 'front_camera', 'rare_camera',\n",
       "       'processor', 'battery_capacity', 'ram', 'internal_storage', 'price(€)'],\n",
       "      dtype='object')"
      ]
     },
     "execution_count": 12,
     "metadata": {},
     "output_type": "execute_result"
    }
   ],
   "source": [
    "df.columns"
   ]
  },
  {
   "cell_type": "code",
   "execution_count": 13,
   "id": "05110800-2a0c-4cf6-8a2f-bb87dcde636a",
   "metadata": {},
   "outputs": [],
   "source": [
    "def unique_values():\n",
    "    for column in df.columns:\n",
    "        unique_values = df[column].unique()\n",
    "        print(f\"Einzigartige Werte in Spalte '{column}':\\n {unique_values}\")\n",
    "        print('\\n')\n",
    "# unique_values()"
   ]
  },
  {
   "cell_type": "markdown",
   "id": "d286553c-7359-4937-83c1-83e50b7209cc",
   "metadata": {},
   "source": [
    "<details>\n",
    "<summary>Einzigartige Werte für jede Spalte anzeigen</summary>\n",
    "\n",
    "```python\n",
    "Einzigartige Werte in Spalte 'brand_name':\r\n",
    " ['SAMSUNG' 'XIAOMI' 'APPLE' 'ONEPLUS' 'OPPO']\r\n",
    "\r\n",
    "\r\n",
    "Einzigartige Werte in Spalte 'model':\r\n",
    " ['Samsung S24 Ultra' 'Samsung S24 Plus' 'Samsung Zero' ... 'Oppo A31'\r\n",
    " 'Oppo Reno 4 SE' 'Oppo Reno 4 SE 256GB']\r\n",
    "\r\n",
    "\r\n",
    "Einzigartige Werte in Spalte 'display':\r\n",
    " ['6.8\" (120Hz)' '6.6\" (120Hz)' '6.41\" (120Hz)' '6.1\" (120Hz)'\r\n",
    " '6.5\" (90Hz)' '6.5\"' '6.7\" (120Hz)' '6.6\" (90 (unconfirmed)Hz)'\r\n",
    " '6.7\" (90Hz)' '6.4\" (90Hz)' '6.5\" (120Hz)' '6.6\"' '6.6\" (90Hz)'\r\n",
    " '7.6\" (120Hz)' '6.7\"' '6.4\" (120Hz)' '6.4\" (60 (International)Hz)'\r\n",
    " '6.55\" (90Hz)' '5.8\" (90Hz)' '6.4\"' '7.2\"' '6.1\"' '6.9\" (120Hz)'\r\n",
    " '6.2\" (120Hz)' '7.5\"' '6.2\"' '5.14\"' '6.9\"' '5.7\"' '10.4\"' '4.6\"' '6.8\"'\r\n",
    " '6.3\"' '5.0\"' '5.8\"' '5.9\"' '7.3\"' '6.0\"' '5.5\"' '5.6\"' '4.7\"' '5.2\"'\r\n",
    " '4.0\"' '5.1\"' '4.5\"' '4.3\"' '4.8\"' '8.0\"' '5.3\"' '6.67\" (120Hz)'\r\n",
    " '6.58\" (90Hz)' '6.6\" (144Hz)' '6.55\" (120Hz)' '6.43\" (90Hz)'\r\n",
    " '6.73\" (120Hz)' '6.28\" (120Hz)' '6.53\"' '6.71\"' '6.67\" (90Hz)' '6.43\"'\r\n",
    " '6.3\" (120Hz)' '6.52\"' '6.47\"' '6.67\" (144Hz)' '6.81\" (120Hz)' '8.01\"'\r\n",
    " '6.53\" (90Hz)' '11.0\" (120Hz)' '6.67\"' '7.1\"' '6.22\"' '6.39\"' '6.26\"'\r\n",
    " '10.9\"' '12.9\" (120Hz)' '5.4\"' '5.4\" (120Hz)' '10.2\"' '1.78\"' '7.9\"'\r\n",
    " '10.5\"' '12.9\"' '11.0\"' '3.5\"' '6.56\" (90Hz)' '6.59\" (120Hz)' '6.56\"'\r\n",
    " '6.59\"' '6.49\" (90Hz)' '6.62\" (120Hz)' '6.52\" (90Hz)' '6.55\"' '6.44\"'\r\n",
    " '6.78\"' '6.41\"' '6.28\"' '6.01\"' '6.59\" (90Hz)' '6.78\" (120Hz)'\r\n",
    " '7.1\" (120Hz)' '6.43\" (120Hz)' '6.51\"' '6.57\"' '6.42\"' '6.23\"']\r\n",
    "\r\n",
    "\r\n",
    "Einzigartige Werte in Spalte 'front_camera':\r\n",
    " ['40MP' '10MP' '32 MP' '5MP' '8 MP' '13MP' '32MP' '8MP' '13 MP' '20 MP'\r\n",
    " '5 MP' '40 MP' '10 MP' '12MP' '4MP' '4 MP + 10 MP' 'Unspecified MP'\r\n",
    " '16 MP + 10 MP' '16 MP' '25 MP'\r\n",
    " 'Motorized pop-up rotating main camera module' '10 MP + 8 MP'\r\n",
    " '10 MP + 1228 MP + 10 MP' '24 MP' '12 MP' '5 MP / 13 MP' '16 MP + 108 MP'\r\n",
    " '2 MP' '8 MP + 2 MP' 'VGA' '2 MP (USA)\\n5 MP' '3.7 MP' '2.1 MP' '1.9 MP'\r\n",
    " '1.3 MP' '16MP' '20MP' 'Under-display 20 MP' 'Pop-up 20 MP'\r\n",
    " '20 MP + 082 MP' 'Motorized pop-up 20 MP' '7 MP' '1.2 MP' '-' 'No'\r\n",
    " 'Unknown camera' '32 MP + 088 MP' 'Motorized pop-up 16 MP' '44MP'\r\n",
    " '32 MP + 32 MP' '44 MP' '16 MP + 102 MP' '16 MP + 2 MP' '44 MP + 072 MP'\r\n",
    " 'Pop-up 16 MP' 'Pop-up 25 MP']\r\n",
    "\r\n",
    "\r\n",
    "Einzigartige Werte in Spalte 'rare_camera':\r\n",
    " ['108MP + 10MP + 10MP + 12MP' '50MP + 10MP + 12MP' '12 MP + 8 MP + 12 MP'\r\n",
    " '50MP + 2MP + 2MP' '50MP + 2MP' '12MP + 12MP'\r\n",
    " '50MP + 8MP + 2MP (not confirmed)' '108MP + 13MP + 8MP + 2MP'\r\n",
    " '108MP + 8MP + 2MP + 2MP' '50MP + 8MP + 2MP + 2MP (not confirmed)'\r\n",
    " '48MP + 8MP + 5MP + 2MP' '108MP + 12MP + 5MP + 5MP'\r\n",
    " '64MP + 12MP + 5MP + 5MP' '50MP + 5MP + 2MP' '50MP + 13MP + 8MP + 2MP'\r\n",
    " '64MP + 8MP + 2MP + 2MP' '64 MP + 12 MP + 1125 MP + 5 MP'\r\n",
    " '50MP + 8MP + 2MP + 2MP' '13 MP + 2 MP + 2 MP' '48MP + 2MP' '8 MP'\r\n",
    " '13MP + 2MP' '13 MP + 2 MP' '12 MP + 64 MP + 12 MP' '108 MP + 12 MP'\r\n",
    " '64 MP + 12 MP + 5 MP + 5 MP' '48 MP + 8 MP + 5 MP + 2 MP'\r\n",
    " '12 MP + 12 MP + 12 MP' '50 MP + 5 MP + 1122 MP + 2 MP'\r\n",
    " '50MP + 8MP + 2MP' '50 MP + 5 MP + 2 MP + 2 MP' '50 MP + 5 MP + 2 MP'\r\n",
    " '13 MP' '50 MP + 8 MP + 1122 MP' '108 MP + 10 MP + 10 MP + 12 MP'\r\n",
    " '50 MP + 10 MP + 12 MP' '50 MP + 2 MP + 2 MP'\r\n",
    " '48 MP + 8 MP + 1122 MP + 2 MP' '64 MP + 12 MP + 5 MP'\r\n",
    " '48 MP + 8 MP + 5 MP + 5 MP' '48MP + 20MP + 16MP + 12MP'\r\n",
    " '64 MP + 8 MP + 1125 MP + 5 MP' '64 MP + 5 MP + 1122 MP'\r\n",
    " '64 MP + 8 MP + 5 MP' '64MP' '48 MP + 5 MP + 2 MP + 2 MP' '12 MP + 12 MP'\r\n",
    " '108 MP + 12 MP + 12 MP' '48 MP + 8 MP + 1125 MP'\r\n",
    " '64 MP + 8 MP + 12 MP + 5 MP' '64 MP + 8 MP + 1122 MP + 2 MP'\r\n",
    " '48 MP + 5 MP + 1122 MP' '64 MP + 8 MP + 5 MP + 5 MP'\r\n",
    " '64 MP + 12 MP + +5 MP + +5 MP'\r\n",
    " '108 MP (2nd gen) + 10 MP + 10 MP + 12 MP' '64 MP + 12 MP + 12 MP'\r\n",
    " '13 MP + 5 MP + 2 MP' '48 MP + 8 MP + 5 MP' '64 MP + 8 MP + 1125 MP'\r\n",
    " '108 MP + 13 MP + 12 MP' '48 MP + 8 MP + 2 MP + 2 MP'\r\n",
    " ' 48 MP + 8 MP + 5 MP + 5 MP' '48 MP + 8 MP + 1125 MP + 5 MP'\r\n",
    " '16 MP + 8 MP + 2 MP + 2 MP' '108 MP + 48 MP + 12 MP + 03 MP'\r\n",
    " '12 MP + 64 MP + 12 MP + 03 MP' '12 MP' '48 MP + 12 MP + 5 MP'\r\n",
    " '48 MP + 12 MP + 5 MP + 5 MP' '13 MP + 8 MP + 5 MP' '25 MP + 8 MP + 5 MP'\r\n",
    " '12 MP + 12 MP + 16 MP' '5 MP' '32 MP + 8 MP + 5 MP' '48 MP + 8 MP'\r\n",
    " '12 MP + 16 MP' '16 MP + 5 MP' '13 MP + 5 MP' '24 MP + 10 MP + 5 MP'\r\n",
    " '12 MP + 5 MP' '24 MP + 10 MP + 8 MP + 5 MP' '24 MP + 8 MP + 5 MP'\r\n",
    " '8 MP + 13 MP' '16 MP' '8 MP + 5 MP' '200MP + 8MP + 2MP'\r\n",
    " '64MP + 8MP + 2MP' '50MP + 50MP + 50MP' '50MP + 13MP + 8MP' '13MP'\r\n",
    " '108MP + 8MP + 2MP' '108MP + 64MP + 8MP + 52MP' '48 MP + 2 MP + 2 MP'\r\n",
    " '50MP + 13MP + 2MP' '50 MP + 48 MP + 48 MP'\r\n",
    " '108MP + 8MP + 2MP (not confirmed)' '50 MP + 13 MP + 8 MP'\r\n",
    " '50MP + 13MP + 5MP' '50MP + 50MP + 50MP (not confirmed)'\r\n",
    " '108MP + 16MP + 8MP' '64 MP + 8 MP + -2 MP' '108MP + 12MP + 5MP'\r\n",
    " '8 MP + 008 MP' '108MP + 8MP + 5MP' '50.3 MP + 48 MP + 48 MP'\r\n",
    " '200MP + 16MP + 8MP' '8 MP + 03 MP' '64 MP + 8 MP + 1122 MP + 5 MP'\r\n",
    " '50 MP + 2 MP' '64 MP + 8 MP + 1122 MP' '108 MP + 8 MP + 2 MP'\r\n",
    " '64 MP + 8 MP + 2 MP' '13 MP + 8 MP + 1125 MP + 2 MP' '50MP + 8MP'\r\n",
    " '108 MP + 8 MP + 13 MP' '64MP + 13MP + 2MP'\r\n",
    " '108 MP + 13 MP + -8 MP + 2 MP' '50 MP + 8 MP + 2 MP'\r\n",
    " '108 MP + 8 MP + 1125 MP' '64 MP + 8 MP + -5 MP' '108 MP + 13 MP + 5 MP'\r\n",
    " '64 MP + 13 MP + 2 MP' '108 MP + 8 MP + 2 MP + 2 MP'\r\n",
    " '50 MP + 8 MP + 2 MP + 2 MP' '108 MP + 13 MP + 1125 MP'\r\n",
    " '50 MP + 8 MP + 13 MP' '108 MP + 8 MP + 102 MP' '50 MP + 13 MP + 1125 MP'\r\n",
    " '50 MP + 50 MP + 50 MP' '50 MP + 8 MP' '64MP + 13MP + 8MP + 2MP'\r\n",
    " '108 MP + 8 MP + 5 MP' '108 MP + 8 MP + 1125 MP + 2 MP'\r\n",
    " '64 MP + 13 MP + 1125 MP' '48 MP + 8 MP + 1125 MP + 2 MP'\r\n",
    " '48MP (wide) + 2MP (macro) + 2MP (depth)'\r\n",
    " '64 MP (wide) + 8 MP (ultrawide) + 5 MP (macro)'\r\n",
    " '108 MP + 13 MP + 5 MP + 2 MP' '108 MP + 8 MP + 1122 MP + 2 MP'\r\n",
    " '64 MP + 13 MP + 102 MP + 2 MP' '48 MP + 8 MP + 1122 MP'\r\n",
    " '64 MP + 8 MP + 2 MP + 2 MP' '64 MP + 13 MP + 5 MP'\r\n",
    " '64 MP + 13 MP + 2 MP + 2 MP' '13 MP + 8 MP + 5 MP + 2 MP'\r\n",
    " '48 MP + 48 MP + 12 MP + 20 MP' '64 MP + 13 MP + 5 MP + 2 MP'\r\n",
    " '64 MP + 5 MP + 13 MP + 2 MP' '64 MP + 8 MP + 5 MP + 2 MP'\r\n",
    " '64 MP + 8 MP + 2 MP + 5 MP' '64 MP + 8 MP + 1125 MP + 2 MP'\r\n",
    " '108 MP + 13 MP + 2 MP + 2 MP' '108 MP + 12 MP + 5 MP + 20 MP'\r\n",
    " '12 MP + 2 MP' '48 MP + 8 MP + 13 MP' '48 MP + 12 MP' '48 MP + 5 MP'\r\n",
    " '48 MP + 5 MP + 12 MP + 2 MP' '48MP + 12MP + 12MP' '12 MP + 10 MP' 'No'\r\n",
    " '3.15 MP' '2 MP' '48MP + 8MP + 2MP' '64MP + 2MP + 2MP'\r\n",
    " '50MP + 48MP + 48MP' '50MP + 48MP + 8MP' '64MP + 12MP + 5MP'\r\n",
    " '50MP + 8MP + 50MP' '48 MP + 2 MP' '48 MP + 8 MP + 50 MP'\r\n",
    " '48MP + 16MP + 5MP + 2MP' '48 MP + 8 MP + 2 MP' '64 MP + 2 MP + 2 MP'\r\n",
    " '48 MP + 50 MP + 2 MP' '50 MP + 16 MP + 102 MP' '50 MP + 1048 MP + 2 MP'\r\n",
    " '48 MP + 16 MP + 105 MP + 2 MP' '48 MP + 8 MP + 50 MP + 102 MP'\r\n",
    " '48 MP + 16 MP + 5 MP + 2 MP' '48 MP + 8 MP + 48 MP + 5 MP'\r\n",
    " '48 MP + 12 MP + 16 MP' '48 MP + 8 MP + 16 MP' '48 MP'\r\n",
    " '16 MP + 20 MP + 16 MP' '16 MP + 20 MP' '50 MP + 13 MP + 50 MP + 3 MP'\r\n",
    " '8MP' '50MP + 13MP + 50MP' '16MP + 2MP (not confirmed)'\r\n",
    " '13MP + 2MP (not confirmed)' '64MP + 8MP + 2MP (not confirmed)'\r\n",
    " '48MP + 2MP + 2MP' '50MP + 12MP + 2MP (not confirmed)' '108 MP + 2 MP'\r\n",
    " '50 MP + 13 MP + 64 MP' '50MP + 50MP + 64MP' '50MP + 50MP + 13MP'\r\n",
    " '50 MP + 13 MP + 50 MP' '50 MP + 13 MP + 16 MP' '50 MP + MP + 2 MP'\r\n",
    " '50 MP + 13 MP + 16 MP + 102 MP' '13MP + 2MP + 2MP'\r\n",
    " '12MP main sensor8MP ultra-wide lens2MP portrait lense2MP portrait lense'\r\n",
    " '50 MP + 13 MP + 16 MP + 2 MP' '48 MP + 8 MP + 1122 MP + 1752 MP'\r\n",
    " '16 MP + 2 MP + 2 MP' '48 MP + 13 MP + 48 MP'\r\n",
    " '12 MP + 8 MP + 2 MP + 2 MP' ' 12 MP + 2 MP + 2 MP'\r\n",
    " '64 MP + 13 MP + 8 MP + 2 MP'\r\n",
    " '13MP (Telephoto) + 48MP(Primary) + 8MP(Ultrawide) + 2MP (depth))'\r\n",
    " '48 MP + 13 MP + 8 MP + 142 MP' '16 MP + 2 MP' 'Pop-up 16 MP + 20 MP']\r\n",
    "\r\n",
    "\r\n",
    "Einzigartige Werte in Spalte 'processor':\r\n",
    " ['Exynos ' 'Snapdragon 888 5G' 'Mediatek ' ' Snapdragon' 'Snapdragon '\r\n",
    " 'MediaTek ' 'Snapdragon 720G' ' Snapdragon 450' 'Exynos 2200 '\r\n",
    " 'MediaTek Helio G35 ' ' Snapdragon 8 Gen 1' 'Exynos 850 ' 'MT6739W'\r\n",
    " 'Snapdragon 778G 5G' 'Exynos 2100' ' Snapdragon 8 Gen 1 Plus'\r\n",
    " 'MediaTek G35' ' Snapdragon 730G' 'Exynos 1200' ' Snapdragon 750G 5G'\r\n",
    " 'Dimensity 700 5G ' 'Mediatek G80' 'Snapdragon 750G '\r\n",
    " ' Snapdragon 8 Gen1' 'Exynos 2100 ' 'Unisoc SC9863A '\r\n",
    " ' Snapdragon 865 5G' 'MediaTek G80' ' Snapdragon 778G 5G'\r\n",
    " ' Snapdragon 750 5G' ' Snapdragon 750' 'Snapdragon 855' 'Mediatek P35 '\r\n",
    " ' Snapdragon 720G' 'Exynos 9611' 'Dimensity 720 5G' 'MediaTek P35'\r\n",
    " 'Mediatek G80 ' ' Snapdragon 888 5G' 'Exynos 850' 'Exynos 990'\r\n",
    " 'Exynos 9611 ' 'MT6833 Dimensity 700 5G ' 'Snapdragon 750G 5G'\r\n",
    " 'Exynos 9825 ' 'MT6853 Dimensity 720 5G ' 'Snapdragon 450'\r\n",
    " 'Snapdragon 865+' 'MT6739WW' 'Exynos 992' 'MediaTek P65' 'Snapdragon 439'\r\n",
    " 'Exynos 980 ' 'Snapdragon 730' 'Mediatek P65 ' 'Exynos 990 '\r\n",
    " 'Snapdragon 820' ' Snapdragon 855+' 'Exynos 9810' 'Exynos 7904'\r\n",
    " 'MediaTek P22' 'Exynos 7870 Octa' 'Snapdragon 675' 'Exynos 9820 '\r\n",
    " 'Exynos 7884' 'Exynos 9820' 'Exynos 9610' 'Snapdragon 710'\r\n",
    " 'Snapdragon 425' 'Snapdragon 660' 'Exynos 7885' 'Exynos 7570 Quad'\r\n",
    " 'Exynos 9810 ' 'Exynos 3475 Quad' 'Exynos 8895 ' 'Snapdragon 835'\r\n",
    " 'MediaTek P20' 'Exynos 8895' 'Snapdragon 626' 'Snapdragon 430'\r\n",
    " 'Exynos 7880' 'Spreadtrum SC9830' 'MT6737T' 'Snapdragon 653'\r\n",
    " 'Exynos 7420 Octa' 'Exynos 8890 Octa' 'Snapdragon 410' 'Snapdragon 625'\r\n",
    " 'Snapdragon 617' 'Snapdragon 652' 'Exynos 7580 Octa' 'Snapdragon 615'\r\n",
    " ' Snapdragon 615' 'Spreadtrum' 'Snapdragon 805' '-' 'Exynos 3470 Quad'\r\n",
    " 'Snapdragon 400' 'Snapdragon 801' ' Snapdragon 800' 'Pega-Dual +XMM6262'\r\n",
    " 'Snapdragon 800' 'Exynos 5410 Octa' 'Snapdragon 600' 'Exynos 4412 Quad'\r\n",
    " ' Snapdragon 8 Gen 2' 'Dimensity 700 5G' ' Snapdragon 8+ Gen 1'\r\n",
    " 'Mediatek Helio G99 ' 'Snapdragon 662' 'Snapdragon 8 Gen 2 '\r\n",
    " 'Dimensity 1080' 'Dimensity 8100 ' 'Mediatek Helio G96 '\r\n",
    " 'Mediatek Helio A22 ' 'Dimensity 1100 5G' 'Dimensity 8100 5G'\r\n",
    " 'Dimensity 1300 5G' 'Snapdragon 730G' 'Dimensity 1200 5G '\r\n",
    " 'MediaTek Helio G99 ' 'Dimensity 700 ' 'Mediatek Helio G95 '\r\n",
    " ' Snapdragon 778G+ 5G' 'Dimensity 1200 5G' 'Dimensity 810 5G '\r\n",
    " 'Dimensity 9000 5G' 'Dimensity 8000 5G' 'Snapdragon 732G'\r\n",
    " ' Snapdragon 680 4G' 'Mediatek G25 ' ' Snapdragon 662'\r\n",
    " 'Dimensity 920 5G ' ' Snapdragon 870 5G' 'MT6833 Dimensity 700 '\r\n",
    " 'Mediatek G96 ' ' Snapdragon 695 5G' 'Snapdragon 860'\r\n",
    " ' Snapdragon 898 5G' 'Dimensity 920 5G' 'MediaTek G25' 'Dimensity 810 5G'\r\n",
    " 'Snapdragon 778G' 'Snapdragon 870 5G' ' Snapdragon 888+ 5G'\r\n",
    " ' Snapdragon 732G' 'Mediatek G35 ' 'MediaTek G88' 'Mediatek G88 '\r\n",
    " 'Snapdragon 480 5G' 'Dimensity 1100 5G ' ' Snapdragon 888'\r\n",
    " 'Snapdragon 888' 'Mediatek G85' 'MediaTek G95' ' Snapdragon 860'\r\n",
    " 'Snapdragon 732G ' 'Snapdragon 780G' 'Snapdragon 678 '\r\n",
    " 'Dimensity 800U 5G ' ' Snapdragon 865' 'Mediatek G35' 'Snapdragon 865'\r\n",
    " 'MT6889Z Dimensity 1000+ ' 'Mediatek G90T ' ' Snapdragon 665'\r\n",
    " 'Snapdragon 632' 'Apple Bionic' 'Apple A15 Bionic ' 'Apple A14 Bionic '\r\n",
    " 'Apple M2' 'Apple A14 Bionic' 'Apple A16 Bionic' 'Apple A15 Bionic'\r\n",
    " 'Apple M1' 'Apple A14' 'Apple A13 Bionic' 'Apple A13 Bionic '\r\n",
    " 'Apple A10 Fusion' 'Apple S5' 'Apple A12 Bionic' 'Apple A12X Bionic'\r\n",
    " 'Apple A11 Bionic' 'Apple A10 Fusion ' 'Apple A9' 'Apple A9 ' 'Apple A8'\r\n",
    " 'Apple A7' 'Apple A6' 'Apple A5' 'Apple A4' 'Dimensity ' 'Dimensity 810 '\r\n",
    " 'Snapdragon 690 5G' 'Dimensity 8100-Max ' 'Dimensity 900 5G '\r\n",
    " ' Snapdragon 480 5G' ' Snapdragon 460' ' Snapdragon 690 5G'\r\n",
    " 'Snapdragon 460' ' Snapdragon 765G' 'Snapdragon 845'\r\n",
    " 'Dimensity 8100 Max 5G ' 'Dimensity 1300 5G ' 'Dimensity 8000 Max'\r\n",
    " 'Dimensity 1200-Max 5G' 'MediaTek P95' 'MediaTek Helio P22'\r\n",
    " 'Dimensity 1200 Max 5G' 'Dimensity 800U 5G' 'Snapdragon 768G 5G'\r\n",
    " 'Mediatek P95 ' 'Dimensity 1000+ ' 'MediaTek P70' 'Snapdragon 765G 5G'\r\n",
    " 'Snapdragon 665' 'MT6765V' 'MT6873V Dimensity 800 5G' 'Mediatek P90'\r\n",
    " 'MediaTek P60' 'MediaTek P23' ' Snapdragon 435' ' Snapdragon 616'\r\n",
    " 'Dimensity 720']\r\n",
    "\r\n",
    "\r\n",
    "Einzigartige Werte in Spalte 'battery_capacity':\r\n",
    " [' 5000 mAh' ' 4500 mAh' ' 3700 mAh' ' 4400 mAh' ' 4800 mAh' ' 7000 mAh'\r\n",
    " ' 4000 mAh' '6000mAh' ' 3300 mAh' ' 6000 mAh' '4500mAh' '4000mAh'\r\n",
    " '5000mAh' '3000mAh' '4300mAh' 'Non-removable 4500 mAh' '7040mAh'\r\n",
    " 'Non-removable 7000 mAh' 'Non-removable 3500 mAh' '-' '3300mAh' '3500mAh'\r\n",
    " '2600mAh' '3700mAh' '3100mAh' '4100mAh' 'Non-removable 3400 mAh'\r\n",
    " '3400mAh' '4380mAh' '3800mAh' '2000mAh' 'Non-removable 3300 mAh'\r\n",
    " '3600mAh' '2400mAh' '1500mAh' '2050mAh' '2900mAh' '1850mAh' '3050mAh'\r\n",
    " '2800mAh' '2550mAh' '1900mAh' '2300mAh' '3220mAh' ' 2100 mAh' '2100mAh'\r\n",
    " '3200mAh' '2330mAh' '4600mAh' ' 5080 mAh' ' 4700 mAh' ' 4600 mAh'\r\n",
    " ' 5500 mAh' ' 4860 mAh' ' 4300 mAh' ' 5260 mAh' ' 5065 mAh' ' 5020 mAh'\r\n",
    " ' 4520 mAh' ' 4250 mAh' ' 5160 mAh' ' 4650 mAh' ' 8720 mAh' ' 4780 mAh'\r\n",
    " ' 4820 mAh' '5160mAh' '4700mAh' '5020mAh' '5260mAh' '4780mAh' '4720mAh'\r\n",
    " ' 4323 mAh' ' 3200 mAh' ' 3279 mAh' ' 2018 mAh'\r\n",
    " '(28.6 Wh), non-removablemAh' ' 10758 mAh' ' 3687 mAh' ' 7538 mAh'\r\n",
    " ' 2438 mAh' ' 2815 mAh' ', non-removablemAh' ' 1821 mAh'\r\n",
    " ' (28.6 Wh), non-removablemAh' ' 3125 mAh' ' 4373 mAh' ' 3240 mAh'\r\n",
    " ' 2227 mAh' '1821mAh' ' 3969 mAh' ' 3046 mAh' '3110mAh' '8827mAh'\r\n",
    " '5124mAh' '8134mAh' 'Non-removable 9720 mAh' '7812mAh' '3174mAh'\r\n",
    " '2658mAh' '2942mAh' ' 2716 mAh' '2691mAh' '1960mAh' '1624mAh' '2750mAh'\r\n",
    " '1715mAh' '2915mAh' '1810mAh' '1560mAh' '1440mAh' '1432mAh' '1420mAh'\r\n",
    " '4115mAh' '4510mAh' ' 3800 mAh' ' 4230 mAh' ' 4310 mAh' ' 4350 mAh'\r\n",
    " ' 4025 mAh' ' 4040 mAh' ' 4015 mAh' '4015mAh' '4230mAh' '4025mAh'\r\n",
    " '4260mAh' '3890mAh' '4020mAh' ' 3500 mAh' 'Non-removable 4230 mAh'\r\n",
    " '3730mAh' '2630mAh']\r\n",
    "\r\n",
    "\r\n",
    "Einzigartige Werte in Spalte 'ram':\r\n",
    " [  8.    4.    6.    3.   12.    2.    1.   16.    1.5 512.  768.   64.\r\n",
    " 254.    0.  256.  128. ]\r\n",
    "\r\n",
    "\r\n",
    "Einzigartige Werte in Spalte 'internal_storage':\r\n",
    " [ 128  256   64   32  512   16    8    4    0 1024 2048 1000]\r\n",
    "\r\n",
    "\r\n",
    "Einzigartige Werte in Spalte 'price(€)':\r\n",
    " [1.81081e+03 1.02702e+03 6.10810e+02 1.35135e+03 1.35130e+02 1.59999e+03\r\n",
    " 1.89180e+02 2.48640e+02 4.59450e+02 4.21620e+02 3.24320e+02 3.13510e+02\r\n",
    " 4.32430e+02 2.91890e+02 2.27020e+02 2.59450e+02 3.56750e+02 2.81080e+02\r\n",
    " 2.70260e+02 1.03783e+03 9.35130e+02 1.29720e+02 1.62162e+03 1.08100e+02\r\n",
    " 7.02700e+02 1.56750e+02 1.72970e+02 5.13510e+02 1.51350e+02 9.99990e+02\r\n",
    " 1.61621e+03 2.48648e+03 1.11351e+03 1.24320e+02 4.05400e+02 4.43240e+02\r\n",
    " 1.67567e+03 1.67560e+02 1.83780e+02 2.86480e+02 2.05400e+02 2.10810e+02\r\n",
    " 2.21620e+02 3.94590e+02 2.97290e+02 3.02700e+02 9.45940e+02 1.13513e+03\r\n",
    " 1.18918e+03 1.45945e+03 1.56756e+03 7.48640e+02 7.89180e+02 1.00000e+02\r\n",
    " 6.62160e+02 2.16210e+02 2.37830e+02 4.48640e+02 3.29720e+02 3.51350e+02\r\n",
    " 3.67560e+02 3.35130e+02 4.75670e+02 5.24320e+02 3.40540e+02 1.75675e+03\r\n",
    " 1.99990e+02 3.89180e+02 4.81080e+02 1.21620e+02 1.27030e+02 2.75670e+02\r\n",
    " 2.32430e+02 1.08108e+03 1.70270e+03 1.40540e+02 1.23243e+03 1.62160e+02\r\n",
    " 4.54050e+02 1.94590e+02 2.54050e+02 2.64860e+02 1.78370e+02 9.02600e+01\r\n",
    " 9.67500e+01 8.10800e+01 9.18900e+01 1.00540e+02 1.15680e+02 1.31351e+03\r\n",
    " 9.54050e+02 1.48650e+02 5.56750e+02 7.56700e+01 9.72970e+02 1.07026e+03\r\n",
    " 1.13510e+02 1.02700e+02 4.27020e+02 3.78370e+02 9.24320e+02 1.22702e+03\r\n",
    " 1.01621e+03 4.77920e+02 5.40540e+02 6.16210e+02 8.64800e+01 1.64860e+02\r\n",
    " 9.18910e+02 7.02700e+01 4.37840e+02 4.64860e+02 2.43240e+02 1.54050e+02\r\n",
    " 8.91890e+02 7.83780e+02 1.18910e+02 1.83783e+03 3.62160e+02 3.18920e+02\r\n",
    " 1.35140e+02 9.73000e+01 2.00000e+02 1.78380e+02 1.08110e+02 8.64900e+01\r\n",
    " 1.45950e+02 4.00000e+02 4.86480e+02 5.18910e+02 6.48650e+02 2.27030e+02\r\n",
    " 4.10810e+02 2.16220e+02 2.08110e+02 9.72900e+01 5.29720e+02 5.94590e+02\r\n",
    " 8.64860e+02 8.10810e+02 2.16000e+00 3.18910e+02 5.67560e+02 6.70260e+02\r\n",
    " 7.40540e+02 1.04324e+03 1.10810e+03 6.48640e+02 1.51351e+03 1.57837e+03\r\n",
    " 1.63783e+03 3.45940e+02 1.05410e+02 4.16210e+02 7.29720e+02 8.21620e+02\r\n",
    " 4.97290e+02 9.62160e+02 7.35130e+02 7.56750e+02 7.99990e+02 5.83780e+02\r\n",
    " 6.21620e+02 6.75670e+02 5.51350e+02 3.83780e+02 3.99990e+02 8.37800e+01\r\n",
    " 9.45900e+01 7.45940e+02 8.43240e+02 3.72970e+02 1.07567e+03 1.12432e+03\r\n",
    " 1.17837e+03 6.59450e+02 7.18910e+02 4.91890e+02 5.35130e+02 1.27567e+03\r\n",
    " 1.45940e+02 8.91800e+01 8.37830e+02 8.75670e+02 1.37830e+02 8.43200e+01\r\n",
    " 6.05400e+02 1.16210e+02 1.48640e+02 9.83780e+02 2.51891e+03 2.16216e+03\r\n",
    " 1.25945e+03 1.72972e+03 2.21621e+03 2.37837e+03 2.54054e+03 2.70270e+03\r\n",
    " 2.86486e+03 1.52432e+03 1.65405e+03 1.89189e+03 1.38918e+03 8.81080e+02\r\n",
    " 1.10270e+03 9.29720e+02 9.78370e+02 1.03243e+03 1.14594e+03 1.19999e+03\r\n",
    " 1.26486e+03 1.27026e+03 1.32972e+03 1.47567e+03 1.24324e+03 1.40540e+03\r\n",
    " 1.53135e+03 1.62216e+03 1.86973e+03 2.12973e+03 1.62811e+03 1.74270e+03\r\n",
    " 2.00270e+03 2.25027e+03 1.07189e+03 1.22000e+03 1.47514e+03 1.22216e+03\r\n",
    " 1.34757e+03 1.62432e+03 1.34541e+03 1.44595e+03 1.65135e+03 1.24270e+03\r\n",
    " 1.54865e+03 1.03784e+03 1.08919e+03 1.19189e+03 9.37840e+02 9.86490e+02\r\n",
    " 1.21621e+03 1.30270e+03 1.16216e+03 8.97290e+02 1.70270e+02 1.43240e+02\r\n",
    " 1.70260e+02 1.32430e+02 1.39450e+02 5.13500e+01 4.32400e+01 2.75680e+02\r\n",
    " 7.08100e+02 5.99990e+02 5.02700e+02 5.72970e+02 6.27020e+02 6.43240e+02\r\n",
    " 4.70260e+02 5.08100e+02 7.78370e+02 5.70260e+02 3.78380e+02 1.15135e+03\r\n",
    " 5.62160e+02 9.67560e+02 6.37830e+02 6.91890e+02]\n",
    "\n",
    "````"
   ]
  },
  {
   "cell_type": "markdown",
   "id": "6b3122c0-25a7-4b2b-87ce-d79a7915763d",
   "metadata": {},
   "source": [
    "Die Spalten `brand_name`, `model`, `display`, `ram`',`internal_storage`',`` sehen gut aus. Die andere Spalten enthalten jedoch viele Details die in separate Spalten extrahiert werden sollen."
   ]
  },
  {
   "cell_type": "markdown",
   "id": "dc9ef143-540d-4795-91b0-1596b82f06eb",
   "metadata": {},
   "source": [
    "Sehen wir die Spalte `battery_capacity` genau an hier könnten wir Zwei Kategorien auflisten `non removable` und `removable`"
   ]
  },
  {
   "cell_type": "markdown",
   "id": "3b7fd1fd-b2ab-49b9-ae0a-c5deb491815e",
   "metadata": {},
   "source": [
    "### Neue Spalte `bttr_non_rem` hinzufügen"
   ]
  },
  {
   "cell_type": "code",
   "execution_count": 14,
   "id": "e17d6eff-4412-4eaa-87bb-a1ad8c2c7967",
   "metadata": {},
   "outputs": [
    {
     "data": {
      "text/plain": [
       "22"
      ]
     },
     "execution_count": 14,
     "metadata": {},
     "output_type": "execute_result"
    }
   ],
   "source": [
    "# Zeig alle Zeilen die Zeichenfolgen die 'non' oder 'Non' oder 'Non-remov' oder 'non-remov' enthalten\n",
    "bttr_non_rem = df[df['battery_capacity'].str.contains('Non|non|Non-remov|non-remov')]\n",
    "bttr_non_rem.shape[0]"
   ]
  },
  {
   "cell_type": "markdown",
   "id": "556609a6-c9d3-4b76-b031-e0ce0aa06e05",
   "metadata": {},
   "source": [
    "Dafür werde ich df und die Spalte 'battery_capacity' von btr_non_rem zusammenbinden. Wenn die Batterie non removable gibe ich 1 als Inhalt, den Rest (die NaN values enthalten) fülle ich mit 0."
   ]
  },
  {
   "cell_type": "code",
   "execution_count": 15,
   "id": "1cc39011-520c-4a1d-af05-2a0241f55305",
   "metadata": {},
   "outputs": [],
   "source": [
    "bttr_non_rem = bttr_non_rem.rename(columns={'battery_capacity':'bttr_non_rem'})\n",
    "#bttr_non_rem.head()"
   ]
  },
  {
   "cell_type": "markdown",
   "id": "adda27e5-ca91-4d9e-9f30-4cd59a178de4",
   "metadata": {},
   "source": [
    "##### Werte von 'bttr_non_rem' durch des 1 ausfüllen"
   ]
  },
  {
   "cell_type": "code",
   "execution_count": 16,
   "id": "eff6050b-ea74-45c0-be5e-954009ab2c08",
   "metadata": {},
   "outputs": [],
   "source": [
    "# fülle die werte von 'bttr_non_rem' durch des 1 dafür benutzen wir lambda Funktion\n",
    "bttr_non_rem['bttr_non_rem'] = bttr_non_rem['bttr_non_rem'].apply(lambda x:1)"
   ]
  },
  {
   "cell_type": "markdown",
   "id": "8de60727-d77e-4749-b4e0-2b63e71edcc0",
   "metadata": {},
   "source": [
    "##### Join Dataframe"
   ]
  },
  {
   "cell_type": "code",
   "execution_count": 17,
   "id": "a0689ce2-4d98-41ac-beb7-508f99dd5d54",
   "metadata": {},
   "outputs": [],
   "source": [
    "df_merged = pd.merge(df, bttr_non_rem['bttr_non_rem'], left_index=True, right_index=True, how ='left')"
   ]
  },
  {
   "cell_type": "markdown",
   "id": "e16914f5-5138-4f7f-b875-0d6f07912db9",
   "metadata": {},
   "source": [
    "##### NaN Werte durch 0 ausfüllen"
   ]
  },
  {
   "cell_type": "code",
   "execution_count": 18,
   "id": "67e02b76-2916-435e-9cca-f002afbaad2c",
   "metadata": {},
   "outputs": [],
   "source": [
    "df_merged.fillna(0, inplace=True)"
   ]
  },
  {
   "cell_type": "code",
   "execution_count": 19,
   "id": "b46fd42b-68eb-448c-9e95-c966169b778d",
   "metadata": {},
   "outputs": [
    {
     "data": {
      "text/html": [
       "<div>\n",
       "<style scoped>\n",
       "    .dataframe tbody tr th:only-of-type {\n",
       "        vertical-align: middle;\n",
       "    }\n",
       "\n",
       "    .dataframe tbody tr th {\n",
       "        vertical-align: top;\n",
       "    }\n",
       "\n",
       "    .dataframe thead th {\n",
       "        text-align: right;\n",
       "    }\n",
       "</style>\n",
       "<table border=\"1\" class=\"dataframe\">\n",
       "  <thead>\n",
       "    <tr style=\"text-align: right;\">\n",
       "      <th></th>\n",
       "      <th>brand_name</th>\n",
       "      <th>model</th>\n",
       "      <th>display</th>\n",
       "      <th>front_camera</th>\n",
       "      <th>rare_camera</th>\n",
       "      <th>processor</th>\n",
       "      <th>battery_capacity</th>\n",
       "      <th>ram</th>\n",
       "      <th>internal_storage</th>\n",
       "      <th>price(€)</th>\n",
       "      <th>bttr_non_rem</th>\n",
       "    </tr>\n",
       "  </thead>\n",
       "  <tbody>\n",
       "    <tr>\n",
       "      <th>0</th>\n",
       "      <td>SAMSUNG</td>\n",
       "      <td>Samsung S24 Ultra</td>\n",
       "      <td>6.8\" (120Hz)</td>\n",
       "      <td>40MP</td>\n",
       "      <td>108MP + 10MP + 10MP + 12MP</td>\n",
       "      <td>Exynos</td>\n",
       "      <td>5000 mAh</td>\n",
       "      <td>8.0</td>\n",
       "      <td>128</td>\n",
       "      <td>1810.81</td>\n",
       "      <td>0.0</td>\n",
       "    </tr>\n",
       "    <tr>\n",
       "      <th>1</th>\n",
       "      <td>SAMSUNG</td>\n",
       "      <td>Samsung S24 Plus</td>\n",
       "      <td>6.6\" (120Hz)</td>\n",
       "      <td>10MP</td>\n",
       "      <td>50MP + 10MP + 12MP</td>\n",
       "      <td>Exynos</td>\n",
       "      <td>4500 mAh</td>\n",
       "      <td>8.0</td>\n",
       "      <td>128</td>\n",
       "      <td>1027.02</td>\n",
       "      <td>0.0</td>\n",
       "    </tr>\n",
       "  </tbody>\n",
       "</table>\n",
       "</div>"
      ],
      "text/plain": [
       "  brand_name              model       display front_camera  \\\n",
       "0    SAMSUNG  Samsung S24 Ultra  6.8\" (120Hz)         40MP   \n",
       "1    SAMSUNG   Samsung S24 Plus  6.6\" (120Hz)         10MP   \n",
       "\n",
       "                  rare_camera processor battery_capacity  ram  \\\n",
       "0  108MP + 10MP + 10MP + 12MP   Exynos          5000 mAh  8.0   \n",
       "1          50MP + 10MP + 12MP   Exynos          4500 mAh  8.0   \n",
       "\n",
       "   internal_storage  price(€)  bttr_non_rem  \n",
       "0               128   1810.81           0.0  \n",
       "1               128   1027.02           0.0  "
      ]
     },
     "execution_count": 19,
     "metadata": {},
     "output_type": "execute_result"
    }
   ],
   "source": [
    "df_merged.head(2)"
   ]
  },
  {
   "cell_type": "markdown",
   "id": "43b0a548-2c6b-4eef-a877-6a0dc41de8d1",
   "metadata": {},
   "source": [
    "### Neue Spalte `battery_capacity (mAh)` einfügen"
   ]
  },
  {
   "cell_type": "markdown",
   "id": "44bfccb8-de47-4833-967b-2a31002c6bba",
   "metadata": {},
   "source": [
    "Dieser Muster extrahiert digital Ziffern aus einer Zeichenkette"
   ]
  },
  {
   "cell_type": "code",
   "execution_count": 20,
   "id": "2cb33982-a9b8-44be-a98a-81958f6551b9",
   "metadata": {},
   "outputs": [
    {
     "data": {
      "text/html": [
       "<div>\n",
       "<style scoped>\n",
       "    .dataframe tbody tr th:only-of-type {\n",
       "        vertical-align: middle;\n",
       "    }\n",
       "\n",
       "    .dataframe tbody tr th {\n",
       "        vertical-align: top;\n",
       "    }\n",
       "\n",
       "    .dataframe thead th {\n",
       "        text-align: right;\n",
       "    }\n",
       "</style>\n",
       "<table border=\"1\" class=\"dataframe\">\n",
       "  <thead>\n",
       "    <tr style=\"text-align: right;\">\n",
       "      <th></th>\n",
       "      <th>brand_name</th>\n",
       "      <th>model</th>\n",
       "      <th>display</th>\n",
       "      <th>front_camera</th>\n",
       "      <th>rare_camera</th>\n",
       "      <th>processor</th>\n",
       "      <th>battery_capacity</th>\n",
       "      <th>ram</th>\n",
       "      <th>internal_storage</th>\n",
       "      <th>price(€)</th>\n",
       "      <th>battery_capacity (mAh)</th>\n",
       "    </tr>\n",
       "  </thead>\n",
       "  <tbody>\n",
       "    <tr>\n",
       "      <th>0</th>\n",
       "      <td>SAMSUNG</td>\n",
       "      <td>Samsung S24 Ultra</td>\n",
       "      <td>6.8\" (120Hz)</td>\n",
       "      <td>40MP</td>\n",
       "      <td>108MP + 10MP + 10MP + 12MP</td>\n",
       "      <td>Exynos</td>\n",
       "      <td>5000 mAh</td>\n",
       "      <td>8.0</td>\n",
       "      <td>128</td>\n",
       "      <td>1810.81</td>\n",
       "      <td>5000</td>\n",
       "    </tr>\n",
       "    <tr>\n",
       "      <th>1</th>\n",
       "      <td>SAMSUNG</td>\n",
       "      <td>Samsung S24 Plus</td>\n",
       "      <td>6.6\" (120Hz)</td>\n",
       "      <td>10MP</td>\n",
       "      <td>50MP + 10MP + 12MP</td>\n",
       "      <td>Exynos</td>\n",
       "      <td>4500 mAh</td>\n",
       "      <td>8.0</td>\n",
       "      <td>128</td>\n",
       "      <td>1027.02</td>\n",
       "      <td>4500</td>\n",
       "    </tr>\n",
       "  </tbody>\n",
       "</table>\n",
       "</div>"
      ],
      "text/plain": [
       "  brand_name              model       display front_camera  \\\n",
       "0    SAMSUNG  Samsung S24 Ultra  6.8\" (120Hz)         40MP   \n",
       "1    SAMSUNG   Samsung S24 Plus  6.6\" (120Hz)         10MP   \n",
       "\n",
       "                  rare_camera processor battery_capacity  ram  \\\n",
       "0  108MP + 10MP + 10MP + 12MP   Exynos          5000 mAh  8.0   \n",
       "1          50MP + 10MP + 12MP   Exynos          4500 mAh  8.0   \n",
       "\n",
       "   internal_storage  price(€) battery_capacity (mAh)  \n",
       "0               128   1810.81                   5000  \n",
       "1               128   1027.02                   4500  "
      ]
     },
     "execution_count": 20,
     "metadata": {},
     "output_type": "execute_result"
    }
   ],
   "source": [
    "# muster um Zahlen zu battery kapazität aus der Einheit zu extrahieren\n",
    "muster = r'(\\d+)'  # r: (raw string) betrachtet symbole als Zeichenketten  \\d: beliebiger Ziffer (0-9) +: mehr als ein Ziffer \n",
    "df['battery_capacity (mAh)'] = df['battery_capacity'].str.extract(muster)\n",
    "df.head(2)"
   ]
  },
  {
   "cell_type": "markdown",
   "id": "922f9f30-bb4c-45d1-8c24-6e324eecc67c",
   "metadata": {},
   "source": [
    "#### Korrekte-datenformatierung"
   ]
  },
  {
   "cell_type": "code",
   "execution_count": 21,
   "id": "cb993c71-c04d-41ea-980c-a9d4e61e3c77",
   "metadata": {},
   "outputs": [
    {
     "data": {
      "text/plain": [
       "dtype('O')"
      ]
     },
     "execution_count": 21,
     "metadata": {},
     "output_type": "execute_result"
    }
   ],
   "source": [
    "df['battery_capacity (mAh)'].dtypes"
   ]
  },
  {
   "cell_type": "code",
   "execution_count": 22,
   "id": "e7b942d2-85d8-4863-a9a3-a2fac2cf0f38",
   "metadata": {},
   "outputs": [
    {
     "data": {
      "text/plain": [
       "dtype('float64')"
      ]
     },
     "execution_count": 22,
     "metadata": {},
     "output_type": "execute_result"
    }
   ],
   "source": [
    "df['battery_capacity (mAh)'] = df['battery_capacity (mAh)'].astype(float)\n",
    "df['battery_capacity (mAh)'].dtypes"
   ]
  },
  {
   "cell_type": "markdown",
   "id": "3d65a63a-4d2f-438e-9de5-4a8a165d17cf",
   "metadata": {},
   "source": [
    "### Neue Spalte front_camera (mp) hinzufügen"
   ]
  },
  {
   "cell_type": "code",
   "execution_count": 23,
   "id": "e4c9b7bd-d872-4056-a16c-3b7eed232626",
   "metadata": {},
   "outputs": [],
   "source": [
    "muster = r'(\\d+)'   \n",
    "df['front_camera (mp)'] = df['front_camera'].str.extract(muster)"
   ]
  },
  {
   "cell_type": "code",
   "execution_count": 24,
   "id": "c1565708-ecc2-48cc-ad66-47c1f3608329",
   "metadata": {},
   "outputs": [],
   "source": [
    "# df.head()"
   ]
  },
  {
   "cell_type": "code",
   "execution_count": 25,
   "id": "b1687138-f866-4e32-8e64-3a468a1456a0",
   "metadata": {},
   "outputs": [
    {
     "data": {
      "text/plain": [
       "dtype('O')"
      ]
     },
     "execution_count": 25,
     "metadata": {},
     "output_type": "execute_result"
    }
   ],
   "source": [
    "df['front_camera (mp)'].dtypes"
   ]
  },
  {
   "cell_type": "code",
   "execution_count": 26,
   "id": "79a4734f-dc1a-482c-a236-e4d4cecafa77",
   "metadata": {},
   "outputs": [],
   "source": [
    "df['front_camera (mp)'] = df['front_camera (mp)'].astype(float)"
   ]
  },
  {
   "cell_type": "markdown",
   "id": "c2640839-f19a-4528-9b7e-4f47be9134de",
   "metadata": {},
   "source": [
    "### Neue Spalte `processor brand` einfügen"
   ]
  },
  {
   "cell_type": "code",
   "execution_count": 27,
   "id": "f02eba19-8892-4784-81da-a225863b69e1",
   "metadata": {},
   "outputs": [],
   "source": [
    "# Muster auf die Spalte \"processor\" anwenden, um die Prozessormarken zu extrahieren\n",
    "df['processor brand'] = ''\n",
    "\n",
    "for i in range(df.shape[0]):\n",
    "    if len(df['processor'].str.split()) > 0:\n",
    "        first_word = df['processor'].str.split(' ')[i][0]\n",
    "        df.at[i, 'processor brand'] = first_word\n",
    "        #print(\"Processormarke: \", first_word)\n",
    "    else:\n",
    "        df.at[i, 'processor brand'] = np.nan\n",
    "        #print(NaN)"
   ]
  },
  {
   "cell_type": "code",
   "execution_count": 28,
   "id": "81445736-f201-49a8-8ce0-d429c7cfe09c",
   "metadata": {},
   "outputs": [
    {
     "data": {
      "text/html": [
       "<div>\n",
       "<style scoped>\n",
       "    .dataframe tbody tr th:only-of-type {\n",
       "        vertical-align: middle;\n",
       "    }\n",
       "\n",
       "    .dataframe tbody tr th {\n",
       "        vertical-align: top;\n",
       "    }\n",
       "\n",
       "    .dataframe thead th {\n",
       "        text-align: right;\n",
       "    }\n",
       "</style>\n",
       "<table border=\"1\" class=\"dataframe\">\n",
       "  <thead>\n",
       "    <tr style=\"text-align: right;\">\n",
       "      <th></th>\n",
       "      <th>brand_name</th>\n",
       "      <th>model</th>\n",
       "      <th>display</th>\n",
       "      <th>front_camera</th>\n",
       "      <th>rare_camera</th>\n",
       "      <th>processor</th>\n",
       "      <th>battery_capacity</th>\n",
       "      <th>ram</th>\n",
       "      <th>internal_storage</th>\n",
       "      <th>price(€)</th>\n",
       "      <th>battery_capacity (mAh)</th>\n",
       "      <th>front_camera (mp)</th>\n",
       "      <th>processor brand</th>\n",
       "    </tr>\n",
       "  </thead>\n",
       "  <tbody>\n",
       "    <tr>\n",
       "      <th>1240</th>\n",
       "      <td>OPPO</td>\n",
       "      <td>Oppo A37</td>\n",
       "      <td>5.0\"</td>\n",
       "      <td>5 MP</td>\n",
       "      <td>8 MP</td>\n",
       "      <td>Snapdragon 410</td>\n",
       "      <td>2630mAh</td>\n",
       "      <td>2.0</td>\n",
       "      <td>16</td>\n",
       "      <td>477.92</td>\n",
       "      <td>2630.0</td>\n",
       "      <td>5.0</td>\n",
       "      <td>Snapdragon</td>\n",
       "    </tr>\n",
       "    <tr>\n",
       "      <th>1241</th>\n",
       "      <td>OPPO</td>\n",
       "      <td>Oppo F1</td>\n",
       "      <td>5.0\"</td>\n",
       "      <td>8 MP</td>\n",
       "      <td>13 MP</td>\n",
       "      <td>Snapdragon 616</td>\n",
       "      <td>-</td>\n",
       "      <td>3.0</td>\n",
       "      <td>16</td>\n",
       "      <td>194.59</td>\n",
       "      <td>NaN</td>\n",
       "      <td>8.0</td>\n",
       "      <td></td>\n",
       "    </tr>\n",
       "    <tr>\n",
       "      <th>1242</th>\n",
       "      <td>OPPO</td>\n",
       "      <td>Oppo A31</td>\n",
       "      <td>4.5\"</td>\n",
       "      <td>5 MP</td>\n",
       "      <td>8 MP</td>\n",
       "      <td>Snapdragon 410</td>\n",
       "      <td>2000mAh</td>\n",
       "      <td>1.0</td>\n",
       "      <td>8</td>\n",
       "      <td>477.92</td>\n",
       "      <td>2000.0</td>\n",
       "      <td>5.0</td>\n",
       "      <td>Snapdragon</td>\n",
       "    </tr>\n",
       "    <tr>\n",
       "      <th>1243</th>\n",
       "      <td>OPPO</td>\n",
       "      <td>Oppo Reno 4 SE</td>\n",
       "      <td>6.43\"</td>\n",
       "      <td>32 MP</td>\n",
       "      <td>48 MP + 8 MP + 2 MP</td>\n",
       "      <td>Dimensity 720</td>\n",
       "      <td>4300mAh</td>\n",
       "      <td>8.0</td>\n",
       "      <td>128</td>\n",
       "      <td>477.92</td>\n",
       "      <td>4300.0</td>\n",
       "      <td>32.0</td>\n",
       "      <td>Dimensity</td>\n",
       "    </tr>\n",
       "    <tr>\n",
       "      <th>1244</th>\n",
       "      <td>OPPO</td>\n",
       "      <td>Oppo Reno 4 SE 256GB</td>\n",
       "      <td>6.43\"</td>\n",
       "      <td>32 MP</td>\n",
       "      <td>48 MP + 8 MP + 2 MP</td>\n",
       "      <td>Dimensity 720</td>\n",
       "      <td>4300mAh</td>\n",
       "      <td>8.0</td>\n",
       "      <td>256</td>\n",
       "      <td>477.92</td>\n",
       "      <td>4300.0</td>\n",
       "      <td>32.0</td>\n",
       "      <td>Dimensity</td>\n",
       "    </tr>\n",
       "  </tbody>\n",
       "</table>\n",
       "</div>"
      ],
      "text/plain": [
       "     brand_name                 model display front_camera  \\\n",
       "1240       OPPO              Oppo A37    5.0\"         5 MP   \n",
       "1241       OPPO               Oppo F1    5.0\"         8 MP   \n",
       "1242       OPPO              Oppo A31    4.5\"         5 MP   \n",
       "1243       OPPO        Oppo Reno 4 SE   6.43\"        32 MP   \n",
       "1244       OPPO  Oppo Reno 4 SE 256GB   6.43\"        32 MP   \n",
       "\n",
       "              rare_camera        processor battery_capacity  ram  \\\n",
       "1240                 8 MP   Snapdragon 410          2630mAh  2.0   \n",
       "1241                13 MP   Snapdragon 616                -  3.0   \n",
       "1242                 8 MP   Snapdragon 410          2000mAh  1.0   \n",
       "1243  48 MP + 8 MP + 2 MP    Dimensity 720          4300mAh  8.0   \n",
       "1244  48 MP + 8 MP + 2 MP    Dimensity 720          4300mAh  8.0   \n",
       "\n",
       "      internal_storage  price(€)  battery_capacity (mAh)  front_camera (mp)  \\\n",
       "1240                16    477.92                  2630.0                5.0   \n",
       "1241                16    194.59                     NaN                8.0   \n",
       "1242                 8    477.92                  2000.0                5.0   \n",
       "1243               128    477.92                  4300.0               32.0   \n",
       "1244               256    477.92                  4300.0               32.0   \n",
       "\n",
       "     processor brand  \n",
       "1240      Snapdragon  \n",
       "1241                  \n",
       "1242      Snapdragon  \n",
       "1243       Dimensity  \n",
       "1244       Dimensity  "
      ]
     },
     "execution_count": 28,
     "metadata": {},
     "output_type": "execute_result"
    }
   ],
   "source": [
    "# df['processor'].unique()\n",
    "df.tail(5)"
   ]
  },
  {
   "cell_type": "markdown",
   "id": "4dbec01e-ab81-428f-a6d8-297eaf267946",
   "metadata": {},
   "source": [
    "### disp_size (inch) und Refresh Rate (Hz) Spalten hinzufügen "
   ]
  },
  {
   "cell_type": "code",
   "execution_count": 29,
   "id": "d19af0e3-4d7e-4943-8fb8-b70a2d8b4e03",
   "metadata": {},
   "outputs": [],
   "source": [
    "df['disp_size (inch)'] = ''\n",
    "df['Refresh Rate (Hz)'] = ''\n",
    "\n",
    "for i in range(df.shape[0]):\n",
    "    if len(df['display'].str.split()) > 0:\n",
    "        first_word = df['display'].str.split('\"')[i][0]\n",
    "        second_word = df['display'].str.split('\"')[i][1]\n",
    "\n",
    "        # Klammern und 'Hz' Zeichenkette entfernen\n",
    "        second_word = second_word[2:-3]\n",
    "        \n",
    "        df.at[i, 'disp_size (inch)'] = first_word\n",
    "        df.at[i, 'Refresh Rate (Hz)'] = second_word\n",
    "    else:\n",
    "        df.at[i, 'disp_size (inch)'] = np.nan\n",
    "        df.at[i, 'Refresh Rate (Hz)'] = np.nan"
   ]
  },
  {
   "cell_type": "code",
   "execution_count": 30,
   "id": "dcc92cef-84a7-4e3a-b3aa-3d2a72b0d072",
   "metadata": {},
   "outputs": [],
   "source": [
    "#df['Size (Inches)'].unique()"
   ]
  },
  {
   "cell_type": "markdown",
   "id": "9906a401-686e-4147-a5da-e291a556309a",
   "metadata": {},
   "source": [
    "#### Korrekte-datenformatierung"
   ]
  },
  {
   "cell_type": "code",
   "execution_count": 31,
   "id": "16a9cfd5-efa1-4e22-8617-1a610eb3f159",
   "metadata": {},
   "outputs": [],
   "source": [
    "df['disp_size (inch)'] = df['disp_size (inch)'].astype(float)"
   ]
  },
  {
   "cell_type": "code",
   "execution_count": 32,
   "id": "31264e8f-71fe-41a9-b633-268329736eb9",
   "metadata": {},
   "outputs": [
    {
     "data": {
      "text/plain": [
       "dtype('float64')"
      ]
     },
     "execution_count": 32,
     "metadata": {},
     "output_type": "execute_result"
    }
   ],
   "source": [
    "df['disp_size (inch)'].dtypes"
   ]
  },
  {
   "cell_type": "code",
   "execution_count": 33,
   "id": "67121be0-cc84-4f63-97c3-814ea4ded842",
   "metadata": {},
   "outputs": [
    {
     "data": {
      "text/plain": [
       "dtype('O')"
      ]
     },
     "execution_count": 33,
     "metadata": {},
     "output_type": "execute_result"
    }
   ],
   "source": [
    "df['Refresh Rate (Hz)'].dtypes"
   ]
  },
  {
   "cell_type": "code",
   "execution_count": 34,
   "id": "dd5e0864-c953-4b38-a85a-60cd0b2d58e1",
   "metadata": {},
   "outputs": [
    {
     "data": {
      "text/plain": [
       "array(['120', '90', '', '90 (unconfirmed)', '60 (International)', '144'],\n",
       "      dtype=object)"
      ]
     },
     "execution_count": 34,
     "metadata": {},
     "output_type": "execute_result"
    }
   ],
   "source": [
    "df['Refresh Rate (Hz)'].unique()"
   ]
  },
  {
   "cell_type": "code",
   "execution_count": 35,
   "id": "ba8b414d-3820-4415-9ab3-8255bd531854",
   "metadata": {},
   "outputs": [],
   "source": [
    "df.loc[df['Refresh Rate (Hz)'] == '90 (unconfirmed)', 'Refresh Rate (Hz)'] = 90\n",
    "df.loc[df['Refresh Rate (Hz)'] == '60 (International)', 'Refresh Rate (Hz)'] = 60\n",
    "df.loc[df['Refresh Rate (Hz)'] == '', 'Refresh Rate (Hz)'] = np.nan"
   ]
  },
  {
   "cell_type": "code",
   "execution_count": 36,
   "id": "06b055cd-b127-441d-af41-081fa8c4856c",
   "metadata": {},
   "outputs": [
    {
     "data": {
      "text/plain": [
       "dtype('float64')"
      ]
     },
     "execution_count": 36,
     "metadata": {},
     "output_type": "execute_result"
    }
   ],
   "source": [
    "df['Refresh Rate (Hz)'] = df['Refresh Rate (Hz)'].astype(float)\n",
    "df['Refresh Rate (Hz)'].dtypes"
   ]
  },
  {
   "cell_type": "code",
   "execution_count": 37,
   "id": "b0eeb226-b804-4af9-a5b9-bc51423dc0fc",
   "metadata": {},
   "outputs": [],
   "source": [
    "#df.isna().sum()"
   ]
  },
  {
   "cell_type": "markdown",
   "id": "2f09ee5b-8bac-430a-8006-cfe179a22bd9",
   "metadata": {},
   "source": [
    "<details><summary>Num of NaN Values</summary>\n",
    "\n",
    "```python\n",
    "df.isna().sum()\n",
    "\n",
    "brand_name                 0\r\n",
    "model                      0\r\n",
    "display                    0\r\n",
    "front_camera               0\r\n",
    "rare_camera                0\r\n",
    "processor                  0\r\n",
    "battery_capacity           0\r\n",
    "ram                        0\r\n",
    "internal_storage           0\r\n",
    "price(€)                   0\r\n",
    "battery_capacity(mAh)     14\r\n",
    "processor brand            0\r\n",
    "Size (Inches)              0\r\n",
    "Refresh Rate (Hz)        690\r\n",
    "dtype: int64\n",
    "```\n",
    "</details>"
   ]
  },
  {
   "cell_type": "code",
   "execution_count": 38,
   "id": "abf69f9c-66b1-4129-8866-3dc7abd0e00b",
   "metadata": {},
   "outputs": [],
   "source": [
    "nan_values = df[df['battery_capacity (mAh)'].isnull()]\n",
    "#nan_values"
   ]
  },
  {
   "cell_type": "code",
   "execution_count": 39,
   "id": "a66bcff0-5381-4e93-a3ec-8894f16e26f5",
   "metadata": {},
   "outputs": [],
   "source": [
    "nan_values = df[df['Refresh Rate (Hz)'].isnull()]\n",
    "# nan_values.head(15)"
   ]
  },
  {
   "cell_type": "code",
   "execution_count": null,
   "id": "f88ea36f-8ba0-4e90-ab96-07222ee72267",
   "metadata": {},
   "outputs": [],
   "source": []
  },
  {
   "cell_type": "code",
   "execution_count": 40,
   "id": "ab68d1ad-8eb2-49ac-bfe1-c58aa3cc46ec",
   "metadata": {},
   "outputs": [],
   "source": [
    "df.drop('Refresh Rate (Hz)', axis=1, inplace = True)"
   ]
  },
  {
   "cell_type": "code",
   "execution_count": 41,
   "id": "a0cb7fc3-d5e3-46fe-a76b-9b99f0b3a8b1",
   "metadata": {},
   "outputs": [],
   "source": [
    "df.drop('battery_capacity', axis=1, inplace = True)"
   ]
  },
  {
   "cell_type": "code",
   "execution_count": 42,
   "id": "2696aeb7-1259-42b5-81d9-9e3659d602ff",
   "metadata": {},
   "outputs": [],
   "source": [
    "df.drop('front_camera', axis=1, inplace =True)"
   ]
  },
  {
   "cell_type": "code",
   "execution_count": 43,
   "id": "b12a3d4c-d5f5-4601-b14a-d8795d16b0db",
   "metadata": {},
   "outputs": [],
   "source": [
    "# df.isna().sum()"
   ]
  },
  {
   "cell_type": "markdown",
   "id": "53b12a5f-edbf-46c8-b554-2d6939d832b1",
   "metadata": {},
   "source": [
    "<details>\n",
    "<summary>Num of NaN Values</summary>\n",
    "\n",
    "```python\n",
    "df.isna().sum()\n",
    "brand_name                0\r\n",
    "model                     0\r\n",
    "display                   0\r\n",
    "front_camera              0\r\n",
    "rare_camera               0\r\n",
    "processor                 0\r\n",
    "ram                       0\r\n",
    "internal_storage          0\r\n",
    "price(€)                  0\r\n",
    "battery_capacity(mAh)    14\r\n",
    "processor brand           0\r\n",
    "Size (Inches)             0\n",
    "</details>\n",
    "```etails>\n",
    "```"
   ]
  },
  {
   "cell_type": "code",
   "execution_count": 44,
   "id": "7bbacedc-e1f2-468d-a1c7-31f4c5fcc54a",
   "metadata": {},
   "outputs": [],
   "source": [
    "df.dropna(inplace=True)"
   ]
  },
  {
   "cell_type": "code",
   "execution_count": 45,
   "id": "1b4c2a0a-027f-4dad-b4b2-e74927eb3032",
   "metadata": {},
   "outputs": [],
   "source": [
    "df.reset_index(drop=True, inplace=True)"
   ]
  },
  {
   "cell_type": "code",
   "execution_count": 46,
   "id": "dc12e295-d3eb-4e7a-849e-48c1a46b6b11",
   "metadata": {},
   "outputs": [],
   "source": [
    "# df.isna().sum()"
   ]
  },
  {
   "cell_type": "markdown",
   "id": "a49edea9-5e6b-4875-af5b-5f6721220fc2",
   "metadata": {},
   "source": [
    "<details>\n",
    "<summary>Num of NaN Values</summary>\n",
    "    \n",
    "```python\n",
    "df.isna().sum()\n",
    "brand_name               0\r\n",
    "model                    0\r\n",
    "display                  0\r\n",
    "front_camera             0\r\n",
    "rare_camera              0\r\n",
    "processor                0\r\n",
    "ram                      0\r\n",
    "internal_storage         0\r\n",
    "price(€)                 0\r\n",
    "battery_capacity(mAh)    0\r\n",
    "processor brand          0\r\n",
    "Size (Inches)            0\r\n",
    "dtype: int64\r\n",
    "\n",
    "```\n",
    "</details>"
   ]
  },
  {
   "cell_type": "code",
   "execution_count": 47,
   "id": "a71fd881-8dfe-44aa-93df-9c803375a7bb",
   "metadata": {},
   "outputs": [
    {
     "data": {
      "text/html": [
       "<div>\n",
       "<style scoped>\n",
       "    .dataframe tbody tr th:only-of-type {\n",
       "        vertical-align: middle;\n",
       "    }\n",
       "\n",
       "    .dataframe tbody tr th {\n",
       "        vertical-align: top;\n",
       "    }\n",
       "\n",
       "    .dataframe thead th {\n",
       "        text-align: right;\n",
       "    }\n",
       "</style>\n",
       "<table border=\"1\" class=\"dataframe\">\n",
       "  <thead>\n",
       "    <tr style=\"text-align: right;\">\n",
       "      <th></th>\n",
       "      <th>brand_name</th>\n",
       "      <th>model</th>\n",
       "      <th>display</th>\n",
       "      <th>rare_camera</th>\n",
       "      <th>processor</th>\n",
       "      <th>ram</th>\n",
       "      <th>internal_storage</th>\n",
       "      <th>price(€)</th>\n",
       "      <th>battery_capacity (mAh)</th>\n",
       "      <th>front_camera (mp)</th>\n",
       "      <th>processor brand</th>\n",
       "      <th>disp_size (inch)</th>\n",
       "    </tr>\n",
       "  </thead>\n",
       "  <tbody>\n",
       "    <tr>\n",
       "      <th>0</th>\n",
       "      <td>SAMSUNG</td>\n",
       "      <td>Samsung S24 Ultra</td>\n",
       "      <td>6.8\" (120Hz)</td>\n",
       "      <td>108MP + 10MP + 10MP + 12MP</td>\n",
       "      <td>Exynos</td>\n",
       "      <td>8.0</td>\n",
       "      <td>128</td>\n",
       "      <td>1810.81</td>\n",
       "      <td>5000.0</td>\n",
       "      <td>40.0</td>\n",
       "      <td>Exynos</td>\n",
       "      <td>6.80</td>\n",
       "    </tr>\n",
       "    <tr>\n",
       "      <th>1</th>\n",
       "      <td>SAMSUNG</td>\n",
       "      <td>Samsung S24 Plus</td>\n",
       "      <td>6.6\" (120Hz)</td>\n",
       "      <td>50MP + 10MP + 12MP</td>\n",
       "      <td>Exynos</td>\n",
       "      <td>8.0</td>\n",
       "      <td>128</td>\n",
       "      <td>1027.02</td>\n",
       "      <td>4500.0</td>\n",
       "      <td>10.0</td>\n",
       "      <td>Exynos</td>\n",
       "      <td>6.60</td>\n",
       "    </tr>\n",
       "    <tr>\n",
       "      <th>2</th>\n",
       "      <td>SAMSUNG</td>\n",
       "      <td>Samsung Zero</td>\n",
       "      <td>6.41\" (120Hz)</td>\n",
       "      <td>12 MP + 8 MP + 12 MP</td>\n",
       "      <td>Snapdragon 888 5G</td>\n",
       "      <td>8.0</td>\n",
       "      <td>256</td>\n",
       "      <td>610.81</td>\n",
       "      <td>4500.0</td>\n",
       "      <td>32.0</td>\n",
       "      <td>Snapdragon</td>\n",
       "      <td>6.41</td>\n",
       "    </tr>\n",
       "    <tr>\n",
       "      <th>3</th>\n",
       "      <td>SAMSUNG</td>\n",
       "      <td>Samsung S24</td>\n",
       "      <td>6.1\" (120Hz)</td>\n",
       "      <td>50MP + 10MP + 12MP</td>\n",
       "      <td>Exynos</td>\n",
       "      <td>8.0</td>\n",
       "      <td>128</td>\n",
       "      <td>1351.35</td>\n",
       "      <td>3700.0</td>\n",
       "      <td>10.0</td>\n",
       "      <td>Exynos</td>\n",
       "      <td>6.10</td>\n",
       "    </tr>\n",
       "    <tr>\n",
       "      <th>4</th>\n",
       "      <td>SAMSUNG</td>\n",
       "      <td>Samsung A05s</td>\n",
       "      <td>6.5\" (90Hz)</td>\n",
       "      <td>50MP + 2MP + 2MP</td>\n",
       "      <td>Exynos</td>\n",
       "      <td>4.0</td>\n",
       "      <td>64</td>\n",
       "      <td>135.13</td>\n",
       "      <td>5000.0</td>\n",
       "      <td>5.0</td>\n",
       "      <td>Exynos</td>\n",
       "      <td>6.50</td>\n",
       "    </tr>\n",
       "  </tbody>\n",
       "</table>\n",
       "</div>"
      ],
      "text/plain": [
       "  brand_name              model        display                 rare_camera  \\\n",
       "0    SAMSUNG  Samsung S24 Ultra   6.8\" (120Hz)  108MP + 10MP + 10MP + 12MP   \n",
       "1    SAMSUNG   Samsung S24 Plus   6.6\" (120Hz)          50MP + 10MP + 12MP   \n",
       "2    SAMSUNG       Samsung Zero  6.41\" (120Hz)        12 MP + 8 MP + 12 MP   \n",
       "3    SAMSUNG        Samsung S24   6.1\" (120Hz)          50MP + 10MP + 12MP   \n",
       "4    SAMSUNG       Samsung A05s    6.5\" (90Hz)            50MP + 2MP + 2MP   \n",
       "\n",
       "           processor  ram  internal_storage  price(€)  battery_capacity (mAh)  \\\n",
       "0            Exynos   8.0               128   1810.81                  5000.0   \n",
       "1            Exynos   8.0               128   1027.02                  4500.0   \n",
       "2  Snapdragon 888 5G  8.0               256    610.81                  4500.0   \n",
       "3            Exynos   8.0               128   1351.35                  3700.0   \n",
       "4            Exynos   4.0                64    135.13                  5000.0   \n",
       "\n",
       "   front_camera (mp) processor brand  disp_size (inch)  \n",
       "0               40.0          Exynos              6.80  \n",
       "1               10.0          Exynos              6.60  \n",
       "2               32.0      Snapdragon              6.41  \n",
       "3               10.0          Exynos              6.10  \n",
       "4                5.0          Exynos              6.50  "
      ]
     },
     "execution_count": 47,
     "metadata": {},
     "output_type": "execute_result"
    }
   ],
   "source": [
    "df.head(5)"
   ]
  },
  {
   "cell_type": "markdown",
   "id": "07edaccc-d52e-4afa-9150-8a9c39cffa86",
   "metadata": {},
   "source": [
    "#### Spalten zuordnen"
   ]
  },
  {
   "cell_type": "code",
   "execution_count": 48,
   "id": "8e79a162-815c-46cf-993a-6574b1b7ba55",
   "metadata": {},
   "outputs": [
    {
     "data": {
      "text/plain": [
       "Index(['brand_name', 'model', 'display', 'rare_camera', 'processor', 'ram',\n",
       "       'internal_storage', 'price(€)', 'battery_capacity (mAh)',\n",
       "       'front_camera (mp)', 'processor brand', 'disp_size (inch)'],\n",
       "      dtype='object')"
      ]
     },
     "execution_count": 48,
     "metadata": {},
     "output_type": "execute_result"
    }
   ],
   "source": [
    "df.columns"
   ]
  },
  {
   "cell_type": "code",
   "execution_count": 49,
   "id": "c3e2d6df-2af6-498f-851b-faf2ebdf2aa9",
   "metadata": {},
   "outputs": [],
   "source": [
    "new_order = ['brand_name', 'model', 'internal_storage', 'ram',\n",
    "             'battery_capacity (mAh)', 'rare_camera', 'front_camera (mp)',\n",
    "             'display', 'disp_size (inch)', 'processor',\n",
    "             'processor brand', 'price(€)']"
   ]
  },
  {
   "cell_type": "code",
   "execution_count": 50,
   "id": "fd10d8b6-ddf2-4a95-9d93-a7175369d3d2",
   "metadata": {},
   "outputs": [],
   "source": [
    "df = df[new_order]"
   ]
  },
  {
   "cell_type": "code",
   "execution_count": 51,
   "id": "c486d0f5-d437-4916-b818-3809041894a5",
   "metadata": {},
   "outputs": [
    {
     "data": {
      "text/html": [
       "<div>\n",
       "<style scoped>\n",
       "    .dataframe tbody tr th:only-of-type {\n",
       "        vertical-align: middle;\n",
       "    }\n",
       "\n",
       "    .dataframe tbody tr th {\n",
       "        vertical-align: top;\n",
       "    }\n",
       "\n",
       "    .dataframe thead th {\n",
       "        text-align: right;\n",
       "    }\n",
       "</style>\n",
       "<table border=\"1\" class=\"dataframe\">\n",
       "  <thead>\n",
       "    <tr style=\"text-align: right;\">\n",
       "      <th></th>\n",
       "      <th>brand_name</th>\n",
       "      <th>model</th>\n",
       "      <th>internal_storage</th>\n",
       "      <th>ram</th>\n",
       "      <th>battery_capacity (mAh)</th>\n",
       "      <th>rare_camera</th>\n",
       "      <th>front_camera (mp)</th>\n",
       "      <th>display</th>\n",
       "      <th>disp_size (inch)</th>\n",
       "      <th>processor</th>\n",
       "      <th>processor brand</th>\n",
       "      <th>price(€)</th>\n",
       "    </tr>\n",
       "  </thead>\n",
       "  <tbody>\n",
       "    <tr>\n",
       "      <th>0</th>\n",
       "      <td>SAMSUNG</td>\n",
       "      <td>Samsung S24 Ultra</td>\n",
       "      <td>128</td>\n",
       "      <td>8.0</td>\n",
       "      <td>5000.0</td>\n",
       "      <td>108MP + 10MP + 10MP + 12MP</td>\n",
       "      <td>40.0</td>\n",
       "      <td>6.8\" (120Hz)</td>\n",
       "      <td>6.80</td>\n",
       "      <td>Exynos</td>\n",
       "      <td>Exynos</td>\n",
       "      <td>1810.81</td>\n",
       "    </tr>\n",
       "    <tr>\n",
       "      <th>1</th>\n",
       "      <td>SAMSUNG</td>\n",
       "      <td>Samsung S24 Plus</td>\n",
       "      <td>128</td>\n",
       "      <td>8.0</td>\n",
       "      <td>4500.0</td>\n",
       "      <td>50MP + 10MP + 12MP</td>\n",
       "      <td>10.0</td>\n",
       "      <td>6.6\" (120Hz)</td>\n",
       "      <td>6.60</td>\n",
       "      <td>Exynos</td>\n",
       "      <td>Exynos</td>\n",
       "      <td>1027.02</td>\n",
       "    </tr>\n",
       "    <tr>\n",
       "      <th>2</th>\n",
       "      <td>SAMSUNG</td>\n",
       "      <td>Samsung Zero</td>\n",
       "      <td>256</td>\n",
       "      <td>8.0</td>\n",
       "      <td>4500.0</td>\n",
       "      <td>12 MP + 8 MP + 12 MP</td>\n",
       "      <td>32.0</td>\n",
       "      <td>6.41\" (120Hz)</td>\n",
       "      <td>6.41</td>\n",
       "      <td>Snapdragon 888 5G</td>\n",
       "      <td>Snapdragon</td>\n",
       "      <td>610.81</td>\n",
       "    </tr>\n",
       "    <tr>\n",
       "      <th>3</th>\n",
       "      <td>SAMSUNG</td>\n",
       "      <td>Samsung S24</td>\n",
       "      <td>128</td>\n",
       "      <td>8.0</td>\n",
       "      <td>3700.0</td>\n",
       "      <td>50MP + 10MP + 12MP</td>\n",
       "      <td>10.0</td>\n",
       "      <td>6.1\" (120Hz)</td>\n",
       "      <td>6.10</td>\n",
       "      <td>Exynos</td>\n",
       "      <td>Exynos</td>\n",
       "      <td>1351.35</td>\n",
       "    </tr>\n",
       "    <tr>\n",
       "      <th>4</th>\n",
       "      <td>SAMSUNG</td>\n",
       "      <td>Samsung A05s</td>\n",
       "      <td>64</td>\n",
       "      <td>4.0</td>\n",
       "      <td>5000.0</td>\n",
       "      <td>50MP + 2MP + 2MP</td>\n",
       "      <td>5.0</td>\n",
       "      <td>6.5\" (90Hz)</td>\n",
       "      <td>6.50</td>\n",
       "      <td>Exynos</td>\n",
       "      <td>Exynos</td>\n",
       "      <td>135.13</td>\n",
       "    </tr>\n",
       "  </tbody>\n",
       "</table>\n",
       "</div>"
      ],
      "text/plain": [
       "  brand_name              model  internal_storage  ram  \\\n",
       "0    SAMSUNG  Samsung S24 Ultra               128  8.0   \n",
       "1    SAMSUNG   Samsung S24 Plus               128  8.0   \n",
       "2    SAMSUNG       Samsung Zero               256  8.0   \n",
       "3    SAMSUNG        Samsung S24               128  8.0   \n",
       "4    SAMSUNG       Samsung A05s                64  4.0   \n",
       "\n",
       "   battery_capacity (mAh)                 rare_camera  front_camera (mp)  \\\n",
       "0                  5000.0  108MP + 10MP + 10MP + 12MP               40.0   \n",
       "1                  4500.0          50MP + 10MP + 12MP               10.0   \n",
       "2                  4500.0        12 MP + 8 MP + 12 MP               32.0   \n",
       "3                  3700.0          50MP + 10MP + 12MP               10.0   \n",
       "4                  5000.0            50MP + 2MP + 2MP                5.0   \n",
       "\n",
       "         display  disp_size (inch)          processor processor brand  \\\n",
       "0   6.8\" (120Hz)              6.80            Exynos           Exynos   \n",
       "1   6.6\" (120Hz)              6.60            Exynos           Exynos   \n",
       "2  6.41\" (120Hz)              6.41  Snapdragon 888 5G      Snapdragon   \n",
       "3   6.1\" (120Hz)              6.10            Exynos           Exynos   \n",
       "4    6.5\" (90Hz)              6.50            Exynos           Exynos   \n",
       "\n",
       "   price(€)  \n",
       "0   1810.81  \n",
       "1   1027.02  \n",
       "2    610.81  \n",
       "3   1351.35  \n",
       "4    135.13  "
      ]
     },
     "execution_count": 51,
     "metadata": {},
     "output_type": "execute_result"
    }
   ],
   "source": [
    "df.head()"
   ]
  },
  {
   "cell_type": "markdown",
   "id": "2ccedf77-c9dc-49d4-9338-273ce67854bd",
   "metadata": {},
   "source": [
    "#### Indikatorvariable"
   ]
  },
  {
   "cell_type": "markdown",
   "id": "b866b6dc-7e44-4494-8996-69a08a3bc201",
   "metadata": {},
   "source": [
    "Die Spalten 'processor brand', 'brand_name'  haben eine kleine Liste von eindeutige Werte. Regression versteht keine Wörter, sondern nur Zahlen. Um dieses Attribut in einer Regressionsanalyse zu verwenden, können wir diese Spalten in Indikatorvariablen umwandeln."
   ]
  },
  {
   "cell_type": "code",
   "execution_count": 52,
   "id": "0ccd9fd8-42e8-418a-8710-447754d24a2b",
   "metadata": {},
   "outputs": [],
   "source": [
    "from sklearn.preprocessing import LabelEncoder\n",
    "# Label Encoder initialisieren\n",
    "le1 = LabelEncoder()\n",
    "# L.E anpassen\n",
    "df['brand_name (num)'] = le1.fit_transform(df['brand_name'])\n",
    "\n",
    "# Label Encoder initialisieren\n",
    "le2 = LabelEncoder()\n",
    "# L.E anpassen\n",
    "df['processor brand (num)'] = le2.fit_transform(df['processor brand'])"
   ]
  },
  {
   "cell_type": "code",
   "execution_count": 53,
   "id": "4a686831-5851-42a2-9a44-d18ce2170769",
   "metadata": {},
   "outputs": [],
   "source": [
    "df1 = df[['brand_name (num)', 'model', 'internal_storage', 'ram',\n",
    "             'battery_capacity (mAh)', 'rare_camera', 'front_camera (mp)',\n",
    "             'display', 'disp_size (inch)', 'processor',\n",
    "             'processor brand (num)', 'price(€)']]"
   ]
  },
  {
   "cell_type": "code",
   "execution_count": 54,
   "id": "84ac7034-0d26-486c-97a0-64233bc632a3",
   "metadata": {},
   "outputs": [
    {
     "data": {
      "text/html": [
       "<div>\n",
       "<style scoped>\n",
       "    .dataframe tbody tr th:only-of-type {\n",
       "        vertical-align: middle;\n",
       "    }\n",
       "\n",
       "    .dataframe tbody tr th {\n",
       "        vertical-align: top;\n",
       "    }\n",
       "\n",
       "    .dataframe thead th {\n",
       "        text-align: right;\n",
       "    }\n",
       "</style>\n",
       "<table border=\"1\" class=\"dataframe\">\n",
       "  <thead>\n",
       "    <tr style=\"text-align: right;\">\n",
       "      <th></th>\n",
       "      <th>brand_name (num)</th>\n",
       "      <th>model</th>\n",
       "      <th>internal_storage</th>\n",
       "      <th>ram</th>\n",
       "      <th>battery_capacity (mAh)</th>\n",
       "      <th>rare_camera</th>\n",
       "      <th>front_camera (mp)</th>\n",
       "      <th>display</th>\n",
       "      <th>disp_size (inch)</th>\n",
       "      <th>processor</th>\n",
       "      <th>processor brand (num)</th>\n",
       "      <th>price(€)</th>\n",
       "    </tr>\n",
       "  </thead>\n",
       "  <tbody>\n",
       "    <tr>\n",
       "      <th>0</th>\n",
       "      <td>3</td>\n",
       "      <td>Samsung S24 Ultra</td>\n",
       "      <td>128</td>\n",
       "      <td>8.0</td>\n",
       "      <td>5000.0</td>\n",
       "      <td>108MP + 10MP + 10MP + 12MP</td>\n",
       "      <td>40.0</td>\n",
       "      <td>6.8\" (120Hz)</td>\n",
       "      <td>6.80</td>\n",
       "      <td>Exynos</td>\n",
       "      <td>4</td>\n",
       "      <td>1810.81</td>\n",
       "    </tr>\n",
       "    <tr>\n",
       "      <th>1</th>\n",
       "      <td>3</td>\n",
       "      <td>Samsung S24 Plus</td>\n",
       "      <td>128</td>\n",
       "      <td>8.0</td>\n",
       "      <td>4500.0</td>\n",
       "      <td>50MP + 10MP + 12MP</td>\n",
       "      <td>10.0</td>\n",
       "      <td>6.6\" (120Hz)</td>\n",
       "      <td>6.60</td>\n",
       "      <td>Exynos</td>\n",
       "      <td>4</td>\n",
       "      <td>1027.02</td>\n",
       "    </tr>\n",
       "    <tr>\n",
       "      <th>2</th>\n",
       "      <td>3</td>\n",
       "      <td>Samsung Zero</td>\n",
       "      <td>256</td>\n",
       "      <td>8.0</td>\n",
       "      <td>4500.0</td>\n",
       "      <td>12 MP + 8 MP + 12 MP</td>\n",
       "      <td>32.0</td>\n",
       "      <td>6.41\" (120Hz)</td>\n",
       "      <td>6.41</td>\n",
       "      <td>Snapdragon 888 5G</td>\n",
       "      <td>16</td>\n",
       "      <td>610.81</td>\n",
       "    </tr>\n",
       "    <tr>\n",
       "      <th>3</th>\n",
       "      <td>3</td>\n",
       "      <td>Samsung S24</td>\n",
       "      <td>128</td>\n",
       "      <td>8.0</td>\n",
       "      <td>3700.0</td>\n",
       "      <td>50MP + 10MP + 12MP</td>\n",
       "      <td>10.0</td>\n",
       "      <td>6.1\" (120Hz)</td>\n",
       "      <td>6.10</td>\n",
       "      <td>Exynos</td>\n",
       "      <td>4</td>\n",
       "      <td>1351.35</td>\n",
       "    </tr>\n",
       "    <tr>\n",
       "      <th>4</th>\n",
       "      <td>3</td>\n",
       "      <td>Samsung A05s</td>\n",
       "      <td>64</td>\n",
       "      <td>4.0</td>\n",
       "      <td>5000.0</td>\n",
       "      <td>50MP + 2MP + 2MP</td>\n",
       "      <td>5.0</td>\n",
       "      <td>6.5\" (90Hz)</td>\n",
       "      <td>6.50</td>\n",
       "      <td>Exynos</td>\n",
       "      <td>4</td>\n",
       "      <td>135.13</td>\n",
       "    </tr>\n",
       "  </tbody>\n",
       "</table>\n",
       "</div>"
      ],
      "text/plain": [
       "   brand_name (num)              model  internal_storage  ram  \\\n",
       "0                 3  Samsung S24 Ultra               128  8.0   \n",
       "1                 3   Samsung S24 Plus               128  8.0   \n",
       "2                 3       Samsung Zero               256  8.0   \n",
       "3                 3        Samsung S24               128  8.0   \n",
       "4                 3       Samsung A05s                64  4.0   \n",
       "\n",
       "   battery_capacity (mAh)                 rare_camera  front_camera (mp)  \\\n",
       "0                  5000.0  108MP + 10MP + 10MP + 12MP               40.0   \n",
       "1                  4500.0          50MP + 10MP + 12MP               10.0   \n",
       "2                  4500.0        12 MP + 8 MP + 12 MP               32.0   \n",
       "3                  3700.0          50MP + 10MP + 12MP               10.0   \n",
       "4                  5000.0            50MP + 2MP + 2MP                5.0   \n",
       "\n",
       "         display  disp_size (inch)          processor  processor brand (num)  \\\n",
       "0   6.8\" (120Hz)              6.80            Exynos                       4   \n",
       "1   6.6\" (120Hz)              6.60            Exynos                       4   \n",
       "2  6.41\" (120Hz)              6.41  Snapdragon 888 5G                     16   \n",
       "3   6.1\" (120Hz)              6.10            Exynos                       4   \n",
       "4    6.5\" (90Hz)              6.50            Exynos                       4   \n",
       "\n",
       "   price(€)  \n",
       "0   1810.81  \n",
       "1   1027.02  \n",
       "2    610.81  \n",
       "3   1351.35  \n",
       "4    135.13  "
      ]
     },
     "execution_count": 54,
     "metadata": {},
     "output_type": "execute_result"
    }
   ],
   "source": [
    "df1.head()"
   ]
  },
  {
   "cell_type": "markdown",
   "id": "28d49e32-c9be-4811-9b06-043155220571",
   "metadata": {},
   "source": [
    "## Modelierung"
   ]
  },
  {
   "cell_type": "code",
   "execution_count": null,
   "id": "b1be3581-3ca0-4a62-bf2b-abab3d342858",
   "metadata": {},
   "outputs": [],
   "source": []
  },
  {
   "cell_type": "markdown",
   "id": "f7b9092f-23d9-4808-996f-89ff9dddd5ba",
   "metadata": {},
   "source": [
    "Als Maßmerkmal unserer Models nehmen wir r squared error:\n",
    "\n",
    "- $R^2$ nahe 1: Das Modell erklärt einen Großteil der Variabilität der Daten. Sehr zufriedenstellend. \r",
    "- $R^2$2 zwischen 0,7 und 0,9: Das Modell erklärt einen signifikanten Teil der Variabilität der Daten. Gut.- $R^2$^2 zwischen 0,5 und 0,7: Das Modell erklärt einen moderaten Teil der Variabilität der Daten. Akzeptabel- $R^2$R^2 zwischen 0,3 und 0,5: Das Modell erklärt einen geringen Teil der Variabilität der Daten. Eher mäßi- $R^2$ R^2 unter 0,3: Das Modell erklärt eine sehr geringe oder keine Variabilität der Daten. Nicht zufriedenstellend."
   ]
  },
  {
   "cell_type": "markdown",
   "id": "8a1dc138-d0a0-4dba-8121-b987a7169852",
   "metadata": {},
   "source": [
    "Als Maßmerkmal unserer Models nehmen wir r squared error:\n",
    "- $R^2~$ nahe 1: Das Modell erklärt einen Großteil der Variabilität der Daten. **Sehr zufriedenstellend.**\n",
    "- $R^2~$ zwischen 0,7 und 0,9: Das Modell erklärt einen signifikanten Teil der Variabilität der Daten. **Gut**.\n",
    "- $R^2~$ zwischen 0,5 und 0,7: Das Modell erklärt einen moderaten Teil der Variabilität der Daten. **Akzeptabel**.\n",
    "- $R^2~$ zwischen 0,3 und 0,5: Das Modell erklärt einen geringen Teil der Variabilität der Daten. **Eher mäßig**.\n",
    "- $R^2~$ unter 0,3: Das Modell erklärt eine sehr geringe oder keine Variabilität der Daten. **Nicht zufriedenstellend**."
   ]
  },
  {
   "cell_type": "markdown",
   "id": "f9be4e67-3914-4d6d-96d7-901fc7b6babf",
   "metadata": {},
   "source": [
    "#### Numerische Variable"
   ]
  },
  {
   "cell_type": "code",
   "execution_count": 55,
   "id": "73c30da0-2972-45e6-a872-9c1d533c3794",
   "metadata": {},
   "outputs": [],
   "source": [
    "df1 = df1.select_dtypes(include=['float', 'int'])"
   ]
  },
  {
   "cell_type": "code",
   "execution_count": 56,
   "id": "a42e7778-f263-47aa-a941-13a218dfe02d",
   "metadata": {},
   "outputs": [
    {
     "data": {
      "text/html": [
       "<div>\n",
       "<style scoped>\n",
       "    .dataframe tbody tr th:only-of-type {\n",
       "        vertical-align: middle;\n",
       "    }\n",
       "\n",
       "    .dataframe tbody tr th {\n",
       "        vertical-align: top;\n",
       "    }\n",
       "\n",
       "    .dataframe thead th {\n",
       "        text-align: right;\n",
       "    }\n",
       "</style>\n",
       "<table border=\"1\" class=\"dataframe\">\n",
       "  <thead>\n",
       "    <tr style=\"text-align: right;\">\n",
       "      <th></th>\n",
       "      <th>brand_name (num)</th>\n",
       "      <th>internal_storage</th>\n",
       "      <th>ram</th>\n",
       "      <th>battery_capacity (mAh)</th>\n",
       "      <th>front_camera (mp)</th>\n",
       "      <th>disp_size (inch)</th>\n",
       "      <th>processor brand (num)</th>\n",
       "      <th>price(€)</th>\n",
       "    </tr>\n",
       "  </thead>\n",
       "  <tbody>\n",
       "    <tr>\n",
       "      <th>0</th>\n",
       "      <td>3</td>\n",
       "      <td>128</td>\n",
       "      <td>8.0</td>\n",
       "      <td>5000.0</td>\n",
       "      <td>40.0</td>\n",
       "      <td>6.80</td>\n",
       "      <td>4</td>\n",
       "      <td>1810.81</td>\n",
       "    </tr>\n",
       "    <tr>\n",
       "      <th>1</th>\n",
       "      <td>3</td>\n",
       "      <td>128</td>\n",
       "      <td>8.0</td>\n",
       "      <td>4500.0</td>\n",
       "      <td>10.0</td>\n",
       "      <td>6.60</td>\n",
       "      <td>4</td>\n",
       "      <td>1027.02</td>\n",
       "    </tr>\n",
       "    <tr>\n",
       "      <th>2</th>\n",
       "      <td>3</td>\n",
       "      <td>256</td>\n",
       "      <td>8.0</td>\n",
       "      <td>4500.0</td>\n",
       "      <td>32.0</td>\n",
       "      <td>6.41</td>\n",
       "      <td>16</td>\n",
       "      <td>610.81</td>\n",
       "    </tr>\n",
       "    <tr>\n",
       "      <th>3</th>\n",
       "      <td>3</td>\n",
       "      <td>128</td>\n",
       "      <td>8.0</td>\n",
       "      <td>3700.0</td>\n",
       "      <td>10.0</td>\n",
       "      <td>6.10</td>\n",
       "      <td>4</td>\n",
       "      <td>1351.35</td>\n",
       "    </tr>\n",
       "    <tr>\n",
       "      <th>4</th>\n",
       "      <td>3</td>\n",
       "      <td>64</td>\n",
       "      <td>4.0</td>\n",
       "      <td>5000.0</td>\n",
       "      <td>5.0</td>\n",
       "      <td>6.50</td>\n",
       "      <td>4</td>\n",
       "      <td>135.13</td>\n",
       "    </tr>\n",
       "  </tbody>\n",
       "</table>\n",
       "</div>"
      ],
      "text/plain": [
       "   brand_name (num)  internal_storage  ram  battery_capacity (mAh)  \\\n",
       "0                 3               128  8.0                  5000.0   \n",
       "1                 3               128  8.0                  4500.0   \n",
       "2                 3               256  8.0                  4500.0   \n",
       "3                 3               128  8.0                  3700.0   \n",
       "4                 3                64  4.0                  5000.0   \n",
       "\n",
       "   front_camera (mp)  disp_size (inch)  processor brand (num)  price(€)  \n",
       "0               40.0              6.80                      4   1810.81  \n",
       "1               10.0              6.60                      4   1027.02  \n",
       "2               32.0              6.41                     16    610.81  \n",
       "3               10.0              6.10                      4   1351.35  \n",
       "4                5.0              6.50                      4    135.13  "
      ]
     },
     "execution_count": 56,
     "metadata": {},
     "output_type": "execute_result"
    }
   ],
   "source": [
    "df1.head()"
   ]
  },
  {
   "cell_type": "markdown",
   "id": "50193bc4-0c0d-46a7-9636-95aa25fa1704",
   "metadata": {},
   "source": [
    "### Statistische Zusammenfassung"
   ]
  },
  {
   "cell_type": "code",
   "execution_count": 57,
   "id": "c1348831-ab9e-49ed-8ba1-b3f41a719bac",
   "metadata": {},
   "outputs": [
    {
     "data": {
      "text/html": [
       "<div>\n",
       "<style scoped>\n",
       "    .dataframe tbody tr th:only-of-type {\n",
       "        vertical-align: middle;\n",
       "    }\n",
       "\n",
       "    .dataframe tbody tr th {\n",
       "        vertical-align: top;\n",
       "    }\n",
       "\n",
       "    .dataframe thead th {\n",
       "        text-align: right;\n",
       "    }\n",
       "</style>\n",
       "<table border=\"1\" class=\"dataframe\">\n",
       "  <thead>\n",
       "    <tr style=\"text-align: right;\">\n",
       "      <th></th>\n",
       "      <th>brand_name (num)</th>\n",
       "      <th>internal_storage</th>\n",
       "      <th>ram</th>\n",
       "      <th>battery_capacity (mAh)</th>\n",
       "      <th>front_camera (mp)</th>\n",
       "      <th>disp_size (inch)</th>\n",
       "      <th>processor brand (num)</th>\n",
       "      <th>price(€)</th>\n",
       "    </tr>\n",
       "  </thead>\n",
       "  <tbody>\n",
       "    <tr>\n",
       "      <th>count</th>\n",
       "      <td>1220.000000</td>\n",
       "      <td>1220.000000</td>\n",
       "      <td>1220.000000</td>\n",
       "      <td>1220.000000</td>\n",
       "      <td>1220.000000</td>\n",
       "      <td>1220.000000</td>\n",
       "      <td>1220.000000</td>\n",
       "      <td>1220.000000</td>\n",
       "    </tr>\n",
       "    <tr>\n",
       "      <th>mean</th>\n",
       "      <td>2.665574</td>\n",
       "      <td>154.003279</td>\n",
       "      <td>7.975000</td>\n",
       "      <td>4386.641803</td>\n",
       "      <td>15.158197</td>\n",
       "      <td>6.452443</td>\n",
       "      <td>6.895082</td>\n",
       "      <td>479.572549</td>\n",
       "    </tr>\n",
       "    <tr>\n",
       "      <th>std</th>\n",
       "      <td>1.296665</td>\n",
       "      <td>143.433623</td>\n",
       "      <td>30.902112</td>\n",
       "      <td>1188.432448</td>\n",
       "      <td>9.227437</td>\n",
       "      <td>0.982359</td>\n",
       "      <td>6.472797</td>\n",
       "      <td>387.332300</td>\n",
       "    </tr>\n",
       "    <tr>\n",
       "      <th>min</th>\n",
       "      <td>0.000000</td>\n",
       "      <td>0.000000</td>\n",
       "      <td>1.000000</td>\n",
       "      <td>28.000000</td>\n",
       "      <td>1.000000</td>\n",
       "      <td>4.000000</td>\n",
       "      <td>0.000000</td>\n",
       "      <td>2.160000</td>\n",
       "    </tr>\n",
       "    <tr>\n",
       "      <th>25%</th>\n",
       "      <td>2.000000</td>\n",
       "      <td>64.000000</td>\n",
       "      <td>4.000000</td>\n",
       "      <td>3992.250000</td>\n",
       "      <td>8.000000</td>\n",
       "      <td>6.300000</td>\n",
       "      <td>2.000000</td>\n",
       "      <td>221.620000</td>\n",
       "    </tr>\n",
       "    <tr>\n",
       "      <th>50%</th>\n",
       "      <td>3.000000</td>\n",
       "      <td>128.000000</td>\n",
       "      <td>6.000000</td>\n",
       "      <td>4500.000000</td>\n",
       "      <td>16.000000</td>\n",
       "      <td>6.510000</td>\n",
       "      <td>4.000000</td>\n",
       "      <td>381.080000</td>\n",
       "    </tr>\n",
       "    <tr>\n",
       "      <th>75%</th>\n",
       "      <td>4.000000</td>\n",
       "      <td>256.000000</td>\n",
       "      <td>8.000000</td>\n",
       "      <td>5000.000000</td>\n",
       "      <td>20.000000</td>\n",
       "      <td>6.670000</td>\n",
       "      <td>14.000000</td>\n",
       "      <td>529.720000</td>\n",
       "    </tr>\n",
       "    <tr>\n",
       "      <th>max</th>\n",
       "      <td>4.000000</td>\n",
       "      <td>2048.000000</td>\n",
       "      <td>768.000000</td>\n",
       "      <td>10758.000000</td>\n",
       "      <td>44.000000</td>\n",
       "      <td>12.900000</td>\n",
       "      <td>18.000000</td>\n",
       "      <td>2864.860000</td>\n",
       "    </tr>\n",
       "  </tbody>\n",
       "</table>\n",
       "</div>"
      ],
      "text/plain": [
       "       brand_name (num)  internal_storage          ram  \\\n",
       "count       1220.000000       1220.000000  1220.000000   \n",
       "mean           2.665574        154.003279     7.975000   \n",
       "std            1.296665        143.433623    30.902112   \n",
       "min            0.000000          0.000000     1.000000   \n",
       "25%            2.000000         64.000000     4.000000   \n",
       "50%            3.000000        128.000000     6.000000   \n",
       "75%            4.000000        256.000000     8.000000   \n",
       "max            4.000000       2048.000000   768.000000   \n",
       "\n",
       "       battery_capacity (mAh)  front_camera (mp)  disp_size (inch)  \\\n",
       "count             1220.000000        1220.000000       1220.000000   \n",
       "mean              4386.641803          15.158197          6.452443   \n",
       "std               1188.432448           9.227437          0.982359   \n",
       "min                 28.000000           1.000000          4.000000   \n",
       "25%               3992.250000           8.000000          6.300000   \n",
       "50%               4500.000000          16.000000          6.510000   \n",
       "75%               5000.000000          20.000000          6.670000   \n",
       "max              10758.000000          44.000000         12.900000   \n",
       "\n",
       "       processor brand (num)     price(€)  \n",
       "count            1220.000000  1220.000000  \n",
       "mean                6.895082   479.572549  \n",
       "std                 6.472797   387.332300  \n",
       "min                 0.000000     2.160000  \n",
       "25%                 2.000000   221.620000  \n",
       "50%                 4.000000   381.080000  \n",
       "75%                14.000000   529.720000  \n",
       "max                18.000000  2864.860000  "
      ]
     },
     "execution_count": 57,
     "metadata": {},
     "output_type": "execute_result"
    }
   ],
   "source": [
    "df1.describe()"
   ]
  },
  {
   "cell_type": "markdown",
   "id": "07079aaf-57be-4ea7-9082-96912d3da3de",
   "metadata": {},
   "source": [
    "#### Korrelation checken"
   ]
  },
  {
   "cell_type": "code",
   "execution_count": 58,
   "id": "b9fa83ee-aef3-4c48-8606-2da141e83047",
   "metadata": {},
   "outputs": [
    {
     "data": {
      "text/html": [
       "<div>\n",
       "<style scoped>\n",
       "    .dataframe tbody tr th:only-of-type {\n",
       "        vertical-align: middle;\n",
       "    }\n",
       "\n",
       "    .dataframe tbody tr th {\n",
       "        vertical-align: top;\n",
       "    }\n",
       "\n",
       "    .dataframe thead th {\n",
       "        text-align: right;\n",
       "    }\n",
       "</style>\n",
       "<table border=\"1\" class=\"dataframe\">\n",
       "  <thead>\n",
       "    <tr style=\"text-align: right;\">\n",
       "      <th></th>\n",
       "      <th>price(€)</th>\n",
       "    </tr>\n",
       "  </thead>\n",
       "  <tbody>\n",
       "    <tr>\n",
       "      <th>brand_name (num)</th>\n",
       "      <td>-0.352368</td>\n",
       "    </tr>\n",
       "    <tr>\n",
       "      <th>internal_storage</th>\n",
       "      <td>0.581980</td>\n",
       "    </tr>\n",
       "    <tr>\n",
       "      <th>ram</th>\n",
       "      <td>0.051230</td>\n",
       "    </tr>\n",
       "    <tr>\n",
       "      <th>battery_capacity (mAh)</th>\n",
       "      <td>-0.035996</td>\n",
       "    </tr>\n",
       "    <tr>\n",
       "      <th>front_camera (mp)</th>\n",
       "      <td>0.158492</td>\n",
       "    </tr>\n",
       "    <tr>\n",
       "      <th>disp_size (inch)</th>\n",
       "      <td>0.279198</td>\n",
       "    </tr>\n",
       "    <tr>\n",
       "      <th>processor brand (num)</th>\n",
       "      <td>-0.238520</td>\n",
       "    </tr>\n",
       "    <tr>\n",
       "      <th>price(€)</th>\n",
       "      <td>1.000000</td>\n",
       "    </tr>\n",
       "  </tbody>\n",
       "</table>\n",
       "</div>"
      ],
      "text/plain": [
       "                        price(€)\n",
       "brand_name (num)       -0.352368\n",
       "internal_storage        0.581980\n",
       "ram                     0.051230\n",
       "battery_capacity (mAh) -0.035996\n",
       "front_camera (mp)       0.158492\n",
       "disp_size (inch)        0.279198\n",
       "processor brand (num)  -0.238520\n",
       "price(€)                1.000000"
      ]
     },
     "execution_count": 58,
     "metadata": {},
     "output_type": "execute_result"
    }
   ],
   "source": [
    "df1.corr()[['price(€)']]"
   ]
  },
  {
   "cell_type": "markdown",
   "id": "abad73b5-bba9-45a9-9274-7f56843b0e8d",
   "metadata": {},
   "source": [
    "### Visual Überprüfung"
   ]
  },
  {
   "cell_type": "code",
   "execution_count": 59,
   "id": "1f7f1a8d-8c34-4ebd-8227-dde28214192e",
   "metadata": {},
   "outputs": [],
   "source": [
    "import matplotlib.pyplot as plt \n",
    "import seaborn as sns"
   ]
  },
  {
   "cell_type": "code",
   "execution_count": 60,
   "id": "c9fd42fa-d01b-4952-ac48-603456663376",
   "metadata": {},
   "outputs": [
    {
     "data": {
      "image/png": "[encoded data removed]",
      "text/plain": [
       "<Figure size 1200x1200 with 2 Axes>"
      ]
     },
     "metadata": {},
     "output_type": "display_data"
    }
   ],
   "source": [
    "fig, (ax1, ax2) = plt.subplots(nrows=2, ncols =1, figsize=(12, 12) )\n",
    "sns.regplot(x='battery_capacity (mAh)', y='price(€)', data = df1, ax = ax1)\n",
    "sns.regplot(x='disp_size (inch)', y='price(€)', data = df1, ax =ax2)\n",
    "plt.show()"
   ]
  },
  {
   "cell_type": "markdown",
   "id": "f048b653-23a7-44ef-94f7-965513cbc0f7",
   "metadata": {},
   "source": [
    "Anscheinend ein simple Linear Regression kann den Preis des Smartphone anhand der Akkukapazität und Bildschirmdröße nicht vorhersagen und nicht lineare Funktion wird eher anpassen\n"
   ]
  },
  {
   "cell_type": "markdown",
   "id": "50b1f28c-ec95-422d-bde0-0c992932938a",
   "metadata": {},
   "source": [
    "## Richtige Model aussuchen und Leistung verleichen"
   ]
  },
  {
   "cell_type": "markdown",
   "id": "bc345cf5-9e1b-4220-8861-c940fa1fc488",
   "metadata": {},
   "source": [
    "### 1. Simple Linear Regression"
   ]
  },
  {
   "cell_type": "code",
   "execution_count": 61,
   "id": "438dd52d-b3d1-4237-b2f9-3689815ef607",
   "metadata": {},
   "outputs": [],
   "source": [
    "from sklearn.linear_model import LinearRegression\n",
    "\n",
    "x1 = df1[['battery_capacity (mAh)']]\n",
    "x2 = df1[['disp_size (inch)']]\n",
    "y = df1['price(€)']"
   ]
  },
  {
   "cell_type": "code",
   "execution_count": 62,
   "id": "f904d88f-3d1f-47b9-9453-0a61e97e7659",
   "metadata": {},
   "outputs": [
    {
     "data": {
      "text/html": [
       "<style>#sk-container-id-1 {color: black;background-color: white;}#sk-container-id-1 pre{padding: 0;}#sk-container-id-1 div.sk-toggleable {background-color: white;}#sk-container-id-1 label.sk-toggleable__label {cursor: pointer;display: block;width: 100%;margin-bottom: 0;padding: 0.3em;box-sizing: border-box;text-align: center;}#sk-container-id-1 label.sk-toggleable__label-arrow:before {content: \"▸\";float: left;margin-right: 0.25em;color: #696969;}#sk-container-id-1 label.sk-toggleable__label-arrow:hover:before {color: black;}#sk-container-id-1 div.sk-estimator:hover label.sk-toggleable__label-arrow:before {color: black;}#sk-container-id-1 div.sk-toggleable__content {max-height: 0;max-width: 0;overflow: hidden;text-align: left;background-color: #f0f8ff;}#sk-container-id-1 div.sk-toggleable__content pre {margin: 0.2em;color: black;border-radius: 0.25em;background-color: #f0f8ff;}#sk-container-id-1 input.sk-toggleable__control:checked~div.sk-toggleable__content {max-height: 200px;max-width: 100%;overflow: auto;}#sk-container-id-1 input.sk-toggleable__control:checked~label.sk-toggleable__label-arrow:before {content: \"▾\";}#sk-container-id-1 div.sk-estimator input.sk-toggleable__control:checked~label.sk-toggleable__label {background-color: #d4ebff;}#sk-container-id-1 div.sk-label input.sk-toggleable__control:checked~label.sk-toggleable__label {background-color: #d4ebff;}#sk-container-id-1 input.sk-hidden--visually {border: 0;clip: rect(1px 1px 1px 1px);clip: rect(1px, 1px, 1px, 1px);height: 1px;margin: -1px;overflow: hidden;padding: 0;position: absolute;width: 1px;}#sk-container-id-1 div.sk-estimator {font-family: monospace;background-color: #f0f8ff;border: 1px dotted black;border-radius: 0.25em;box-sizing: border-box;margin-bottom: 0.5em;}#sk-container-id-1 div.sk-estimator:hover {background-color: #d4ebff;}#sk-container-id-1 div.sk-parallel-item::after {content: \"\";width: 100%;border-bottom: 1px solid gray;flex-grow: 1;}#sk-container-id-1 div.sk-label:hover label.sk-toggleable__label {background-color: #d4ebff;}#sk-container-id-1 div.sk-serial::before {content: \"\";position: absolute;border-left: 1px solid gray;box-sizing: border-box;top: 0;bottom: 0;left: 50%;z-index: 0;}#sk-container-id-1 div.sk-serial {display: flex;flex-direction: column;align-items: center;background-color: white;padding-right: 0.2em;padding-left: 0.2em;position: relative;}#sk-container-id-1 div.sk-item {position: relative;z-index: 1;}#sk-container-id-1 div.sk-parallel {display: flex;align-items: stretch;justify-content: center;background-color: white;position: relative;}#sk-container-id-1 div.sk-item::before, #sk-container-id-1 div.sk-parallel-item::before {content: \"\";position: absolute;border-left: 1px solid gray;box-sizing: border-box;top: 0;bottom: 0;left: 50%;z-index: -1;}#sk-container-id-1 div.sk-parallel-item {display: flex;flex-direction: column;z-index: 1;position: relative;background-color: white;}#sk-container-id-1 div.sk-parallel-item:first-child::after {align-self: flex-end;width: 50%;}#sk-container-id-1 div.sk-parallel-item:last-child::after {align-self: flex-start;width: 50%;}#sk-container-id-1 div.sk-parallel-item:only-child::after {width: 0;}#sk-container-id-1 div.sk-dashed-wrapped {border: 1px dashed gray;margin: 0 0.4em 0.5em 0.4em;box-sizing: border-box;padding-bottom: 0.4em;background-color: white;}#sk-container-id-1 div.sk-label label {font-family: monospace;font-weight: bold;display: inline-block;line-height: 1.2em;}#sk-container-id-1 div.sk-label-container {text-align: center;}#sk-container-id-1 div.sk-container {/* jupyter's `normalize.less` sets `[hidden] { display: none; }` but bootstrap.min.css set `[hidden] { display: none !important; }` so we also need the `!important` here to be able to override the default hidden behavior on the sphinx rendered scikit-learn.org. See: https://github.com/scikit-learn/scikit-learn/issues/21755 */display: inline-block !important;position: relative;}#sk-container-id-1 div.sk-text-repr-fallback {display: none;}</style><div id=\"sk-container-id-1\" class=\"sk-top-container\"><div class=\"sk-text-repr-fallback\"><pre>LinearRegression()</pre><b>In a Jupyter environment, please rerun this cell to show the HTML representation or trust the notebook. <br />On GitHub, the HTML representation is unable to render, please try loading this page with nbviewer.org.</b></div><div class=\"sk-container\" hidden><div class=\"sk-item\"><div class=\"sk-estimator sk-toggleable\"><input class=\"sk-toggleable__control sk-hidden--visually\" id=\"sk-estimator-id-1\" type=\"checkbox\" checked><label for=\"sk-estimator-id-1\" class=\"sk-toggleable__label sk-toggleable__label-arrow\">LinearRegression</label><div class=\"sk-toggleable__content\"><pre>LinearRegression()</pre></div></div></div></div></div>"
      ],
      "text/plain": [
       "LinearRegression()"
      ]
     },
     "execution_count": 62,
     "metadata": {},
     "output_type": "execute_result"
    }
   ],
   "source": [
    "# Model initialisierung\n",
    "lr1 = LinearRegression()\n",
    "# Model anpassen\n",
    "lr1.fit(x1,y)"
   ]
  },
  {
   "cell_type": "code",
   "execution_count": 63,
   "id": "90990c33-ff52-4a66-b6cb-eea756083619",
   "metadata": {},
   "outputs": [
    {
     "data": {
      "text/plain": [
       "0.0012957061254436075"
      ]
     },
     "execution_count": 63,
     "metadata": {},
     "output_type": "execute_result"
    }
   ],
   "source": [
    "# r-squared-error\n",
    "lr1.score(x1,y)"
   ]
  },
  {
   "cell_type": "code",
   "execution_count": 64,
   "id": "0b1a3b00-b9e9-45ae-9e83-6b079d5ea1b0",
   "metadata": {},
   "outputs": [
    {
     "data": {
      "text/html": [
       "<style>#sk-container-id-2 {color: black;background-color: white;}#sk-container-id-2 pre{padding: 0;}#sk-container-id-2 div.sk-toggleable {background-color: white;}#sk-container-id-2 label.sk-toggleable__label {cursor: pointer;display: block;width: 100%;margin-bottom: 0;padding: 0.3em;box-sizing: border-box;text-align: center;}#sk-container-id-2 label.sk-toggleable__label-arrow:before {content: \"▸\";float: left;margin-right: 0.25em;color: #696969;}#sk-container-id-2 label.sk-toggleable__label-arrow:hover:before {color: black;}#sk-container-id-2 div.sk-estimator:hover label.sk-toggleable__label-arrow:before {color: black;}#sk-container-id-2 div.sk-toggleable__content {max-height: 0;max-width: 0;overflow: hidden;text-align: left;background-color: #f0f8ff;}#sk-container-id-2 div.sk-toggleable__content pre {margin: 0.2em;color: black;border-radius: 0.25em;background-color: #f0f8ff;}#sk-container-id-2 input.sk-toggleable__control:checked~div.sk-toggleable__content {max-height: 200px;max-width: 100%;overflow: auto;}#sk-container-id-2 input.sk-toggleable__control:checked~label.sk-toggleable__label-arrow:before {content: \"▾\";}#sk-container-id-2 div.sk-estimator input.sk-toggleable__control:checked~label.sk-toggleable__label {background-color: #d4ebff;}#sk-container-id-2 div.sk-label input.sk-toggleable__control:checked~label.sk-toggleable__label {background-color: #d4ebff;}#sk-container-id-2 input.sk-hidden--visually {border: 0;clip: rect(1px 1px 1px 1px);clip: rect(1px, 1px, 1px, 1px);height: 1px;margin: -1px;overflow: hidden;padding: 0;position: absolute;width: 1px;}#sk-container-id-2 div.sk-estimator {font-family: monospace;background-color: #f0f8ff;border: 1px dotted black;border-radius: 0.25em;box-sizing: border-box;margin-bottom: 0.5em;}#sk-container-id-2 div.sk-estimator:hover {background-color: #d4ebff;}#sk-container-id-2 div.sk-parallel-item::after {content: \"\";width: 100%;border-bottom: 1px solid gray;flex-grow: 1;}#sk-container-id-2 div.sk-label:hover label.sk-toggleable__label {background-color: #d4ebff;}#sk-container-id-2 div.sk-serial::before {content: \"\";position: absolute;border-left: 1px solid gray;box-sizing: border-box;top: 0;bottom: 0;left: 50%;z-index: 0;}#sk-container-id-2 div.sk-serial {display: flex;flex-direction: column;align-items: center;background-color: white;padding-right: 0.2em;padding-left: 0.2em;position: relative;}#sk-container-id-2 div.sk-item {position: relative;z-index: 1;}#sk-container-id-2 div.sk-parallel {display: flex;align-items: stretch;justify-content: center;background-color: white;position: relative;}#sk-container-id-2 div.sk-item::before, #sk-container-id-2 div.sk-parallel-item::before {content: \"\";position: absolute;border-left: 1px solid gray;box-sizing: border-box;top: 0;bottom: 0;left: 50%;z-index: -1;}#sk-container-id-2 div.sk-parallel-item {display: flex;flex-direction: column;z-index: 1;position: relative;background-color: white;}#sk-container-id-2 div.sk-parallel-item:first-child::after {align-self: flex-end;width: 50%;}#sk-container-id-2 div.sk-parallel-item:last-child::after {align-self: flex-start;width: 50%;}#sk-container-id-2 div.sk-parallel-item:only-child::after {width: 0;}#sk-container-id-2 div.sk-dashed-wrapped {border: 1px dashed gray;margin: 0 0.4em 0.5em 0.4em;box-sizing: border-box;padding-bottom: 0.4em;background-color: white;}#sk-container-id-2 div.sk-label label {font-family: monospace;font-weight: bold;display: inline-block;line-height: 1.2em;}#sk-container-id-2 div.sk-label-container {text-align: center;}#sk-container-id-2 div.sk-container {/* jupyter's `normalize.less` sets `[hidden] { display: none; }` but bootstrap.min.css set `[hidden] { display: none !important; }` so we also need the `!important` here to be able to override the default hidden behavior on the sphinx rendered scikit-learn.org. See: https://github.com/scikit-learn/scikit-learn/issues/21755 */display: inline-block !important;position: relative;}#sk-container-id-2 div.sk-text-repr-fallback {display: none;}</style><div id=\"sk-container-id-2\" class=\"sk-top-container\"><div class=\"sk-text-repr-fallback\"><pre>LinearRegression()</pre><b>In a Jupyter environment, please rerun this cell to show the HTML representation or trust the notebook. <br />On GitHub, the HTML representation is unable to render, please try loading this page with nbviewer.org.</b></div><div class=\"sk-container\" hidden><div class=\"sk-item\"><div class=\"sk-estimator sk-toggleable\"><input class=\"sk-toggleable__control sk-hidden--visually\" id=\"sk-estimator-id-2\" type=\"checkbox\" checked><label for=\"sk-estimator-id-2\" class=\"sk-toggleable__label sk-toggleable__label-arrow\">LinearRegression</label><div class=\"sk-toggleable__content\"><pre>LinearRegression()</pre></div></div></div></div></div>"
      ],
      "text/plain": [
       "LinearRegression()"
      ]
     },
     "execution_count": 64,
     "metadata": {},
     "output_type": "execute_result"
    }
   ],
   "source": [
    "lr2 = LinearRegression()\n",
    "lr2.fit(x2,y)"
   ]
  },
  {
   "cell_type": "code",
   "execution_count": 65,
   "id": "08a3d404-170a-4ccc-9ce6-70a8672fcf6a",
   "metadata": {},
   "outputs": [
    {
     "data": {
      "text/plain": [
       "0.07795130152971785"
      ]
     },
     "execution_count": 65,
     "metadata": {},
     "output_type": "execute_result"
    }
   ],
   "source": [
    "# r-aquared\n",
    "lr2.score(x2,y)"
   ]
  },
  {
   "cell_type": "markdown",
   "id": "5883142f-d511-4dd6-9492-6790f81563d5",
   "metadata": {},
   "source": [
    "### 2. Multiple Linear Regression"
   ]
  },
  {
   "cell_type": "markdown",
   "id": "36fae0c4-6a61-44e8-bc05-fd0732526dc8",
   "metadata": {},
   "source": [
    "##### I. Nehmen wir zwei Eigenschaften Akkukapazität und Bildschirmgröße"
   ]
  },
  {
   "cell_type": "code",
   "execution_count": 66,
   "id": "2acaf3e4-5c43-45ec-9f35-a42666e2f7b0",
   "metadata": {},
   "outputs": [],
   "source": [
    "X = df1[['battery_capacity (mAh)', 'disp_size (inch)']]\n",
    "y = df1['price(€)']"
   ]
  },
  {
   "cell_type": "code",
   "execution_count": 67,
   "id": "f3e5cd81-17c0-4d08-99d0-82b8039dd166",
   "metadata": {},
   "outputs": [
    {
     "data": {
      "text/html": [
       "<style>#sk-container-id-3 {color: black;background-color: white;}#sk-container-id-3 pre{padding: 0;}#sk-container-id-3 div.sk-toggleable {background-color: white;}#sk-container-id-3 label.sk-toggleable__label {cursor: pointer;display: block;width: 100%;margin-bottom: 0;padding: 0.3em;box-sizing: border-box;text-align: center;}#sk-container-id-3 label.sk-toggleable__label-arrow:before {content: \"▸\";float: left;margin-right: 0.25em;color: #696969;}#sk-container-id-3 label.sk-toggleable__label-arrow:hover:before {color: black;}#sk-container-id-3 div.sk-estimator:hover label.sk-toggleable__label-arrow:before {color: black;}#sk-container-id-3 div.sk-toggleable__content {max-height: 0;max-width: 0;overflow: hidden;text-align: left;background-color: #f0f8ff;}#sk-container-id-3 div.sk-toggleable__content pre {margin: 0.2em;color: black;border-radius: 0.25em;background-color: #f0f8ff;}#sk-container-id-3 input.sk-toggleable__control:checked~div.sk-toggleable__content {max-height: 200px;max-width: 100%;overflow: auto;}#sk-container-id-3 input.sk-toggleable__control:checked~label.sk-toggleable__label-arrow:before {content: \"▾\";}#sk-container-id-3 div.sk-estimator input.sk-toggleable__control:checked~label.sk-toggleable__label {background-color: #d4ebff;}#sk-container-id-3 div.sk-label input.sk-toggleable__control:checked~label.sk-toggleable__label {background-color: #d4ebff;}#sk-container-id-3 input.sk-hidden--visually {border: 0;clip: rect(1px 1px 1px 1px);clip: rect(1px, 1px, 1px, 1px);height: 1px;margin: -1px;overflow: hidden;padding: 0;position: absolute;width: 1px;}#sk-container-id-3 div.sk-estimator {font-family: monospace;background-color: #f0f8ff;border: 1px dotted black;border-radius: 0.25em;box-sizing: border-box;margin-bottom: 0.5em;}#sk-container-id-3 div.sk-estimator:hover {background-color: #d4ebff;}#sk-container-id-3 div.sk-parallel-item::after {content: \"\";width: 100%;border-bottom: 1px solid gray;flex-grow: 1;}#sk-container-id-3 div.sk-label:hover label.sk-toggleable__label {background-color: #d4ebff;}#sk-container-id-3 div.sk-serial::before {content: \"\";position: absolute;border-left: 1px solid gray;box-sizing: border-box;top: 0;bottom: 0;left: 50%;z-index: 0;}#sk-container-id-3 div.sk-serial {display: flex;flex-direction: column;align-items: center;background-color: white;padding-right: 0.2em;padding-left: 0.2em;position: relative;}#sk-container-id-3 div.sk-item {position: relative;z-index: 1;}#sk-container-id-3 div.sk-parallel {display: flex;align-items: stretch;justify-content: center;background-color: white;position: relative;}#sk-container-id-3 div.sk-item::before, #sk-container-id-3 div.sk-parallel-item::before {content: \"\";position: absolute;border-left: 1px solid gray;box-sizing: border-box;top: 0;bottom: 0;left: 50%;z-index: -1;}#sk-container-id-3 div.sk-parallel-item {display: flex;flex-direction: column;z-index: 1;position: relative;background-color: white;}#sk-container-id-3 div.sk-parallel-item:first-child::after {align-self: flex-end;width: 50%;}#sk-container-id-3 div.sk-parallel-item:last-child::after {align-self: flex-start;width: 50%;}#sk-container-id-3 div.sk-parallel-item:only-child::after {width: 0;}#sk-container-id-3 div.sk-dashed-wrapped {border: 1px dashed gray;margin: 0 0.4em 0.5em 0.4em;box-sizing: border-box;padding-bottom: 0.4em;background-color: white;}#sk-container-id-3 div.sk-label label {font-family: monospace;font-weight: bold;display: inline-block;line-height: 1.2em;}#sk-container-id-3 div.sk-label-container {text-align: center;}#sk-container-id-3 div.sk-container {/* jupyter's `normalize.less` sets `[hidden] { display: none; }` but bootstrap.min.css set `[hidden] { display: none !important; }` so we also need the `!important` here to be able to override the default hidden behavior on the sphinx rendered scikit-learn.org. See: https://github.com/scikit-learn/scikit-learn/issues/21755 */display: inline-block !important;position: relative;}#sk-container-id-3 div.sk-text-repr-fallback {display: none;}</style><div id=\"sk-container-id-3\" class=\"sk-top-container\"><div class=\"sk-text-repr-fallback\"><pre>LinearRegression()</pre><b>In a Jupyter environment, please rerun this cell to show the HTML representation or trust the notebook. <br />On GitHub, the HTML representation is unable to render, please try loading this page with nbviewer.org.</b></div><div class=\"sk-container\" hidden><div class=\"sk-item\"><div class=\"sk-estimator sk-toggleable\"><input class=\"sk-toggleable__control sk-hidden--visually\" id=\"sk-estimator-id-3\" type=\"checkbox\" checked><label for=\"sk-estimator-id-3\" class=\"sk-toggleable__label sk-toggleable__label-arrow\">LinearRegression</label><div class=\"sk-toggleable__content\"><pre>LinearRegression()</pre></div></div></div></div></div>"
      ],
      "text/plain": [
       "LinearRegression()"
      ]
     },
     "execution_count": 67,
     "metadata": {},
     "output_type": "execute_result"
    }
   ],
   "source": [
    "lr_mult_2 = LinearRegression()\n",
    "lr_mult_2.fit(X,y)"
   ]
  },
  {
   "cell_type": "code",
   "execution_count": 68,
   "id": "6535918b-760f-4d31-91d1-8b7ce97b5705",
   "metadata": {},
   "outputs": [
    {
     "data": {
      "text/plain": [
       "0.2072025830110752"
      ]
     },
     "execution_count": 68,
     "metadata": {},
     "output_type": "execute_result"
    }
   ],
   "source": [
    "# r-squared\n",
    "lr_mult_2.score(X,y)"
   ]
  },
  {
   "cell_type": "markdown",
   "id": "539360f3-aa6a-4637-b83f-28257923a4d5",
   "metadata": {},
   "source": [
    "Auch wenn wir das Modell auf alle verfügbaren Daten trainiert haben, scheint es immer noch nicht besonders gut zu funktionieren."
   ]
  },
  {
   "cell_type": "markdown",
   "id": "6f858e67-28fe-4ee3-9f81-5de861b3ec77",
   "metadata": {},
   "source": [
    "##### II. Nun betrachten wir alle unabhängige Variable"
   ]
  },
  {
   "cell_type": "code",
   "execution_count": 69,
   "id": "d25b35d9-d6d2-4f86-94f9-29370f894c23",
   "metadata": {},
   "outputs": [],
   "source": [
    "X_all = df1.drop('price(€)', axis =1)\n",
    "y = df1['price(€)']"
   ]
  },
  {
   "cell_type": "code",
   "execution_count": 70,
   "id": "38d7636b-48c6-458c-b595-627c0e6c5ed2",
   "metadata": {},
   "outputs": [],
   "source": [
    "X_all_train, X_all_test, y_train, y_test = train_test_split(X_all, y)"
   ]
  },
  {
   "cell_type": "code",
   "execution_count": 71,
   "id": "b64ac8d5-ad51-44da-afb2-b755e991b789",
   "metadata": {},
   "outputs": [
    {
     "data": {
      "text/html": [
       "<style>#sk-container-id-4 {color: black;background-color: white;}#sk-container-id-4 pre{padding: 0;}#sk-container-id-4 div.sk-toggleable {background-color: white;}#sk-container-id-4 label.sk-toggleable__label {cursor: pointer;display: block;width: 100%;margin-bottom: 0;padding: 0.3em;box-sizing: border-box;text-align: center;}#sk-container-id-4 label.sk-toggleable__label-arrow:before {content: \"▸\";float: left;margin-right: 0.25em;color: #696969;}#sk-container-id-4 label.sk-toggleable__label-arrow:hover:before {color: black;}#sk-container-id-4 div.sk-estimator:hover label.sk-toggleable__label-arrow:before {color: black;}#sk-container-id-4 div.sk-toggleable__content {max-height: 0;max-width: 0;overflow: hidden;text-align: left;background-color: #f0f8ff;}#sk-container-id-4 div.sk-toggleable__content pre {margin: 0.2em;color: black;border-radius: 0.25em;background-color: #f0f8ff;}#sk-container-id-4 input.sk-toggleable__control:checked~div.sk-toggleable__content {max-height: 200px;max-width: 100%;overflow: auto;}#sk-container-id-4 input.sk-toggleable__control:checked~label.sk-toggleable__label-arrow:before {content: \"▾\";}#sk-container-id-4 div.sk-estimator input.sk-toggleable__control:checked~label.sk-toggleable__label {background-color: #d4ebff;}#sk-container-id-4 div.sk-label input.sk-toggleable__control:checked~label.sk-toggleable__label {background-color: #d4ebff;}#sk-container-id-4 input.sk-hidden--visually {border: 0;clip: rect(1px 1px 1px 1px);clip: rect(1px, 1px, 1px, 1px);height: 1px;margin: -1px;overflow: hidden;padding: 0;position: absolute;width: 1px;}#sk-container-id-4 div.sk-estimator {font-family: monospace;background-color: #f0f8ff;border: 1px dotted black;border-radius: 0.25em;box-sizing: border-box;margin-bottom: 0.5em;}#sk-container-id-4 div.sk-estimator:hover {background-color: #d4ebff;}#sk-container-id-4 div.sk-parallel-item::after {content: \"\";width: 100%;border-bottom: 1px solid gray;flex-grow: 1;}#sk-container-id-4 div.sk-label:hover label.sk-toggleable__label {background-color: #d4ebff;}#sk-container-id-4 div.sk-serial::before {content: \"\";position: absolute;border-left: 1px solid gray;box-sizing: border-box;top: 0;bottom: 0;left: 50%;z-index: 0;}#sk-container-id-4 div.sk-serial {display: flex;flex-direction: column;align-items: center;background-color: white;padding-right: 0.2em;padding-left: 0.2em;position: relative;}#sk-container-id-4 div.sk-item {position: relative;z-index: 1;}#sk-container-id-4 div.sk-parallel {display: flex;align-items: stretch;justify-content: center;background-color: white;position: relative;}#sk-container-id-4 div.sk-item::before, #sk-container-id-4 div.sk-parallel-item::before {content: \"\";position: absolute;border-left: 1px solid gray;box-sizing: border-box;top: 0;bottom: 0;left: 50%;z-index: -1;}#sk-container-id-4 div.sk-parallel-item {display: flex;flex-direction: column;z-index: 1;position: relative;background-color: white;}#sk-container-id-4 div.sk-parallel-item:first-child::after {align-self: flex-end;width: 50%;}#sk-container-id-4 div.sk-parallel-item:last-child::after {align-self: flex-start;width: 50%;}#sk-container-id-4 div.sk-parallel-item:only-child::after {width: 0;}#sk-container-id-4 div.sk-dashed-wrapped {border: 1px dashed gray;margin: 0 0.4em 0.5em 0.4em;box-sizing: border-box;padding-bottom: 0.4em;background-color: white;}#sk-container-id-4 div.sk-label label {font-family: monospace;font-weight: bold;display: inline-block;line-height: 1.2em;}#sk-container-id-4 div.sk-label-container {text-align: center;}#sk-container-id-4 div.sk-container {/* jupyter's `normalize.less` sets `[hidden] { display: none; }` but bootstrap.min.css set `[hidden] { display: none !important; }` so we also need the `!important` here to be able to override the default hidden behavior on the sphinx rendered scikit-learn.org. See: https://github.com/scikit-learn/scikit-learn/issues/21755 */display: inline-block !important;position: relative;}#sk-container-id-4 div.sk-text-repr-fallback {display: none;}</style><div id=\"sk-container-id-4\" class=\"sk-top-container\"><div class=\"sk-text-repr-fallback\"><pre>LinearRegression()</pre><b>In a Jupyter environment, please rerun this cell to show the HTML representation or trust the notebook. <br />On GitHub, the HTML representation is unable to render, please try loading this page with nbviewer.org.</b></div><div class=\"sk-container\" hidden><div class=\"sk-item\"><div class=\"sk-estimator sk-toggleable\"><input class=\"sk-toggleable__control sk-hidden--visually\" id=\"sk-estimator-id-4\" type=\"checkbox\" checked><label for=\"sk-estimator-id-4\" class=\"sk-toggleable__label sk-toggleable__label-arrow\">LinearRegression</label><div class=\"sk-toggleable__content\"><pre>LinearRegression()</pre></div></div></div></div></div>"
      ],
      "text/plain": [
       "LinearRegression()"
      ]
     },
     "execution_count": 71,
     "metadata": {},
     "output_type": "execute_result"
    }
   ],
   "source": [
    "lr_mult_all = LinearRegression()\n",
    "lr_mult_all.fit(X_all_train, y_train)"
   ]
  },
  {
   "cell_type": "code",
   "execution_count": 72,
   "id": "a6da6a9f-9d6e-45fb-9ee4-5afe5ce0333f",
   "metadata": {},
   "outputs": [
    {
     "data": {
      "text/plain": [
       "0.41912853183674015"
      ]
     },
     "execution_count": 72,
     "metadata": {},
     "output_type": "execute_result"
    }
   ],
   "source": [
    "# r-squared\n",
    "lr_mult_all.score(X_all_test, y_test)"
   ]
  },
  {
   "cell_type": "markdown",
   "id": "027317c1-99d2-4857-9137-7385b37fadaa",
   "metadata": {},
   "source": [
    "Das Modell erklärt einen geringen Teil der Variabilität der Daten. Eher mäßig."
   ]
  },
  {
   "cell_type": "markdown",
   "id": "d1803bf5-48a9-4633-9752-9f850113489e",
   "metadata": {},
   "source": [
    "#### Visual Überprüfung"
   ]
  },
  {
   "cell_type": "code",
   "execution_count": 73,
   "id": "3c796593-c531-4661-82a0-b5ad4bc24f6d",
   "metadata": {},
   "outputs": [],
   "source": [
    "y_test_pred = lr_mult_all.predict(X_all_test)\n",
    "#y_pred[0:5]"
   ]
  },
  {
   "cell_type": "code",
   "execution_count": 74,
   "id": "cb120ce4-09a4-4544-bde7-48c0b18c49be",
   "metadata": {},
   "outputs": [],
   "source": [
    "import warnings\n",
    "# Deaktiviere die FutureWarnings\n",
    "warnings.simplefilter(action='ignore', category=FutureWarning)"
   ]
  },
  {
   "cell_type": "markdown",
   "id": "33e43e95-84d4-4bcb-a905-001cad2d3d4a",
   "metadata": {},
   "source": [
    "Dichte der tatsächlichen und vorhergesagten Preise vergleichen:"
   ]
  },
  {
   "cell_type": "code",
   "execution_count": 75,
   "id": "61df1533-b15f-46e0-8c23-d65b32e5b0ca",
   "metadata": {},
   "outputs": [
    {
     "data": {
      "text/plain": [
       "[]"
      ]
     },
     "execution_count": 75,
     "metadata": {},
     "output_type": "execute_result"
    },
    {
     "data": {
      "image/png": "[encoded data removed]",
      "text/plain": [
       "<Figure size 800x600 with 1 Axes>"
      ]
     },
     "metadata": {},
     "output_type": "display_data"
    }
   ],
   "source": [
    "plt.figure(figsize=(8,6))\n",
    "sns.kdeplot(y_test, color ='r', label ='Tatsächlicher Preis')\n",
    "sns.kdeplot(y_test_pred, color ='b', label ='Vorhergesagter Preis')\n",
    "plt.title(\"Vergleich der Dichte der tatsächlichen Preis und vorhergesagten Preis mithilfe von Multiple Linear Regression\")\n",
    "plt.legend()\n",
    "plt.plot()"
   ]
  },
  {
   "cell_type": "markdown",
   "id": "340832e2-ca95-423a-8e98-36fabe0df3da",
   "metadata": {},
   "source": [
    "Wir können erkennen, dass die angepassten Werte langsam näher an die tatsächlichen Werte herankommen, Wenn wir alle unabhängige Variable in Betracht genommen haben. Aber da ist auf jeden Fall noch Platz für Verbesserungen."
   ]
  },
  {
   "cell_type": "markdown",
   "id": "64971e32-8dcd-4e00-8c4d-40a07cafd752",
   "metadata": {},
   "source": [
    "### 3. Polynomial Regression"
   ]
  },
  {
   "cell_type": "code",
   "execution_count": 76,
   "id": "68abc5fe-948d-4768-b8e6-a072a16b1fa9",
   "metadata": {},
   "outputs": [],
   "source": [
    "from sklearn.model_selection import train_test_split"
   ]
  },
  {
   "cell_type": "code",
   "execution_count": 77,
   "id": "dc08e3bd-abf0-437b-b26b-5b065f62de63",
   "metadata": {},
   "outputs": [],
   "source": [
    "from sklearn.preprocessing import PolynomialFeatures"
   ]
  },
  {
   "cell_type": "code",
   "execution_count": 78,
   "id": "27e6761c-ac5f-4951-9399-04471f33cf1e",
   "metadata": {},
   "outputs": [],
   "source": [
    "pr = PolynomialFeatures(degree=2)\n",
    "X_all_pr = pr.fit_transform(X_all)\n",
    "y = df1['price(€)']\n"
   ]
  },
  {
   "cell_type": "code",
   "execution_count": 79,
   "id": "1fda9db3-dfd9-4356-892f-9a2c195572fe",
   "metadata": {},
   "outputs": [],
   "source": [
    "# X_all_pr.shape[1]"
   ]
  },
  {
   "cell_type": "code",
   "execution_count": 80,
   "id": "c28cfb87-0447-4bf4-98f3-fa2cb0212eb0",
   "metadata": {},
   "outputs": [],
   "source": [
    "X_train, X_test, y_train, y_test = train_test_split(X_all_pr, y)"
   ]
  },
  {
   "cell_type": "code",
   "execution_count": 81,
   "id": "a2c4f417-1ca7-4914-ada0-4922c2b53b87",
   "metadata": {},
   "outputs": [],
   "source": [
    "pr = PolynomialFeatures(degree=1)\n",
    "X_train_pr = pr.fit_transform(X_train)\n",
    "X_test_pr = pr.transform(X_test)\n",
    "    \n",
    "# Polynomregression durchführen\n",
    "coefficients, _, _, _ = np.linalg.lstsq(X_train_pr, y_train, rcond=None)\n",
    "    \n",
    "# Vorhersagen machen\n",
    "y_test_pred = np.dot(X_test_pr, coefficients)"
   ]
  },
  {
   "cell_type": "code",
   "execution_count": 82,
   "id": "e38887ea-531b-4c89-aa8c-417e423beda3",
   "metadata": {},
   "outputs": [
    {
     "data": {
      "text/plain": [
       "-1.9016104992839251"
      ]
     },
     "execution_count": 82,
     "metadata": {},
     "output_type": "execute_result"
    }
   ],
   "source": [
    "from sklearn.metrics import r2_score\n",
    "r2 = r2_score(y_test, y_test_pred)\n",
    "r2"
   ]
  },
  {
   "cell_type": "markdown",
   "id": "1bd2da5e-ab54-4230-b9ee-bd7a53e2f8cf",
   "metadata": {},
   "source": [
    "#### Visual überprüfen"
   ]
  },
  {
   "cell_type": "code",
   "execution_count": 83,
   "id": "5f101395-4834-45ce-acf4-2603201954ae",
   "metadata": {},
   "outputs": [
    {
     "data": {
      "text/plain": [
       "[]"
      ]
     },
     "execution_count": 83,
     "metadata": {},
     "output_type": "execute_result"
    },
    {
     "data": {
      "image/png": "[encoded data removed]",
      "text/plain": [
       "<Figure size 800x600 with 1 Axes>"
      ]
     },
     "metadata": {},
     "output_type": "display_data"
    }
   ],
   "source": [
    "plt.figure(figsize=(8,6))\n",
    "sns.kdeplot(y_test, color ='r', label ='Tatsächlicher Preis')\n",
    "sns.kdeplot(y_test_pred, color ='b', label ='Vorhergesagter Preis')\n",
    "plt.title(\"Vergleich der Dichte der tatsächlichen Preis und vorhergesagten Preis mithilfe von Polynomial Regression\")\n",
    "plt.legend()\n",
    "plt.plot()"
   ]
  },
  {
   "cell_type": "markdown",
   "id": "3c4d5f6c-16bb-46f0-bbbe-ddfc1755989c",
   "metadata": {},
   "source": [
    "Der beste Grad für die Polynomregression ist 1, was bedeutet, dass wir wieder den multiple lineare Regression getroffen. Polynomialregression mit höheren Graden scheint nicht gut zu unseren Daten zu passen."
   ]
  },
  {
   "cell_type": "markdown",
   "id": "eadb320e-1dea-45f1-93d9-aee112002468",
   "metadata": {},
   "source": [
    "### XGboost"
   ]
  },
  {
   "cell_type": "code",
   "execution_count": 84,
   "id": "b2907602-21a2-4186-84f0-9182f70ce5d4",
   "metadata": {},
   "outputs": [],
   "source": [
    "X_all = df1.drop('price(€)', axis =1)\n",
    "y = df1['price(€)']"
   ]
  },
  {
   "cell_type": "code",
   "execution_count": 85,
   "id": "e32937b2-d77c-4c21-bff8-88abd3aafa93",
   "metadata": {},
   "outputs": [],
   "source": [
    "from sklearn.model_selection import train_test_split\n",
    "X_all_train, X_all_test, y_train, y_test = train_test_split(X_all, y, test_size=0.25)"
   ]
  },
  {
   "cell_type": "code",
   "execution_count": 86,
   "id": "053ba42d-e8f2-4257-bef5-801badd0d32f",
   "metadata": {},
   "outputs": [
    {
     "data": {
      "text/html": [
       "<style>#sk-container-id-5 {color: black;background-color: white;}#sk-container-id-5 pre{padding: 0;}#sk-container-id-5 div.sk-toggleable {background-color: white;}#sk-container-id-5 label.sk-toggleable__label {cursor: pointer;display: block;width: 100%;margin-bottom: 0;padding: 0.3em;box-sizing: border-box;text-align: center;}#sk-container-id-5 label.sk-toggleable__label-arrow:before {content: \"▸\";float: left;margin-right: 0.25em;color: #696969;}#sk-container-id-5 label.sk-toggleable__label-arrow:hover:before {color: black;}#sk-container-id-5 div.sk-estimator:hover label.sk-toggleable__label-arrow:before {color: black;}#sk-container-id-5 div.sk-toggleable__content {max-height: 0;max-width: 0;overflow: hidden;text-align: left;background-color: #f0f8ff;}#sk-container-id-5 div.sk-toggleable__content pre {margin: 0.2em;color: black;border-radius: 0.25em;background-color: #f0f8ff;}#sk-container-id-5 input.sk-toggleable__control:checked~div.sk-toggleable__content {max-height: 200px;max-width: 100%;overflow: auto;}#sk-container-id-5 input.sk-toggleable__control:checked~label.sk-toggleable__label-arrow:before {content: \"▾\";}#sk-container-id-5 div.sk-estimator input.sk-toggleable__control:checked~label.sk-toggleable__label {background-color: #d4ebff;}#sk-container-id-5 div.sk-label input.sk-toggleable__control:checked~label.sk-toggleable__label {background-color: #d4ebff;}#sk-container-id-5 input.sk-hidden--visually {border: 0;clip: rect(1px 1px 1px 1px);clip: rect(1px, 1px, 1px, 1px);height: 1px;margin: -1px;overflow: hidden;padding: 0;position: absolute;width: 1px;}#sk-container-id-5 div.sk-estimator {font-family: monospace;background-color: #f0f8ff;border: 1px dotted black;border-radius: 0.25em;box-sizing: border-box;margin-bottom: 0.5em;}#sk-container-id-5 div.sk-estimator:hover {background-color: #d4ebff;}#sk-container-id-5 div.sk-parallel-item::after {content: \"\";width: 100%;border-bottom: 1px solid gray;flex-grow: 1;}#sk-container-id-5 div.sk-label:hover label.sk-toggleable__label {background-color: #d4ebff;}#sk-container-id-5 div.sk-serial::before {content: \"\";position: absolute;border-left: 1px solid gray;box-sizing: border-box;top: 0;bottom: 0;left: 50%;z-index: 0;}#sk-container-id-5 div.sk-serial {display: flex;flex-direction: column;align-items: center;background-color: white;padding-right: 0.2em;padding-left: 0.2em;position: relative;}#sk-container-id-5 div.sk-item {position: relative;z-index: 1;}#sk-container-id-5 div.sk-parallel {display: flex;align-items: stretch;justify-content: center;background-color: white;position: relative;}#sk-container-id-5 div.sk-item::before, #sk-container-id-5 div.sk-parallel-item::before {content: \"\";position: absolute;border-left: 1px solid gray;box-sizing: border-box;top: 0;bottom: 0;left: 50%;z-index: -1;}#sk-container-id-5 div.sk-parallel-item {display: flex;flex-direction: column;z-index: 1;position: relative;background-color: white;}#sk-container-id-5 div.sk-parallel-item:first-child::after {align-self: flex-end;width: 50%;}#sk-container-id-5 div.sk-parallel-item:last-child::after {align-self: flex-start;width: 50%;}#sk-container-id-5 div.sk-parallel-item:only-child::after {width: 0;}#sk-container-id-5 div.sk-dashed-wrapped {border: 1px dashed gray;margin: 0 0.4em 0.5em 0.4em;box-sizing: border-box;padding-bottom: 0.4em;background-color: white;}#sk-container-id-5 div.sk-label label {font-family: monospace;font-weight: bold;display: inline-block;line-height: 1.2em;}#sk-container-id-5 div.sk-label-container {text-align: center;}#sk-container-id-5 div.sk-container {/* jupyter's `normalize.less` sets `[hidden] { display: none; }` but bootstrap.min.css set `[hidden] { display: none !important; }` so we also need the `!important` here to be able to override the default hidden behavior on the sphinx rendered scikit-learn.org. See: https://github.com/scikit-learn/scikit-learn/issues/21755 */display: inline-block !important;position: relative;}#sk-container-id-5 div.sk-text-repr-fallback {display: none;}</style><div id=\"sk-container-id-5\" class=\"sk-top-container\"><div class=\"sk-text-repr-fallback\"><pre>XGBRegressor(base_score=None, booster=None, callbacks=None,\n",
       "             colsample_bylevel=None, colsample_bynode=None,\n",
       "             colsample_bytree=None, device=None, early_stopping_rounds=None,\n",
       "             enable_categorical=False, eval_metric=None, feature_types=None,\n",
       "             gamma=None, grow_policy=None, importance_type=None,\n",
       "             interaction_constraints=None, learning_rate=None, max_bin=None,\n",
       "             max_cat_threshold=None, max_cat_to_onehot=None,\n",
       "             max_delta_step=None, max_depth=None, max_leaves=None,\n",
       "             min_child_weight=None, missing=nan, monotone_constraints=None,\n",
       "             multi_strategy=None, n_estimators=None, n_jobs=None,\n",
       "             num_parallel_tree=None, random_state=None, ...)</pre><b>In a Jupyter environment, please rerun this cell to show the HTML representation or trust the notebook. <br />On GitHub, the HTML representation is unable to render, please try loading this page with nbviewer.org.</b></div><div class=\"sk-container\" hidden><div class=\"sk-item\"><div class=\"sk-estimator sk-toggleable\"><input class=\"sk-toggleable__control sk-hidden--visually\" id=\"sk-estimator-id-5\" type=\"checkbox\" checked><label for=\"sk-estimator-id-5\" class=\"sk-toggleable__label sk-toggleable__label-arrow\">XGBRegressor</label><div class=\"sk-toggleable__content\"><pre>XGBRegressor(base_score=None, booster=None, callbacks=None,\n",
       "             colsample_bylevel=None, colsample_bynode=None,\n",
       "             colsample_bytree=None, device=None, early_stopping_rounds=None,\n",
       "             enable_categorical=False, eval_metric=None, feature_types=None,\n",
       "             gamma=None, grow_policy=None, importance_type=None,\n",
       "             interaction_constraints=None, learning_rate=None, max_bin=None,\n",
       "             max_cat_threshold=None, max_cat_to_onehot=None,\n",
       "             max_delta_step=None, max_depth=None, max_leaves=None,\n",
       "             min_child_weight=None, missing=nan, monotone_constraints=None,\n",
       "             multi_strategy=None, n_estimators=None, n_jobs=None,\n",
       "             num_parallel_tree=None, random_state=None, ...)</pre></div></div></div></div></div>"
      ],
      "text/plain": [
       "XGBRegressor(base_score=None, booster=None, callbacks=None,\n",
       "             colsample_bylevel=None, colsample_bynode=None,\n",
       "             colsample_bytree=None, device=None, early_stopping_rounds=None,\n",
       "             enable_categorical=False, eval_metric=None, feature_types=None,\n",
       "             gamma=None, grow_policy=None, importance_type=None,\n",
       "             interaction_constraints=None, learning_rate=None, max_bin=None,\n",
       "             max_cat_threshold=None, max_cat_to_onehot=None,\n",
       "             max_delta_step=None, max_depth=None, max_leaves=None,\n",
       "             min_child_weight=None, missing=nan, monotone_constraints=None,\n",
       "             multi_strategy=None, n_estimators=None, n_jobs=None,\n",
       "             num_parallel_tree=None, random_state=None, ...)"
      ]
     },
     "execution_count": 86,
     "metadata": {},
     "output_type": "execute_result"
    }
   ],
   "source": [
    "import xgboost as xgb \n",
    "xgb_r = xgb.XGBRegressor()\n",
    "xgb_r.fit(X_all_train,y_train)"
   ]
  },
  {
   "cell_type": "code",
   "execution_count": 87,
   "id": "f57606f7-d206-44c7-a392-bd8fef3e538a",
   "metadata": {},
   "outputs": [
    {
     "data": {
      "text/plain": [
       "0.8507306321215903"
      ]
     },
     "execution_count": 87,
     "metadata": {},
     "output_type": "execute_result"
    }
   ],
   "source": [
    "# R-squared\n",
    "xgb_r.score(X_all_test, y_test)"
   ]
  },
  {
   "cell_type": "code",
   "execution_count": 88,
   "id": "06e63d8a-e974-4367-9c37-d45d05b41a5e",
   "metadata": {},
   "outputs": [],
   "source": [
    "y_test_pred = xgb_r.predict(X_all_test)"
   ]
  },
  {
   "cell_type": "markdown",
   "id": "b4b759b2-c919-4811-8332-99863788d4cb",
   "metadata": {},
   "source": [
    "### Visual überprüfen"
   ]
  },
  {
   "cell_type": "code",
   "execution_count": 89,
   "id": "a6bd0d61-260f-414a-b42b-dbac3c682ca3",
   "metadata": {},
   "outputs": [
    {
     "data": {
      "text/plain": [
       "[]"
      ]
     },
     "execution_count": 89,
     "metadata": {},
     "output_type": "execute_result"
    },
    {
     "data": {
      "image/png": "[encoded data removed]",
      "text/plain": [
       "<Figure size 800x600 with 1 Axes>"
      ]
     },
     "metadata": {},
     "output_type": "display_data"
    }
   ],
   "source": [
    "plt.figure(figsize=(8,6))\n",
    "sns.kdeplot(y_test, color ='r', label ='Tatsächlicher Test Preis')\n",
    "sns.kdeplot(y_test_pred, color ='b', label ='Vorhergesagter Test Preis')\n",
    "plt.legend()\n",
    "plt.title(\"Vergleich der Dichte der tatsächlichen Preis und vorhergesagten Preis unter Verwendung von Xgboost\")\n",
    "plt.plot()"
   ]
  },
  {
   "cell_type": "markdown",
   "id": "ef93ca62-e15f-4e99-aeb6-1d869bb776ad",
   "metadata": {},
   "source": [
    "Xgboost mit default parameter scheint ein guter Model für unser Data zu passen. Weil die beiden Kurven sich ziemlich überklappen"
   ]
  },
  {
   "cell_type": "markdown",
   "id": "6460d983-87af-4afa-bcb6-c5f95a1f5911",
   "metadata": {},
   "source": [
    "## Lassen wir uns ein paar beliebige Handys auswählen und unser Model Testen "
   ]
  },
  {
   "cell_type": "code",
   "execution_count": 90,
   "id": "e054f841-fd84-44a4-9fdf-f24f17e4d2b6",
   "metadata": {},
   "outputs": [],
   "source": [
    "y_pred = xgb_r.predict(X_all)"
   ]
  },
  {
   "cell_type": "markdown",
   "id": "5fba4051-c624-4205-83d0-3b0795ecc4e7",
   "metadata": {},
   "source": [
    "\"Ich werde die Indizes der Testdaten verwenden, die mein Modell nicht gelernt hat.\""
   ]
  },
  {
   "cell_type": "code",
   "execution_count": 91,
   "id": "b2340265-80c8-423a-ae3a-12aa2647b047",
   "metadata": {},
   "outputs": [
    {
     "data": {
      "text/plain": [
       "Index([ 425,  165,   47,   64,  209, 1052,  397, 1026,  977,  676,\n",
       "       ...\n",
       "       1120,  140,  613,  103,  725,  634,  101,  774,  261, 1037],\n",
       "      dtype='int64', length=305)"
      ]
     },
     "execution_count": 91,
     "metadata": {},
     "output_type": "execute_result"
    }
   ],
   "source": [
    "X_all_test.index"
   ]
  },
  {
   "cell_type": "code",
   "execution_count": 92,
   "id": "5afaf9fa-6262-401a-930c-d493aece853d",
   "metadata": {},
   "outputs": [
    {
     "name": "stdout",
     "output_type": "stream",
     "text": [
      "brand_name                                        XIAOMI\n",
      "model                      Redmi Note 10 Pro Max 8GB Ram\n",
      "internal_storage                                     128\n",
      "ram                                                  8.0\n",
      "battery_capacity (mAh)                            5020.0\n",
      "rare_camera               108 MP + 8 MP + 1125 MP + 2 MP\n",
      "front_camera (mp)                                   16.0\n",
      "display                                    6.67\" (120Hz)\n",
      "disp_size (inch)                                    6.67\n",
      "processor                                Snapdragon 732G\n",
      "processor brand                                         \n",
      "price(€)                                          248.64\n",
      "brand_name (num)                                       4\n",
      "processor brand (num)                                  0\n",
      "Name: 668, dtype: object\n",
      "\n",
      "\n",
      "Der vorhergesgter Preis lautet: 264.7311706542969 €\n"
     ]
    }
   ],
   "source": [
    "print(df.loc[668,:])\n",
    "print('\\n')\n",
    "print(f'Der vorhergesgter Preis lautet: {y_pred[668]} €')"
   ]
  },
  {
   "cell_type": "code",
   "execution_count": 93,
   "id": "9638790c-9a40-4b1d-86ee-62669d58f65e",
   "metadata": {},
   "outputs": [
    {
     "name": "stdout",
     "output_type": "stream",
     "text": [
      "brand_name                                   XIAOMI\n",
      "model                     Redmi 11 Prime 5G 6GB Ram\n",
      "internal_storage                                128\n",
      "ram                                             6.0\n",
      "battery_capacity (mAh)                       5000.0\n",
      "rare_camera                            50 MP + 2 MP\n",
      "front_camera (mp)                               5.0\n",
      "display                                6.58\" (90Hz)\n",
      "disp_size (inch)                               6.58\n",
      "processor                            Dimensity 700 \n",
      "processor brand                           Dimensity\n",
      "price(€)                                     254.05\n",
      "brand_name (num)                                  4\n",
      "processor brand (num)                             3\n",
      "Name: 443, dtype: object\n",
      "\n",
      "\n",
      "Der vorhergesgter Preis lautet: 235.0828399658203 €\n"
     ]
    }
   ],
   "source": [
    "print(df.loc[443,:])\n",
    "print('\\n')\n",
    "print(f'Der vorhergesgter Preis lautet: {y_pred[443]} €')"
   ]
  },
  {
   "cell_type": "code",
   "execution_count": 94,
   "id": "022fed4a-b0aa-4569-87ab-2f527d630daa",
   "metadata": {},
   "outputs": [
    {
     "name": "stdout",
     "output_type": "stream",
     "text": [
      "brand_name                              SAMSUNG\n",
      "model                      Samsung W22 5G 512GB\n",
      "internal_storage                            512\n",
      "ram                                        12.0\n",
      "battery_capacity (mAh)                   4400.0\n",
      "rare_camera               12 MP + 12 MP + 12 MP\n",
      "front_camera (mp)                           4.0\n",
      "display                            7.6\" (120Hz)\n",
      "disp_size (inch)                            7.6\n",
      "processor                     Snapdragon 888 5G\n",
      "processor brand                      Snapdragon\n",
      "price(€)                                1756.75\n",
      "brand_name (num)                              3\n",
      "processor brand (num)                        16\n",
      "Name: 99, dtype: object\n",
      "\n",
      "\n",
      "Der vorhergesgter Preis lautet: 1714.74755859375 €\n"
     ]
    }
   ],
   "source": [
    "print(df.loc[99,:])\n",
    "print('\\n')\n",
    "print(f'Der vorhergesgter Preis lautet: {y_pred[99]} €')"
   ]
  },
  {
   "cell_type": "code",
   "execution_count": null,
   "id": "ad483380-f9cc-4be3-b82e-f1a6e6785fd5",
   "metadata": {},
   "outputs": [],
   "source": []
  },
  {
   "cell_type": "code",
   "execution_count": null,
   "id": "ee2ecc23-6f18-414e-8ad0-6d5419be8b9c",
   "metadata": {},
   "outputs": [],
   "source": []
  }
 ],
 "metadata": {
  "kernelspec": {
   "display_name": "Python 3 (ipykernel)",
   "language": "python",
   "name": "python3"
  },
  "language_info": {
   "codemirror_mode": {
    "name": "ipython",
    "version": 3
   },
   "file_extension": ".py",
   "mimetype": "text/x-python",
   "name": "python",
   "nbconvert_exporter": "python",
   "pygments_lexer": "ipython3",
   "version": "3.11.7"
  }
 },
 "nbformat": 4,
 "nbformat_minor": 5
}
