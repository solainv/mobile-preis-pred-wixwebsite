{
 "cells": [
  {
   "cell_type": "markdown",
   "id": "dab3c172-f174-4980-b4bc-ff25a12826d4",
   "metadata": {},
   "source": [
    "# Smartphonepreis-predictor"
   ]
  },
  {
   "cell_type": "markdown",
   "id": "9dbe5789-21b8-4bac-bee4-63b2d48d2c8a",
   "metadata": {},
   "source": [
    "\n",
    "<div style=\"background-color:#e6c1ff\">\n",
    "<h2>Data Import</h2>\n",
    "</div>"
   ]
  },
  {
   "cell_type": "code",
   "execution_count": 1,
   "id": "bdab6e7b-691d-46ee-9db6-0e601bbed2cd",
   "metadata": {},
   "outputs": [],
   "source": [
    "import pandas as pd\n",
    "import numpy as np\n",
    "from sklearn.model_selection import train_test_split\n",
    "pd.options.display.max_columns = None\n",
    "import pickle"
   ]
  },
  {
   "cell_type": "code",
   "execution_count": 2,
   "id": "09549770-a608-4e96-baa7-6481ebf4d17d",
   "metadata": {},
   "outputs": [
    {
     "data": {
      "text/html": [
       "<div>\n",
       "<style scoped>\n",
       "    .dataframe tbody tr th:only-of-type {\n",
       "        vertical-align: middle;\n",
       "    }\n",
       "\n",
       "    .dataframe tbody tr th {\n",
       "        vertical-align: top;\n",
       "    }\n",
       "\n",
       "    .dataframe thead th {\n",
       "        text-align: right;\n",
       "    }\n",
       "</style>\n",
       "<table border=\"1\" class=\"dataframe\">\n",
       "  <thead>\n",
       "    <tr style=\"text-align: right;\">\n",
       "      <th></th>\n",
       "      <th>brand_name</th>\n",
       "      <th>model</th>\n",
       "      <th>display</th>\n",
       "      <th>front_camera</th>\n",
       "      <th>rare_camera</th>\n",
       "      <th>processor</th>\n",
       "      <th>battery_capacity</th>\n",
       "      <th>ram</th>\n",
       "      <th>internal_storage</th>\n",
       "      <th>price(€)</th>\n",
       "    </tr>\n",
       "  </thead>\n",
       "  <tbody>\n",
       "    <tr>\n",
       "      <th>0</th>\n",
       "      <td>SAMSUNG</td>\n",
       "      <td>Samsung S24 Ultra</td>\n",
       "      <td>6.8\" (120Hz)</td>\n",
       "      <td>40MP</td>\n",
       "      <td>108MP + 10MP + 10MP + 12MP</td>\n",
       "      <td>Exynos</td>\n",
       "      <td>5000 mAh</td>\n",
       "      <td>8.0</td>\n",
       "      <td>128</td>\n",
       "      <td>1810.81</td>\n",
       "    </tr>\n",
       "    <tr>\n",
       "      <th>1</th>\n",
       "      <td>SAMSUNG</td>\n",
       "      <td>Samsung S24 Plus</td>\n",
       "      <td>6.6\" (120Hz)</td>\n",
       "      <td>10MP</td>\n",
       "      <td>50MP + 10MP + 12MP</td>\n",
       "      <td>Exynos</td>\n",
       "      <td>4500 mAh</td>\n",
       "      <td>8.0</td>\n",
       "      <td>128</td>\n",
       "      <td>1027.02</td>\n",
       "    </tr>\n",
       "    <tr>\n",
       "      <th>2</th>\n",
       "      <td>SAMSUNG</td>\n",
       "      <td>Samsung Zero</td>\n",
       "      <td>6.41\" (120Hz)</td>\n",
       "      <td>32 MP</td>\n",
       "      <td>12 MP + 8 MP + 12 MP</td>\n",
       "      <td>Snapdragon 888 5G</td>\n",
       "      <td>4500 mAh</td>\n",
       "      <td>8.0</td>\n",
       "      <td>256</td>\n",
       "      <td>610.81</td>\n",
       "    </tr>\n",
       "    <tr>\n",
       "      <th>3</th>\n",
       "      <td>SAMSUNG</td>\n",
       "      <td>Samsung S24</td>\n",
       "      <td>6.1\" (120Hz)</td>\n",
       "      <td>10MP</td>\n",
       "      <td>50MP + 10MP + 12MP</td>\n",
       "      <td>Exynos</td>\n",
       "      <td>3700 mAh</td>\n",
       "      <td>8.0</td>\n",
       "      <td>128</td>\n",
       "      <td>1351.35</td>\n",
       "    </tr>\n",
       "    <tr>\n",
       "      <th>4</th>\n",
       "      <td>SAMSUNG</td>\n",
       "      <td>Samsung A05s</td>\n",
       "      <td>6.5\" (90Hz)</td>\n",
       "      <td>5MP</td>\n",
       "      <td>50MP + 2MP + 2MP</td>\n",
       "      <td>Exynos</td>\n",
       "      <td>5000 mAh</td>\n",
       "      <td>4.0</td>\n",
       "      <td>64</td>\n",
       "      <td>135.13</td>\n",
       "    </tr>\n",
       "  </tbody>\n",
       "</table>\n",
       "</div>"
      ],
      "text/plain": [
       "  brand_name              model        display front_camera  \\\n",
       "0    SAMSUNG  Samsung S24 Ultra   6.8\" (120Hz)         40MP   \n",
       "1    SAMSUNG   Samsung S24 Plus   6.6\" (120Hz)         10MP   \n",
       "2    SAMSUNG       Samsung Zero  6.41\" (120Hz)        32 MP   \n",
       "3    SAMSUNG        Samsung S24   6.1\" (120Hz)         10MP   \n",
       "4    SAMSUNG       Samsung A05s    6.5\" (90Hz)          5MP   \n",
       "\n",
       "                  rare_camera          processor battery_capacity  ram  \\\n",
       "0  108MP + 10MP + 10MP + 12MP            Exynos          5000 mAh  8.0   \n",
       "1          50MP + 10MP + 12MP            Exynos          4500 mAh  8.0   \n",
       "2        12 MP + 8 MP + 12 MP  Snapdragon 888 5G         4500 mAh  8.0   \n",
       "3          50MP + 10MP + 12MP            Exynos          3700 mAh  8.0   \n",
       "4            50MP + 2MP + 2MP            Exynos          5000 mAh  4.0   \n",
       "\n",
       "   internal_storage  price(€)  \n",
       "0               128   1810.81  \n",
       "1               128   1027.02  \n",
       "2               256    610.81  \n",
       "3               128   1351.35  \n",
       "4                64    135.13  "
      ]
     },
     "execution_count": 2,
     "metadata": {},
     "output_type": "execute_result"
    }
   ],
   "source": [
    "df = pd.read_csv('smartphone prices.csv')\n",
    "df.head()"
   ]
  },
  {
   "cell_type": "code",
   "execution_count": 3,
   "id": "c5906a0a-c812-46d3-95cf-17534ee9ac74",
   "metadata": {},
   "outputs": [],
   "source": [
    "df.rename(columns={'brand_name':'brand', 'price(€)':'price'}, inplace=True)"
   ]
  },
  {
   "cell_type": "code",
   "execution_count": 4,
   "id": "ff296c17-7e86-4a8f-bfcd-fc9524b1c80b",
   "metadata": {},
   "outputs": [
    {
     "data": {
      "text/plain": [
       "(1256, 10)"
      ]
     },
     "execution_count": 4,
     "metadata": {},
     "output_type": "execute_result"
    }
   ],
   "source": [
    "df.shape"
   ]
  },
  {
   "cell_type": "markdown",
   "id": "063c4760-43cb-4d60-a1e6-0457aa932a05",
   "metadata": {},
   "source": [
    "<div style=\"background-color:#e6c1ff\">\n",
    "<h2>Data Wrangling</h2>\n",
    "</div>"
   ]
  },
  {
   "cell_type": "markdown",
   "id": "d8e2e804-a66d-4dfc-9d84-504afc021909",
   "metadata": {},
   "source": [
    "Um Model und Visualisierungen auf kontinuiertliche Variable problemlos durchzuführen muss man numerische Werte haben"
   ]
  },
  {
   "cell_type": "code",
   "execution_count": 5,
   "id": "ca0f8413-0f58-4476-b28e-bd51f547f829",
   "metadata": {},
   "outputs": [
    {
     "data": {
      "text/plain": [
       "brand               0\n",
       "model               0\n",
       "display             0\n",
       "front_camera        0\n",
       "rare_camera         0\n",
       "processor           9\n",
       "battery_capacity    0\n",
       "ram                 0\n",
       "internal_storage    0\n",
       "price               0\n",
       "dtype: int64"
      ]
     },
     "execution_count": 5,
     "metadata": {},
     "output_type": "execute_result"
    }
   ],
   "source": [
    "#Fehlende Werte (NaN values)\n",
    "df.isna().sum()"
   ]
  },
  {
   "cell_type": "code",
   "execution_count": 6,
   "id": "601a391a-29f0-4305-ba4e-7e3e2c52c07d",
   "metadata": {},
   "outputs": [],
   "source": [
    "# hier sind nur 9 werte in der spalte processor fehlend dann werden wir sie einfach wegmachen \n",
    "df.dropna(inplace=True)"
   ]
  },
  {
   "cell_type": "code",
   "execution_count": 7,
   "id": "4830adc2-c1bd-4615-828d-6a621f723e90",
   "metadata": {},
   "outputs": [
    {
     "data": {
      "text/plain": [
       "(1247, 10)"
      ]
     },
     "execution_count": 7,
     "metadata": {},
     "output_type": "execute_result"
    }
   ],
   "source": [
    "df.shape"
   ]
  },
  {
   "cell_type": "code",
   "execution_count": 8,
   "id": "2cb8c976-decd-470b-aaf2-b3768345f58f",
   "metadata": {},
   "outputs": [
    {
     "data": {
      "text/plain": [
       "2"
      ]
     },
     "execution_count": 8,
     "metadata": {},
     "output_type": "execute_result"
    }
   ],
   "source": [
    "#sich wiederholende Zeilen zeigen\n",
    "df.duplicated().sum()"
   ]
  },
  {
   "cell_type": "code",
   "execution_count": 9,
   "id": "82849c85-9972-4212-bed7-afe6ccb45b39",
   "metadata": {},
   "outputs": [],
   "source": [
    "# sich wiederholendeZeilen entfernen\n",
    "df.drop_duplicates(inplace=True)"
   ]
  },
  {
   "cell_type": "code",
   "execution_count": 10,
   "id": "f469af5c-fd9e-4af4-8333-0c2fff004d99",
   "metadata": {},
   "outputs": [
    {
     "data": {
      "text/plain": [
       "brand               0\n",
       "model               0\n",
       "display             0\n",
       "front_camera        0\n",
       "rare_camera         0\n",
       "processor           0\n",
       "battery_capacity    0\n",
       "ram                 0\n",
       "internal_storage    0\n",
       "price               0\n",
       "dtype: int64"
      ]
     },
     "execution_count": 10,
     "metadata": {},
     "output_type": "execute_result"
    }
   ],
   "source": [
    "# Null Werte\n",
    "df.isnull().sum()"
   ]
  },
  {
   "cell_type": "markdown",
   "id": "121d0019-757c-484e-9996-c52fc10a6952",
   "metadata": {},
   "source": [
    "Nachdem die Methode \"drop\" verwendet wurde, muss der Index immer zurückgesetzt werden. Dies ist besonders wichtig, wenn Schleifen über Zeilen verwendet werden."
   ]
  },
  {
   "cell_type": "code",
   "execution_count": 11,
   "id": "75be87df-8d1c-4d90-a280-5c842851a8ff",
   "metadata": {},
   "outputs": [],
   "source": [
    "df.reset_index(drop=True, inplace=True) # drop = true um den ehemaligen Index zu entfernen"
   ]
  },
  {
   "cell_type": "code",
   "execution_count": 12,
   "id": "ec586a4a-4f57-42db-8553-dfe6f66e4e72",
   "metadata": {},
   "outputs": [
    {
     "data": {
      "text/plain": [
       "brand                object\n",
       "model                object\n",
       "display              object\n",
       "front_camera         object\n",
       "rare_camera          object\n",
       "processor            object\n",
       "battery_capacity     object\n",
       "ram                 float64\n",
       "internal_storage      int64\n",
       "price               float64\n",
       "dtype: object"
      ]
     },
     "execution_count": 12,
     "metadata": {},
     "output_type": "execute_result"
    }
   ],
   "source": [
    "df.dtypes"
   ]
  },
  {
   "cell_type": "code",
   "execution_count": 13,
   "id": "f41386a4-6c20-49b2-a841-9b18b1de02ea",
   "metadata": {},
   "outputs": [
    {
     "data": {
      "text/plain": [
       "Index(['brand', 'model', 'display', 'front_camera', 'rare_camera', 'processor',\n",
       "       'battery_capacity', 'ram', 'internal_storage', 'price'],\n",
       "      dtype='object')"
      ]
     },
     "execution_count": 13,
     "metadata": {},
     "output_type": "execute_result"
    }
   ],
   "source": [
    "df.columns"
   ]
  },
  {
   "cell_type": "code",
   "execution_count": 14,
   "id": "05110800-2a0c-4cf6-8a2f-bb87dcde636a",
   "metadata": {},
   "outputs": [],
   "source": [
    "def unique_values():\n",
    "    for column in df.columns:\n",
    "        unique_values = df[column].unique()\n",
    "        print(f\"Einzigartige Werte in Spalte '{column}':\\n {unique_values}\")\n",
    "        print('\\n')\n",
    "# unique_values()"
   ]
  },
  {
   "cell_type": "markdown",
   "id": "d286553c-7359-4937-83c1-83e50b7209cc",
   "metadata": {},
   "source": [
    "<details>\n",
    "<summary>Einzigartige Werte für jede Spalte anzeigen</summary>\n",
    "\n",
    "```python\n",
    "Einzigartige Werte in Spalte 'brand_name':\r\n",
    " ['SAMSUNG' 'XIAOMI' 'APPLE' 'ONEPLUS' 'OPPO']\r\n",
    "\r\n",
    "\r\n",
    "Einzigartige Werte in Spalte 'model':\r\n",
    " ['Samsung S24 Ultra' 'Samsung S24 Plus' 'Samsung Zero' ... 'Oppo A31'\r\n",
    " 'Oppo Reno 4 SE' 'Oppo Reno 4 SE 256GB']\r\n",
    "\r\n",
    "\r\n",
    "Einzigartige Werte in Spalte 'display':\r\n",
    " ['6.8\" (120Hz)' '6.6\" (120Hz)' '6.41\" (120Hz)' '6.1\" (120Hz)'\r\n",
    " '6.5\" (90Hz)' '6.5\"' '6.7\" (120Hz)' '6.6\" (90 (unconfirmed)Hz)'\r\n",
    " '6.7\" (90Hz)' '6.4\" (90Hz)' '6.5\" (120Hz)' '6.6\"' '6.6\" (90Hz)'\r\n",
    " '7.6\" (120Hz)' '6.7\"' '6.4\" (120Hz)' '6.4\" (60 (International)Hz)'\r\n",
    " '6.55\" (90Hz)' '5.8\" (90Hz)' '6.4\"' '7.2\"' '6.1\"' '6.9\" (120Hz)'\r\n",
    " '6.2\" (120Hz)' '7.5\"' '6.2\"' '5.14\"' '6.9\"' '5.7\"' '10.4\"' '4.6\"' '6.8\"'\r\n",
    " '6.3\"' '5.0\"' '5.8\"' '5.9\"' '7.3\"' '6.0\"' '5.5\"' '5.6\"' '4.7\"' '5.2\"'\r\n",
    " '4.0\"' '5.1\"' '4.5\"' '4.3\"' '4.8\"' '8.0\"' '5.3\"' '6.67\" (120Hz)'\r\n",
    " '6.58\" (90Hz)' '6.6\" (144Hz)' '6.55\" (120Hz)' '6.43\" (90Hz)'\r\n",
    " '6.73\" (120Hz)' '6.28\" (120Hz)' '6.53\"' '6.71\"' '6.67\" (90Hz)' '6.43\"'\r\n",
    " '6.3\" (120Hz)' '6.52\"' '6.47\"' '6.67\" (144Hz)' '6.81\" (120Hz)' '8.01\"'\r\n",
    " '6.53\" (90Hz)' '11.0\" (120Hz)' '6.67\"' '7.1\"' '6.22\"' '6.39\"' '6.26\"'\r\n",
    " '10.9\"' '12.9\" (120Hz)' '5.4\"' '5.4\" (120Hz)' '10.2\"' '1.78\"' '7.9\"'\r\n",
    " '10.5\"' '12.9\"' '11.0\"' '3.5\"' '6.56\" (90Hz)' '6.59\" (120Hz)' '6.56\"'\r\n",
    " '6.59\"' '6.49\" (90Hz)' '6.62\" (120Hz)' '6.52\" (90Hz)' '6.55\"' '6.44\"'\r\n",
    " '6.78\"' '6.41\"' '6.28\"' '6.01\"' '6.59\" (90Hz)' '6.78\" (120Hz)'\r\n",
    " '7.1\" (120Hz)' '6.43\" (120Hz)' '6.51\"' '6.57\"' '6.42\"' '6.23\"']\r\n",
    "\r\n",
    "\r\n",
    "Einzigartige Werte in Spalte 'front_camera':\r\n",
    " ['40MP' '10MP' '32 MP' '5MP' '8 MP' '13MP' '32MP' '8MP' '13 MP' '20 MP'\r\n",
    " '5 MP' '40 MP' '10 MP' '12MP' '4MP' '4 MP + 10 MP' 'Unspecified MP'\r\n",
    " '16 MP + 10 MP' '16 MP' '25 MP'\r\n",
    " 'Motorized pop-up rotating main camera module' '10 MP + 8 MP'\r\n",
    " '10 MP + 1228 MP + 10 MP' '24 MP' '12 MP' '5 MP / 13 MP' '16 MP + 108 MP'\r\n",
    " '2 MP' '8 MP + 2 MP' 'VGA' '2 MP (USA)\\n5 MP' '3.7 MP' '2.1 MP' '1.9 MP'\r\n",
    " '1.3 MP' '16MP' '20MP' 'Under-display 20 MP' 'Pop-up 20 MP'\r\n",
    " '20 MP + 082 MP' 'Motorized pop-up 20 MP' '7 MP' '1.2 MP' '-' 'No'\r\n",
    " 'Unknown camera' '32 MP + 088 MP' 'Motorized pop-up 16 MP' '44MP'\r\n",
    " '32 MP + 32 MP' '44 MP' '16 MP + 102 MP' '16 MP + 2 MP' '44 MP + 072 MP'\r\n",
    " 'Pop-up 16 MP' 'Pop-up 25 MP']\r\n",
    "\r\n",
    "\r\n",
    "Einzigartige Werte in Spalte 'rare_camera':\r\n",
    " ['108MP + 10MP + 10MP + 12MP' '50MP + 10MP + 12MP' '12 MP + 8 MP + 12 MP'\r\n",
    " '50MP + 2MP + 2MP' '50MP + 2MP' '12MP + 12MP'\r\n",
    " '50MP + 8MP + 2MP (not confirmed)' '108MP + 13MP + 8MP + 2MP'\r\n",
    " '108MP + 8MP + 2MP + 2MP' '50MP + 8MP + 2MP + 2MP (not confirmed)'\r\n",
    " '48MP + 8MP + 5MP + 2MP' '108MP + 12MP + 5MP + 5MP'\r\n",
    " '64MP + 12MP + 5MP + 5MP' '50MP + 5MP + 2MP' '50MP + 13MP + 8MP + 2MP'\r\n",
    " '64MP + 8MP + 2MP + 2MP' '64 MP + 12 MP + 1125 MP + 5 MP'\r\n",
    " '50MP + 8MP + 2MP + 2MP' '13 MP + 2 MP + 2 MP' '48MP + 2MP' '8 MP'\r\n",
    " '13MP + 2MP' '13 MP + 2 MP' '12 MP + 64 MP + 12 MP' '108 MP + 12 MP'\r\n",
    " '64 MP + 12 MP + 5 MP + 5 MP' '48 MP + 8 MP + 5 MP + 2 MP'\r\n",
    " '12 MP + 12 MP + 12 MP' '50 MP + 5 MP + 1122 MP + 2 MP'\r\n",
    " '50MP + 8MP + 2MP' '50 MP + 5 MP + 2 MP + 2 MP' '50 MP + 5 MP + 2 MP'\r\n",
    " '13 MP' '50 MP + 8 MP + 1122 MP' '108 MP + 10 MP + 10 MP + 12 MP'\r\n",
    " '50 MP + 10 MP + 12 MP' '50 MP + 2 MP + 2 MP'\r\n",
    " '48 MP + 8 MP + 1122 MP + 2 MP' '64 MP + 12 MP + 5 MP'\r\n",
    " '48 MP + 8 MP + 5 MP + 5 MP' '48MP + 20MP + 16MP + 12MP'\r\n",
    " '64 MP + 8 MP + 1125 MP + 5 MP' '64 MP + 5 MP + 1122 MP'\r\n",
    " '64 MP + 8 MP + 5 MP' '64MP' '48 MP + 5 MP + 2 MP + 2 MP' '12 MP + 12 MP'\r\n",
    " '108 MP + 12 MP + 12 MP' '48 MP + 8 MP + 1125 MP'\r\n",
    " '64 MP + 8 MP + 12 MP + 5 MP' '64 MP + 8 MP + 1122 MP + 2 MP'\r\n",
    " '48 MP + 5 MP + 1122 MP' '64 MP + 8 MP + 5 MP + 5 MP'\r\n",
    " '64 MP + 12 MP + +5 MP + +5 MP'\r\n",
    " '108 MP (2nd gen) + 10 MP + 10 MP + 12 MP' '64 MP + 12 MP + 12 MP'\r\n",
    " '13 MP + 5 MP + 2 MP' '48 MP + 8 MP + 5 MP' '64 MP + 8 MP + 1125 MP'\r\n",
    " '108 MP + 13 MP + 12 MP' '48 MP + 8 MP + 2 MP + 2 MP'\r\n",
    " ' 48 MP + 8 MP + 5 MP + 5 MP' '48 MP + 8 MP + 1125 MP + 5 MP'\r\n",
    " '16 MP + 8 MP + 2 MP + 2 MP' '108 MP + 48 MP + 12 MP + 03 MP'\r\n",
    " '12 MP + 64 MP + 12 MP + 03 MP' '12 MP' '48 MP + 12 MP + 5 MP'\r\n",
    " '48 MP + 12 MP + 5 MP + 5 MP' '13 MP + 8 MP + 5 MP' '25 MP + 8 MP + 5 MP'\r\n",
    " '12 MP + 12 MP + 16 MP' '5 MP' '32 MP + 8 MP + 5 MP' '48 MP + 8 MP'\r\n",
    " '12 MP + 16 MP' '16 MP + 5 MP' '13 MP + 5 MP' '24 MP + 10 MP + 5 MP'\r\n",
    " '12 MP + 5 MP' '24 MP + 10 MP + 8 MP + 5 MP' '24 MP + 8 MP + 5 MP'\r\n",
    " '8 MP + 13 MP' '16 MP' '8 MP + 5 MP' '200MP + 8MP + 2MP'\r\n",
    " '64MP + 8MP + 2MP' '50MP + 50MP + 50MP' '50MP + 13MP + 8MP' '13MP'\r\n",
    " '108MP + 8MP + 2MP' '108MP + 64MP + 8MP + 52MP' '48 MP + 2 MP + 2 MP'\r\n",
    " '50MP + 13MP + 2MP' '50 MP + 48 MP + 48 MP'\r\n",
    " '108MP + 8MP + 2MP (not confirmed)' '50 MP + 13 MP + 8 MP'\r\n",
    " '50MP + 13MP + 5MP' '50MP + 50MP + 50MP (not confirmed)'\r\n",
    " '108MP + 16MP + 8MP' '64 MP + 8 MP + -2 MP' '108MP + 12MP + 5MP'\r\n",
    " '8 MP + 008 MP' '108MP + 8MP + 5MP' '50.3 MP + 48 MP + 48 MP'\r\n",
    " '200MP + 16MP + 8MP' '8 MP + 03 MP' '64 MP + 8 MP + 1122 MP + 5 MP'\r\n",
    " '50 MP + 2 MP' '64 MP + 8 MP + 1122 MP' '108 MP + 8 MP + 2 MP'\r\n",
    " '64 MP + 8 MP + 2 MP' '13 MP + 8 MP + 1125 MP + 2 MP' '50MP + 8MP'\r\n",
    " '108 MP + 8 MP + 13 MP' '64MP + 13MP + 2MP'\r\n",
    " '108 MP + 13 MP + -8 MP + 2 MP' '50 MP + 8 MP + 2 MP'\r\n",
    " '108 MP + 8 MP + 1125 MP' '64 MP + 8 MP + -5 MP' '108 MP + 13 MP + 5 MP'\r\n",
    " '64 MP + 13 MP + 2 MP' '108 MP + 8 MP + 2 MP + 2 MP'\r\n",
    " '50 MP + 8 MP + 2 MP + 2 MP' '108 MP + 13 MP + 1125 MP'\r\n",
    " '50 MP + 8 MP + 13 MP' '108 MP + 8 MP + 102 MP' '50 MP + 13 MP + 1125 MP'\r\n",
    " '50 MP + 50 MP + 50 MP' '50 MP + 8 MP' '64MP + 13MP + 8MP + 2MP'\r\n",
    " '108 MP + 8 MP + 5 MP' '108 MP + 8 MP + 1125 MP + 2 MP'\r\n",
    " '64 MP + 13 MP + 1125 MP' '48 MP + 8 MP + 1125 MP + 2 MP'\r\n",
    " '48MP (wide) + 2MP (macro) + 2MP (depth)'\r\n",
    " '64 MP (wide) + 8 MP (ultrawide) + 5 MP (macro)'\r\n",
    " '108 MP + 13 MP + 5 MP + 2 MP' '108 MP + 8 MP + 1122 MP + 2 MP'\r\n",
    " '64 MP + 13 MP + 102 MP + 2 MP' '48 MP + 8 MP + 1122 MP'\r\n",
    " '64 MP + 8 MP + 2 MP + 2 MP' '64 MP + 13 MP + 5 MP'\r\n",
    " '64 MP + 13 MP + 2 MP + 2 MP' '13 MP + 8 MP + 5 MP + 2 MP'\r\n",
    " '48 MP + 48 MP + 12 MP + 20 MP' '64 MP + 13 MP + 5 MP + 2 MP'\r\n",
    " '64 MP + 5 MP + 13 MP + 2 MP' '64 MP + 8 MP + 5 MP + 2 MP'\r\n",
    " '64 MP + 8 MP + 2 MP + 5 MP' '64 MP + 8 MP + 1125 MP + 2 MP'\r\n",
    " '108 MP + 13 MP + 2 MP + 2 MP' '108 MP + 12 MP + 5 MP + 20 MP'\r\n",
    " '12 MP + 2 MP' '48 MP + 8 MP + 13 MP' '48 MP + 12 MP' '48 MP + 5 MP'\r\n",
    " '48 MP + 5 MP + 12 MP + 2 MP' '48MP + 12MP + 12MP' '12 MP + 10 MP' 'No'\r\n",
    " '3.15 MP' '2 MP' '48MP + 8MP + 2MP' '64MP + 2MP + 2MP'\r\n",
    " '50MP + 48MP + 48MP' '50MP + 48MP + 8MP' '64MP + 12MP + 5MP'\r\n",
    " '50MP + 8MP + 50MP' '48 MP + 2 MP' '48 MP + 8 MP + 50 MP'\r\n",
    " '48MP + 16MP + 5MP + 2MP' '48 MP + 8 MP + 2 MP' '64 MP + 2 MP + 2 MP'\r\n",
    " '48 MP + 50 MP + 2 MP' '50 MP + 16 MP + 102 MP' '50 MP + 1048 MP + 2 MP'\r\n",
    " '48 MP + 16 MP + 105 MP + 2 MP' '48 MP + 8 MP + 50 MP + 102 MP'\r\n",
    " '48 MP + 16 MP + 5 MP + 2 MP' '48 MP + 8 MP + 48 MP + 5 MP'\r\n",
    " '48 MP + 12 MP + 16 MP' '48 MP + 8 MP + 16 MP' '48 MP'\r\n",
    " '16 MP + 20 MP + 16 MP' '16 MP + 20 MP' '50 MP + 13 MP + 50 MP + 3 MP'\r\n",
    " '8MP' '50MP + 13MP + 50MP' '16MP + 2MP (not confirmed)'\r\n",
    " '13MP + 2MP (not confirmed)' '64MP + 8MP + 2MP (not confirmed)'\r\n",
    " '48MP + 2MP + 2MP' '50MP + 12MP + 2MP (not confirmed)' '108 MP + 2 MP'\r\n",
    " '50 MP + 13 MP + 64 MP' '50MP + 50MP + 64MP' '50MP + 50MP + 13MP'\r\n",
    " '50 MP + 13 MP + 50 MP' '50 MP + 13 MP + 16 MP' '50 MP + MP + 2 MP'\r\n",
    " '50 MP + 13 MP + 16 MP + 102 MP' '13MP + 2MP + 2MP'\r\n",
    " '12MP main sensor8MP ultra-wide lens2MP portrait lense2MP portrait lense'\r\n",
    " '50 MP + 13 MP + 16 MP + 2 MP' '48 MP + 8 MP + 1122 MP + 1752 MP'\r\n",
    " '16 MP + 2 MP + 2 MP' '48 MP + 13 MP + 48 MP'\r\n",
    " '12 MP + 8 MP + 2 MP + 2 MP' ' 12 MP + 2 MP + 2 MP'\r\n",
    " '64 MP + 13 MP + 8 MP + 2 MP'\r\n",
    " '13MP (Telephoto) + 48MP(Primary) + 8MP(Ultrawide) + 2MP (depth))'\r\n",
    " '48 MP + 13 MP + 8 MP + 142 MP' '16 MP + 2 MP' 'Pop-up 16 MP + 20 MP']\r\n",
    "\r\n",
    "\r\n",
    "Einzigartige Werte in Spalte 'processor':\r\n",
    " ['Exynos ' 'Snapdragon 888 5G' 'Mediatek ' ' Snapdragon' 'Snapdragon '\r\n",
    " 'MediaTek ' 'Snapdragon 720G' ' Snapdragon 450' 'Exynos 2200 '\r\n",
    " 'MediaTek Helio G35 ' ' Snapdragon 8 Gen 1' 'Exynos 850 ' 'MT6739W'\r\n",
    " 'Snapdragon 778G 5G' 'Exynos 2100' ' Snapdragon 8 Gen 1 Plus'\r\n",
    " 'MediaTek G35' ' Snapdragon 730G' 'Exynos 1200' ' Snapdragon 750G 5G'\r\n",
    " 'Dimensity 700 5G ' 'Mediatek G80' 'Snapdragon 750G '\r\n",
    " ' Snapdragon 8 Gen1' 'Exynos 2100 ' 'Unisoc SC9863A '\r\n",
    " ' Snapdragon 865 5G' 'MediaTek G80' ' Snapdragon 778G 5G'\r\n",
    " ' Snapdragon 750 5G' ' Snapdragon 750' 'Snapdragon 855' 'Mediatek P35 '\r\n",
    " ' Snapdragon 720G' 'Exynos 9611' 'Dimensity 720 5G' 'MediaTek P35'\r\n",
    " 'Mediatek G80 ' ' Snapdragon 888 5G' 'Exynos 850' 'Exynos 990'\r\n",
    " 'Exynos 9611 ' 'MT6833 Dimensity 700 5G ' 'Snapdragon 750G 5G'\r\n",
    " 'Exynos 9825 ' 'MT6853 Dimensity 720 5G ' 'Snapdragon 450'\r\n",
    " 'Snapdragon 865+' 'MT6739WW' 'Exynos 992' 'MediaTek P65' 'Snapdragon 439'\r\n",
    " 'Exynos 980 ' 'Snapdragon 730' 'Mediatek P65 ' 'Exynos 990 '\r\n",
    " 'Snapdragon 820' ' Snapdragon 855+' 'Exynos 9810' 'Exynos 7904'\r\n",
    " 'MediaTek P22' 'Exynos 7870 Octa' 'Snapdragon 675' 'Exynos 9820 '\r\n",
    " 'Exynos 7884' 'Exynos 9820' 'Exynos 9610' 'Snapdragon 710'\r\n",
    " 'Snapdragon 425' 'Snapdragon 660' 'Exynos 7885' 'Exynos 7570 Quad'\r\n",
    " 'Exynos 9810 ' 'Exynos 3475 Quad' 'Exynos 8895 ' 'Snapdragon 835'\r\n",
    " 'MediaTek P20' 'Exynos 8895' 'Snapdragon 626' 'Snapdragon 430'\r\n",
    " 'Exynos 7880' 'Spreadtrum SC9830' 'MT6737T' 'Snapdragon 653'\r\n",
    " 'Exynos 7420 Octa' 'Exynos 8890 Octa' 'Snapdragon 410' 'Snapdragon 625'\r\n",
    " 'Snapdragon 617' 'Snapdragon 652' 'Exynos 7580 Octa' 'Snapdragon 615'\r\n",
    " ' Snapdragon 615' 'Spreadtrum' 'Snapdragon 805' '-' 'Exynos 3470 Quad'\r\n",
    " 'Snapdragon 400' 'Snapdragon 801' ' Snapdragon 800' 'Pega-Dual +XMM6262'\r\n",
    " 'Snapdragon 800' 'Exynos 5410 Octa' 'Snapdragon 600' 'Exynos 4412 Quad'\r\n",
    " ' Snapdragon 8 Gen 2' 'Dimensity 700 5G' ' Snapdragon 8+ Gen 1'\r\n",
    " 'Mediatek Helio G99 ' 'Snapdragon 662' 'Snapdragon 8 Gen 2 '\r\n",
    " 'Dimensity 1080' 'Dimensity 8100 ' 'Mediatek Helio G96 '\r\n",
    " 'Mediatek Helio A22 ' 'Dimensity 1100 5G' 'Dimensity 8100 5G'\r\n",
    " 'Dimensity 1300 5G' 'Snapdragon 730G' 'Dimensity 1200 5G '\r\n",
    " 'MediaTek Helio G99 ' 'Dimensity 700 ' 'Mediatek Helio G95 '\r\n",
    " ' Snapdragon 778G+ 5G' 'Dimensity 1200 5G' 'Dimensity 810 5G '\r\n",
    " 'Dimensity 9000 5G' 'Dimensity 8000 5G' 'Snapdragon 732G'\r\n",
    " ' Snapdragon 680 4G' 'Mediatek G25 ' ' Snapdragon 662'\r\n",
    " 'Dimensity 920 5G ' ' Snapdragon 870 5G' 'MT6833 Dimensity 700 '\r\n",
    " 'Mediatek G96 ' ' Snapdragon 695 5G' 'Snapdragon 860'\r\n",
    " ' Snapdragon 898 5G' 'Dimensity 920 5G' 'MediaTek G25' 'Dimensity 810 5G'\r\n",
    " 'Snapdragon 778G' 'Snapdragon 870 5G' ' Snapdragon 888+ 5G'\r\n",
    " ' Snapdragon 732G' 'Mediatek G35 ' 'MediaTek G88' 'Mediatek G88 '\r\n",
    " 'Snapdragon 480 5G' 'Dimensity 1100 5G ' ' Snapdragon 888'\r\n",
    " 'Snapdragon 888' 'Mediatek G85' 'MediaTek G95' ' Snapdragon 860'\r\n",
    " 'Snapdragon 732G ' 'Snapdragon 780G' 'Snapdragon 678 '\r\n",
    " 'Dimensity 800U 5G ' ' Snapdragon 865' 'Mediatek G35' 'Snapdragon 865'\r\n",
    " 'MT6889Z Dimensity 1000+ ' 'Mediatek G90T ' ' Snapdragon 665'\r\n",
    " 'Snapdragon 632' 'Apple Bionic' 'Apple A15 Bionic ' 'Apple A14 Bionic '\r\n",
    " 'Apple M2' 'Apple A14 Bionic' 'Apple A16 Bionic' 'Apple A15 Bionic'\r\n",
    " 'Apple M1' 'Apple A14' 'Apple A13 Bionic' 'Apple A13 Bionic '\r\n",
    " 'Apple A10 Fusion' 'Apple S5' 'Apple A12 Bionic' 'Apple A12X Bionic'\r\n",
    " 'Apple A11 Bionic' 'Apple A10 Fusion ' 'Apple A9' 'Apple A9 ' 'Apple A8'\r\n",
    " 'Apple A7' 'Apple A6' 'Apple A5' 'Apple A4' 'Dimensity ' 'Dimensity 810 '\r\n",
    " 'Snapdragon 690 5G' 'Dimensity 8100-Max ' 'Dimensity 900 5G '\r\n",
    " ' Snapdragon 480 5G' ' Snapdragon 460' ' Snapdragon 690 5G'\r\n",
    " 'Snapdragon 460' ' Snapdragon 765G' 'Snapdragon 845'\r\n",
    " 'Dimensity 8100 Max 5G ' 'Dimensity 1300 5G ' 'Dimensity 8000 Max'\r\n",
    " 'Dimensity 1200-Max 5G' 'MediaTek P95' 'MediaTek Helio P22'\r\n",
    " 'Dimensity 1200 Max 5G' 'Dimensity 800U 5G' 'Snapdragon 768G 5G'\r\n",
    " 'Mediatek P95 ' 'Dimensity 1000+ ' 'MediaTek P70' 'Snapdragon 765G 5G'\r\n",
    " 'Snapdragon 665' 'MT6765V' 'MT6873V Dimensity 800 5G' 'Mediatek P90'\r\n",
    " 'MediaTek P60' 'MediaTek P23' ' Snapdragon 435' ' Snapdragon 616'\r\n",
    " 'Dimensity 720']\r\n",
    "\r\n",
    "\r\n",
    "Einzigartige Werte in Spalte 'battery_capacity':\r\n",
    " [' 5000 mAh' ' 4500 mAh' ' 3700 mAh' ' 4400 mAh' ' 4800 mAh' ' 7000 mAh'\r\n",
    " ' 4000 mAh' '6000mAh' ' 3300 mAh' ' 6000 mAh' '4500mAh' '4000mAh'\r\n",
    " '5000mAh' '3000mAh' '4300mAh' 'Non-removable 4500 mAh' '7040mAh'\r\n",
    " 'Non-removable 7000 mAh' 'Non-removable 3500 mAh' '-' '3300mAh' '3500mAh'\r\n",
    " '2600mAh' '3700mAh' '3100mAh' '4100mAh' 'Non-removable 3400 mAh'\r\n",
    " '3400mAh' '4380mAh' '3800mAh' '2000mAh' 'Non-removable 3300 mAh'\r\n",
    " '3600mAh' '2400mAh' '1500mAh' '2050mAh' '2900mAh' '1850mAh' '3050mAh'\r\n",
    " '2800mAh' '2550mAh' '1900mAh' '2300mAh' '3220mAh' ' 2100 mAh' '2100mAh'\r\n",
    " '3200mAh' '2330mAh' '4600mAh' ' 5080 mAh' ' 4700 mAh' ' 4600 mAh'\r\n",
    " ' 5500 mAh' ' 4860 mAh' ' 4300 mAh' ' 5260 mAh' ' 5065 mAh' ' 5020 mAh'\r\n",
    " ' 4520 mAh' ' 4250 mAh' ' 5160 mAh' ' 4650 mAh' ' 8720 mAh' ' 4780 mAh'\r\n",
    " ' 4820 mAh' '5160mAh' '4700mAh' '5020mAh' '5260mAh' '4780mAh' '4720mAh'\r\n",
    " ' 4323 mAh' ' 3200 mAh' ' 3279 mAh' ' 2018 mAh'\r\n",
    " '(28.6 Wh), non-removablemAh' ' 10758 mAh' ' 3687 mAh' ' 7538 mAh'\r\n",
    " ' 2438 mAh' ' 2815 mAh' ', non-removablemAh' ' 1821 mAh'\r\n",
    " ' (28.6 Wh), non-removablemAh' ' 3125 mAh' ' 4373 mAh' ' 3240 mAh'\r\n",
    " ' 2227 mAh' '1821mAh' ' 3969 mAh' ' 3046 mAh' '3110mAh' '8827mAh'\r\n",
    " '5124mAh' '8134mAh' 'Non-removable 9720 mAh' '7812mAh' '3174mAh'\r\n",
    " '2658mAh' '2942mAh' ' 2716 mAh' '2691mAh' '1960mAh' '1624mAh' '2750mAh'\r\n",
    " '1715mAh' '2915mAh' '1810mAh' '1560mAh' '1440mAh' '1432mAh' '1420mAh'\r\n",
    " '4115mAh' '4510mAh' ' 3800 mAh' ' 4230 mAh' ' 4310 mAh' ' 4350 mAh'\r\n",
    " ' 4025 mAh' ' 4040 mAh' ' 4015 mAh' '4015mAh' '4230mAh' '4025mAh'\r\n",
    " '4260mAh' '3890mAh' '4020mAh' ' 3500 mAh' 'Non-removable 4230 mAh'\r\n",
    " '3730mAh' '2630mAh']\r\n",
    "\r\n",
    "\r\n",
    "Einzigartige Werte in Spalte 'ram':\r\n",
    " [  8.    4.    6.    3.   12.    2.    1.   16.    1.5 512.  768.   64.\r\n",
    " 254.    0.  256.  128. ]\r\n",
    "\r\n",
    "\r\n",
    "Einzigartige Werte in Spalte 'internal_storage':\r\n",
    " [ 128  256   64   32  512   16    8    4    0 1024 2048 1000]\r\n",
    "\r\n",
    "\r\n",
    "Einzigartige Werte in Spalte 'price(€)':\r\n",
    " [1.81081e+03 1.02702e+03 6.10810e+02 1.35135e+03 1.35130e+02 1.59999e+03\r\n",
    " 1.89180e+02 2.48640e+02 4.59450e+02 4.21620e+02 3.24320e+02 3.13510e+02\r\n",
    " 4.32430e+02 2.91890e+02 2.27020e+02 2.59450e+02 3.56750e+02 2.81080e+02\r\n",
    " 2.70260e+02 1.03783e+03 9.35130e+02 1.29720e+02 1.62162e+03 1.08100e+02\r\n",
    " 7.02700e+02 1.56750e+02 1.72970e+02 5.13510e+02 1.51350e+02 9.99990e+02\r\n",
    " 1.61621e+03 2.48648e+03 1.11351e+03 1.24320e+02 4.05400e+02 4.43240e+02\r\n",
    " 1.67567e+03 1.67560e+02 1.83780e+02 2.86480e+02 2.05400e+02 2.10810e+02\r\n",
    " 2.21620e+02 3.94590e+02 2.97290e+02 3.02700e+02 9.45940e+02 1.13513e+03\r\n",
    " 1.18918e+03 1.45945e+03 1.56756e+03 7.48640e+02 7.89180e+02 1.00000e+02\r\n",
    " 6.62160e+02 2.16210e+02 2.37830e+02 4.48640e+02 3.29720e+02 3.51350e+02\r\n",
    " 3.67560e+02 3.35130e+02 4.75670e+02 5.24320e+02 3.40540e+02 1.75675e+03\r\n",
    " 1.99990e+02 3.89180e+02 4.81080e+02 1.21620e+02 1.27030e+02 2.75670e+02\r\n",
    " 2.32430e+02 1.08108e+03 1.70270e+03 1.40540e+02 1.23243e+03 1.62160e+02\r\n",
    " 4.54050e+02 1.94590e+02 2.54050e+02 2.64860e+02 1.78370e+02 9.02600e+01\r\n",
    " 9.67500e+01 8.10800e+01 9.18900e+01 1.00540e+02 1.15680e+02 1.31351e+03\r\n",
    " 9.54050e+02 1.48650e+02 5.56750e+02 7.56700e+01 9.72970e+02 1.07026e+03\r\n",
    " 1.13510e+02 1.02700e+02 4.27020e+02 3.78370e+02 9.24320e+02 1.22702e+03\r\n",
    " 1.01621e+03 4.77920e+02 5.40540e+02 6.16210e+02 8.64800e+01 1.64860e+02\r\n",
    " 9.18910e+02 7.02700e+01 4.37840e+02 4.64860e+02 2.43240e+02 1.54050e+02\r\n",
    " 8.91890e+02 7.83780e+02 1.18910e+02 1.83783e+03 3.62160e+02 3.18920e+02\r\n",
    " 1.35140e+02 9.73000e+01 2.00000e+02 1.78380e+02 1.08110e+02 8.64900e+01\r\n",
    " 1.45950e+02 4.00000e+02 4.86480e+02 5.18910e+02 6.48650e+02 2.27030e+02\r\n",
    " 4.10810e+02 2.16220e+02 2.08110e+02 9.72900e+01 5.29720e+02 5.94590e+02\r\n",
    " 8.64860e+02 8.10810e+02 2.16000e+00 3.18910e+02 5.67560e+02 6.70260e+02\r\n",
    " 7.40540e+02 1.04324e+03 1.10810e+03 6.48640e+02 1.51351e+03 1.57837e+03\r\n",
    " 1.63783e+03 3.45940e+02 1.05410e+02 4.16210e+02 7.29720e+02 8.21620e+02\r\n",
    " 4.97290e+02 9.62160e+02 7.35130e+02 7.56750e+02 7.99990e+02 5.83780e+02\r\n",
    " 6.21620e+02 6.75670e+02 5.51350e+02 3.83780e+02 3.99990e+02 8.37800e+01\r\n",
    " 9.45900e+01 7.45940e+02 8.43240e+02 3.72970e+02 1.07567e+03 1.12432e+03\r\n",
    " 1.17837e+03 6.59450e+02 7.18910e+02 4.91890e+02 5.35130e+02 1.27567e+03\r\n",
    " 1.45940e+02 8.91800e+01 8.37830e+02 8.75670e+02 1.37830e+02 8.43200e+01\r\n",
    " 6.05400e+02 1.16210e+02 1.48640e+02 9.83780e+02 2.51891e+03 2.16216e+03\r\n",
    " 1.25945e+03 1.72972e+03 2.21621e+03 2.37837e+03 2.54054e+03 2.70270e+03\r\n",
    " 2.86486e+03 1.52432e+03 1.65405e+03 1.89189e+03 1.38918e+03 8.81080e+02\r\n",
    " 1.10270e+03 9.29720e+02 9.78370e+02 1.03243e+03 1.14594e+03 1.19999e+03\r\n",
    " 1.26486e+03 1.27026e+03 1.32972e+03 1.47567e+03 1.24324e+03 1.40540e+03\r\n",
    " 1.53135e+03 1.62216e+03 1.86973e+03 2.12973e+03 1.62811e+03 1.74270e+03\r\n",
    " 2.00270e+03 2.25027e+03 1.07189e+03 1.22000e+03 1.47514e+03 1.22216e+03\r\n",
    " 1.34757e+03 1.62432e+03 1.34541e+03 1.44595e+03 1.65135e+03 1.24270e+03\r\n",
    " 1.54865e+03 1.03784e+03 1.08919e+03 1.19189e+03 9.37840e+02 9.86490e+02\r\n",
    " 1.21621e+03 1.30270e+03 1.16216e+03 8.97290e+02 1.70270e+02 1.43240e+02\r\n",
    " 1.70260e+02 1.32430e+02 1.39450e+02 5.13500e+01 4.32400e+01 2.75680e+02\r\n",
    " 7.08100e+02 5.99990e+02 5.02700e+02 5.72970e+02 6.27020e+02 6.43240e+02\r\n",
    " 4.70260e+02 5.08100e+02 7.78370e+02 5.70260e+02 3.78380e+02 1.15135e+03\r\n",
    " 5.62160e+02 9.67560e+02 6.37830e+02 6.91890e+02]\n",
    "\n",
    "````"
   ]
  },
  {
   "cell_type": "code",
   "execution_count": 15,
   "id": "2ec19ce5-199a-472d-9e22-507fa631b24f",
   "metadata": {},
   "outputs": [],
   "source": [
    "process_unique_sorted = sorted(df['processor'].unique())"
   ]
  },
  {
   "cell_type": "markdown",
   "id": "a87fe914-1b0b-4e22-ab79-edb44631fb76",
   "metadata": {},
   "source": [
    "<details>\n",
    "<summary>Einzigartige Werte der Spalte processor</summary>\n",
    "\n",
    "```python\n",
    "[' Snapdragon',\r\n",
    " ' Snapdragon 435',\r\n",
    " ' Snapdragon 450',\r\n",
    " ' Snapdragon 460',\r\n",
    " ' Snapdragon 480 5G',\r\n",
    " ' Snapdragon 615',\r\n",
    " ' Snapdragon 662',\r\n",
    " ' Snapdragon 665',\r\n",
    " ' Snapdragon 680 4G',\r\n",
    " ' Snapdragon 690 5G',\r\n",
    " ' Snapdragon 695 5G',\r\n",
    " ' Snapdragon 720G',\r\n",
    " ' Snapdragon 730G',\r\n",
    " ' Snapdragon 732G',\r\n",
    " ' Snapdragon 750',\r\n",
    " ' Snapdragon 750 5G',\r\n",
    " ' Snapdragon 750G 5G',\r\n",
    " ' Snapdragon 765G',\r\n",
    " ' Snapdragon 778G 5G',\r\n",
    " ' Snapdragon 778G+ 5G',\r\n",
    " ' Snapdragon 8 Gen 1',\r\n",
    " ' Snapdragon 8 Gen 1 Plus',\r\n",
    " ' Snapdragon 8 Gen 2',\r\n",
    " ' Snapdragon 8 Gen1',\r\n",
    " ' Snapdragon 8+ Gen 1',\r\n",
    " ' Snapdragon 800',\r\n",
    " ' Snapdragon 855+',\r\n",
    " ' Snapdragon 860',\r\n",
    " ' Snapdragon 865',\r\n",
    " ' Snapdragon 865 5G',\r\n",
    " ' Snapdragon 870 5G',\r\n",
    " ' Snapdragon 888',\r\n",
    " ' Snapdragon 888 5G',\r\n",
    " ' Snapdragon 888+ 5G',\r\n",
    " ' Snapdragon 898 5G',\r\n",
    " 'Apple A10 Fusion',\r\n",
    " 'Apple A10 Fusion ',\r\n",
    " 'Apple A11 Bionic',\r\n",
    " 'Apple A12 Bionic',\r\n",
    " 'Apple A12X Bionic',\r\n",
    " 'Apple A13 Bionic',\r\n",
    " 'Apple A13 Bionic ',\r\n",
    " 'Apple A14',\r\n",
    " 'Apple A14 Bionic',\r\n",
    " 'Apple A14 Bionic ',\r\n",
    " 'Apple A15 Bionic',\r\n",
    " 'Apple A15 Bionic ',\r\n",
    " 'Apple A16 Bionic',\r\n",
    " 'Apple A4',\r\n",
    " 'Apple A5',\r\n",
    " 'Apple A6',\r\n",
    " 'Apple A7',\r\n",
    " 'Apple A8',\r\n",
    " 'Apple A9',\r\n",
    " 'Apple A9 ',\r\n",
    " 'Apple Bionic',\r\n",
    " 'Apple M1',\r\n",
    " 'Apple M2',\r\n",
    " 'Dimensity ',\r\n",
    " 'Dimensity 1000+ ',\r\n",
    " 'Dimensity 1080',\r\n",
    " 'Dimensity 1100 5G',\r\n",
    " 'Dimensity 1100 5G ',\r\n",
    " 'Dimensity 1200 5G',\r\n",
    " 'Dimensity 1200 5G ',\r\n",
    " 'Dimensity 1200 Max 5G',\r\n",
    " 'Dimensity 1200-Max 5G',\r\n",
    " 'Dimensity 1300 5G',\r\n",
    " 'Dimensity 1300 5G ',\r\n",
    " 'Dimensity 700 ',\r\n",
    " 'Dimensity 700 5G',\r\n",
    " 'Dimensity 700 5G ',\r\n",
    " 'Dimensity 720',\r\n",
    " 'Dimensity 720 5G',\r\n",
    " 'Dimensity 8000 5G',\r\n",
    " 'Dimensity 8000 Max',\r\n",
    " 'Dimensity 800U 5G',\r\n",
    " 'Dimensity 800U 5G ',\r\n",
    " 'Dimensity 810 ',\r\n",
    " 'Dimensity 810 5G',\r\n",
    " 'Dimensity 810 5G ',\r\n",
    " 'Dimensity 8100 ',\r\n",
    " 'Dimensity 8100 5G',\r\n",
    " 'Dimensity 8100 Max 5G ',\r\n",
    " 'Dimensity 8100-Max ',\r\n",
    " 'Dimensity 900 5G ',\r\n",
    " 'Dimensity 9000 5G',\r\n",
    " 'Dimensity 920 5G',\r\n",
    " 'Dimensity 920 5G ',\r\n",
    " 'Exynos ',\r\n",
    " 'Exynos 1200',\r\n",
    " 'Exynos 2100',\r\n",
    " 'Exynos 2100 ',\r\n",
    " 'Exynos 2200 ',\r\n",
    " 'Exynos 3470 Quad',\r\n",
    " 'Exynos 3475 Quad',\r\n",
    " 'Exynos 4412 Quad',\r\n",
    " 'Exynos 5410 Octa',\r\n",
    " 'Exynos 7420 Octa',\r\n",
    " 'Exynos 7570 Quad',\r\n",
    " 'Exynos 7580 Octa',\r\n",
    " 'Exynos 7870 Octa',\r\n",
    " 'Exynos 7880',\r\n",
    " 'Exynos 7884',\r\n",
    " 'Exynos 7885',\r\n",
    " 'Exynos 7904',\r\n",
    " 'Exynos 850',\r\n",
    " 'Exynos 850 ',\r\n",
    " 'Exynos 8890 Octa',\r\n",
    " 'Exynos 8895',\r\n",
    " 'Exynos 8895 ',\r\n",
    " 'Exynos 9610',\r\n",
    " 'Exynos 9611',\r\n",
    " 'Exynos 9611 ',\r\n",
    " 'Exynos 980 ',\r\n",
    " 'Exynos 9810',\r\n",
    " 'Exynos 9810 ',\r\n",
    " 'Exynos 9820',\r\n",
    " 'Exynos 9820 ',\r\n",
    " 'Exynos 9825 ',\r\n",
    " 'Exynos 990',\r\n",
    " 'Exynos 990 ',\r\n",
    " 'Exynos 992',\r\n",
    " 'MT6737T',\r\n",
    " 'MT6739W',\r\n",
    " 'MT6739WW',\r\n",
    " 'MT6765V',\r\n",
    " 'MT6833 Dimensity 700 ',\r\n",
    " 'MT6833 Dimensity 700 5G ',\r\n",
    " 'MT6853 Dimensity 720 5G ',\r\n",
    " 'MT6873V Dimensity 800 5G',\r\n",
    " 'MT6889Z Dimensity 1000+ ',\r\n",
    " 'MediaTek ',\r\n",
    " 'MediaTek G25',\r\n",
    " 'MediaTek G35',\r\n",
    " 'MediaTek G80',\r\n",
    " 'MediaTek G88',\r\n",
    " 'MediaTek G95',\r\n",
    " 'MediaTek Helio G35 ',\r\n",
    " 'MediaTek Helio G99 ',\r\n",
    " 'MediaTek Helio P22',\r\n",
    " 'MediaTek P20',\r\n",
    " 'MediaTek P22',\r\n",
    " 'MediaTek P23',\r\n",
    " 'MediaTek P35',\r\n",
    " 'MediaTek P60',\r\n",
    " 'MediaTek P65',\r\n",
    " 'MediaTek P70',\r\n",
    " 'MediaTek P95',\r\n",
    " 'Mediatek ',\r\n",
    " 'Mediatek G25 ',\r\n",
    " 'Mediatek G35',\r\n",
    " 'Mediatek G35 ',\r\n",
    " 'Mediatek G80',\r\n",
    " 'Mediatek G80 ',\r\n",
    " 'Mediatek G85',\r\n",
    " 'Mediatek G88 ',\r\n",
    " 'Mediatek G90T ',\r\n",
    " 'Mediatek G96 ',\r\n",
    " 'Mediatek Helio A22 ',\r\n",
    " 'Mediatek Helio G95 ',\r\n",
    " 'Mediatek Helio G96 ',\r\n",
    " 'Mediatek Helio G99 ',\r\n",
    " 'Mediatek P35 ',\r\n",
    " 'Mediatek P65 ',\r\n",
    " 'Mediatek P90',\r\n",
    " 'Mediatek P95 ',\r\n",
    " 'Pega-Dual +XMM6262',\r\n",
    " 'Snapdragon ',\r\n",
    " 'Snapdragon 400',\r\n",
    " 'Snapdragon 410',\r\n",
    " 'Snapdragon 425',\r\n",
    " 'Snapdragon 430',\r\n",
    " 'Snapdragon 439',\r\n",
    " 'Snapdragon 450',\r\n",
    " 'Snapdragon 460',\r\n",
    " 'Snapdragon 480 5G',\r\n",
    " 'Snapdragon 600',\r\n",
    " 'Snapdragon 615',\r\n",
    " 'Snapdragon 617',\r\n",
    " 'Snapdragon 625',\r\n",
    " 'Snapdragon 626',\r\n",
    " 'Snapdragon 632',\r\n",
    " 'Snapdragon 652',\r\n",
    " 'Snapdragon 653',\r\n",
    " 'Snapdragon 660',\r\n",
    " 'Snapdragon 662',\r\n",
    " 'Snapdragon 665',\r\n",
    " 'Snapdragon 675',\r\n",
    " 'Snapdragon 678 ',\r\n",
    " 'Snapdragon 690 5G',\r\n",
    " 'Snapdragon 710',\r\n",
    " 'Snapdragon 720G',\r\n",
    " 'Snapdragon 730',\r\n",
    " 'Snapdragon 730G',\r\n",
    " 'Snapdragon 732G',\r\n",
    " 'Snapdragon 732G ',\r\n",
    " 'Snapdragon 750G ',\r\n",
    " 'Snapdragon 750G 5G',\r\n",
    " 'Snapdragon 765G 5G',\r\n",
    " 'Snapdragon 768G 5G',\r\n",
    " 'Snapdragon 778G',\r\n",
    " 'Snapdragon 778G 5G',\r\n",
    " 'Snapdragon 780G',\r\n",
    " 'Snapdragon 8 Gen 2 ',\r\n",
    " 'Snapdragon 800',\r\n",
    " 'Snapdragon 801',\r\n",
    " 'Snapdragon 805',\r\n",
    " 'Snapdragon 820',\r\n",
    " 'Snapdragon 835',\r\n",
    " 'Snapdragon 845',\r\n",
    " 'Snapdragon 855',\r\n",
    " 'Snapdragon 860',\r\n",
    " 'Snapdragon 865',\r\n",
    " 'Snapdragon 865+',\r\n",
    " 'Snapdragon 870 5G',\r\n",
    " 'Snapdragon 888',\r\n",
    " 'Snapdragon 888 5G',\r\n",
    " 'Spreadtrum',\r\n",
    " 'Spreadtrum SC9830',\r\n",
    " 'Unisoc SC9863A ']\n",
    "````"
   ]
  },
  {
   "cell_type": "code",
   "execution_count": 16,
   "id": "c9953bcf-c7f6-40bf-86e5-d40bd1335300",
   "metadata": {},
   "outputs": [],
   "source": [
    "# Entfernen von Leerzeichen am Anfang und Ende der Werte von type object\n",
    "\n",
    "for column in df.columns:\n",
    "    if df[column].dtype == 'object':\n",
    "        # Entfernen Leerzeichen am Anfang und Ende\n",
    "        df[column] = df[column].str.strip()\n"
   ]
  },
  {
   "cell_type": "code",
   "execution_count": 17,
   "id": "44e4194c-2a4a-4e9c-b9d2-12fb93eb53c8",
   "metadata": {},
   "outputs": [
    {
     "data": {
      "text/html": [
       "<div>\n",
       "<style scoped>\n",
       "    .dataframe tbody tr th:only-of-type {\n",
       "        vertical-align: middle;\n",
       "    }\n",
       "\n",
       "    .dataframe tbody tr th {\n",
       "        vertical-align: top;\n",
       "    }\n",
       "\n",
       "    .dataframe thead th {\n",
       "        text-align: right;\n",
       "    }\n",
       "</style>\n",
       "<table border=\"1\" class=\"dataframe\">\n",
       "  <thead>\n",
       "    <tr style=\"text-align: right;\">\n",
       "      <th></th>\n",
       "      <th>brand</th>\n",
       "      <th>model</th>\n",
       "      <th>display</th>\n",
       "      <th>front_camera</th>\n",
       "      <th>rare_camera</th>\n",
       "      <th>processor</th>\n",
       "      <th>battery_capacity</th>\n",
       "      <th>ram</th>\n",
       "      <th>internal_storage</th>\n",
       "      <th>price</th>\n",
       "    </tr>\n",
       "  </thead>\n",
       "  <tbody>\n",
       "    <tr>\n",
       "      <th>369</th>\n",
       "      <td>SAMSUNG</td>\n",
       "      <td>Samsung S5 Mini Duos</td>\n",
       "      <td>4.5\"</td>\n",
       "      <td>2.1 MP</td>\n",
       "      <td>8 MP</td>\n",
       "      <td>-</td>\n",
       "      <td>2100 mAh</td>\n",
       "      <td>1.5</td>\n",
       "      <td>16</td>\n",
       "      <td>477.92</td>\n",
       "    </tr>\n",
       "    <tr>\n",
       "      <th>936</th>\n",
       "      <td>APPLE</td>\n",
       "      <td>iPhone 3GS</td>\n",
       "      <td>3.5\"</td>\n",
       "      <td>No</td>\n",
       "      <td>3.15 MP</td>\n",
       "      <td>-</td>\n",
       "      <td>-</td>\n",
       "      <td>256.0</td>\n",
       "      <td>16</td>\n",
       "      <td>178.38</td>\n",
       "    </tr>\n",
       "    <tr>\n",
       "      <th>937</th>\n",
       "      <td>APPLE</td>\n",
       "      <td>iPhone 3GS 32GB</td>\n",
       "      <td>3.5\"</td>\n",
       "      <td>No</td>\n",
       "      <td>3.15 MP</td>\n",
       "      <td>-</td>\n",
       "      <td>-</td>\n",
       "      <td>256.0</td>\n",
       "      <td>32</td>\n",
       "      <td>275.68</td>\n",
       "    </tr>\n",
       "    <tr>\n",
       "      <th>938</th>\n",
       "      <td>APPLE</td>\n",
       "      <td>iPhone 3G</td>\n",
       "      <td>3.5\"</td>\n",
       "      <td>No</td>\n",
       "      <td>2 MP</td>\n",
       "      <td>-</td>\n",
       "      <td>-</td>\n",
       "      <td>128.0</td>\n",
       "      <td>8</td>\n",
       "      <td>477.92</td>\n",
       "    </tr>\n",
       "    <tr>\n",
       "      <th>939</th>\n",
       "      <td>APPLE</td>\n",
       "      <td>iPhone 3G 16GB</td>\n",
       "      <td>3.5\"</td>\n",
       "      <td>No</td>\n",
       "      <td>2 MP</td>\n",
       "      <td>-</td>\n",
       "      <td>-</td>\n",
       "      <td>128.0</td>\n",
       "      <td>16</td>\n",
       "      <td>477.92</td>\n",
       "    </tr>\n",
       "  </tbody>\n",
       "</table>\n",
       "</div>"
      ],
      "text/plain": [
       "       brand                 model display front_camera rare_camera processor  \\\n",
       "369  SAMSUNG  Samsung S5 Mini Duos    4.5\"       2.1 MP        8 MP         -   \n",
       "936    APPLE            iPhone 3GS    3.5\"           No     3.15 MP         -   \n",
       "937    APPLE       iPhone 3GS 32GB    3.5\"           No     3.15 MP         -   \n",
       "938    APPLE             iPhone 3G    3.5\"           No        2 MP         -   \n",
       "939    APPLE        iPhone 3G 16GB    3.5\"           No        2 MP         -   \n",
       "\n",
       "    battery_capacity    ram  internal_storage   price  \n",
       "369         2100 mAh    1.5                16  477.92  \n",
       "936                -  256.0                16  178.38  \n",
       "937                -  256.0                32  275.68  \n",
       "938                -  128.0                 8  477.92  \n",
       "939                -  128.0                16  477.92  "
      ]
     },
     "execution_count": 17,
     "metadata": {},
     "output_type": "execute_result"
    }
   ],
   "source": [
    "df[df['processor']=='-']"
   ]
  },
  {
   "cell_type": "code",
   "execution_count": 18,
   "id": "4b79c41c-e755-48d4-9b99-028ef2fd5782",
   "metadata": {},
   "outputs": [],
   "source": [
    "#  \"-\" durch NaN ersetzen\n",
    "df.replace('-', np.nan, inplace=True)\n",
    "df.dropna(inplace=True)\n",
    "df.reset_index(drop=True, inplace=True)"
   ]
  },
  {
   "cell_type": "code",
   "execution_count": 19,
   "id": "9782fb6d-7e05-4d6c-b5dd-424593f57978",
   "metadata": {},
   "outputs": [
    {
     "data": {
      "text/plain": [
       "0"
      ]
     },
     "execution_count": 19,
     "metadata": {},
     "output_type": "execute_result"
    }
   ],
   "source": [
    "df[df['processor']=='-'].shape[0]"
   ]
  },
  {
   "cell_type": "markdown",
   "id": "6b3122c0-25a7-4b2b-87ce-d79a7915763d",
   "metadata": {},
   "source": [
    "Die Spalten `brand_name`, `model`, `ram`',`internal_storage`',`` sehen gut aus. Die andere Spalten enthalten jedoch viele Details die in separate Spalten extrahiert werden sollen."
   ]
  },
  {
   "cell_type": "markdown",
   "id": "dc9ef143-540d-4795-91b0-1596b82f06eb",
   "metadata": {},
   "source": [
    "Sehen wir die Spalte `battery_capacity` genau an hier könnten wir Zwei Kategorien auflisten `non removable` und `removable`"
   ]
  },
  {
   "cell_type": "markdown",
   "id": "3b7fd1fd-b2ab-49b9-ae0a-c5deb491815e",
   "metadata": {},
   "source": [
    "### Neue Spalte `bttr_non_rem` hinzufügen"
   ]
  },
  {
   "cell_type": "code",
   "execution_count": 20,
   "id": "e17d6eff-4412-4eaa-87bb-a1ad8c2c7967",
   "metadata": {},
   "outputs": [],
   "source": [
    "# # Zeig alle Zeilen die Zeichenfolgen die 'non' oder 'Non' oder 'Non-remov' oder 'non-remov' enthalten\n",
    "# bttr_non_rem = df[df['battery_capacity'].str.contains('Non|non|Non-remov|non-remov')]\n",
    "# bttr_non_rem.shape[0]"
   ]
  },
  {
   "cell_type": "markdown",
   "id": "556609a6-c9d3-4b76-b031-e0ce0aa06e05",
   "metadata": {},
   "source": [
    "Dafür werde ich df und die Spalte 'battery_capacity' von btr_non_rem zusammenbinden. Wenn die Batterie non removable gibe ich 1 als Inhalt, den Rest (die NaN values enthalten) fülle ich mit 0."
   ]
  },
  {
   "cell_type": "code",
   "execution_count": 21,
   "id": "1cc39011-520c-4a1d-af05-2a0241f55305",
   "metadata": {},
   "outputs": [],
   "source": [
    "# bttr_non_rem = bttr_non_rem.rename(columns={'battery_capacity':'bttr_non_rem'})\n",
    "#bttr_non_rem.head()"
   ]
  },
  {
   "cell_type": "markdown",
   "id": "adda27e5-ca91-4d9e-9f30-4cd59a178de4",
   "metadata": {},
   "source": [
    "##### Werte von 'bttr_non_rem' durch des 1 ausfüllen"
   ]
  },
  {
   "cell_type": "code",
   "execution_count": 22,
   "id": "eff6050b-ea74-45c0-be5e-954009ab2c08",
   "metadata": {},
   "outputs": [],
   "source": [
    "# # fülle die werte von 'bttr_non_rem' durch des 1 dafür benutzen wir lambda Funktion\n",
    "# bttr_non_rem['bttr_non_rem'] = bttr_non_rem['bttr_non_rem'].apply(lambda x:1)"
   ]
  },
  {
   "cell_type": "markdown",
   "id": "8de60727-d77e-4749-b4e0-2b63e71edcc0",
   "metadata": {},
   "source": [
    "##### Join Dataframe"
   ]
  },
  {
   "cell_type": "code",
   "execution_count": 23,
   "id": "a0689ce2-4d98-41ac-beb7-508f99dd5d54",
   "metadata": {},
   "outputs": [],
   "source": [
    "# df_merged = pd.merge(df, bttr_non_rem['bttr_non_rem'], left_index=True, right_index=True, how ='left')"
   ]
  },
  {
   "cell_type": "markdown",
   "id": "e16914f5-5138-4f7f-b875-0d6f07912db9",
   "metadata": {},
   "source": [
    "##### NaN Werte durch 0 ausfüllen"
   ]
  },
  {
   "cell_type": "code",
   "execution_count": 24,
   "id": "67e02b76-2916-435e-9cca-f002afbaad2c",
   "metadata": {},
   "outputs": [],
   "source": [
    "# df_merged.fillna(0, inplace=True)"
   ]
  },
  {
   "cell_type": "code",
   "execution_count": 25,
   "id": "b46fd42b-68eb-448c-9e95-c966169b778d",
   "metadata": {},
   "outputs": [],
   "source": [
    "# df_merged.head(2)"
   ]
  },
  {
   "cell_type": "markdown",
   "id": "43b0a548-2c6b-4eef-a877-6a0dc41de8d1",
   "metadata": {},
   "source": [
    "### Neue Spalte `battery_capacity_mAh` einfügen"
   ]
  },
  {
   "cell_type": "markdown",
   "id": "44bfccb8-de47-4833-967b-2a31002c6bba",
   "metadata": {},
   "source": [
    "Dieser Muster extrahiert digital Ziffern aus einer Zeichenkette"
   ]
  },
  {
   "cell_type": "code",
   "execution_count": 26,
   "id": "2cb33982-a9b8-44be-a98a-81958f6551b9",
   "metadata": {},
   "outputs": [
    {
     "data": {
      "text/html": [
       "<div>\n",
       "<style scoped>\n",
       "    .dataframe tbody tr th:only-of-type {\n",
       "        vertical-align: middle;\n",
       "    }\n",
       "\n",
       "    .dataframe tbody tr th {\n",
       "        vertical-align: top;\n",
       "    }\n",
       "\n",
       "    .dataframe thead th {\n",
       "        text-align: right;\n",
       "    }\n",
       "</style>\n",
       "<table border=\"1\" class=\"dataframe\">\n",
       "  <thead>\n",
       "    <tr style=\"text-align: right;\">\n",
       "      <th></th>\n",
       "      <th>brand</th>\n",
       "      <th>model</th>\n",
       "      <th>display</th>\n",
       "      <th>front_camera</th>\n",
       "      <th>rare_camera</th>\n",
       "      <th>processor</th>\n",
       "      <th>battery_capacity</th>\n",
       "      <th>ram</th>\n",
       "      <th>internal_storage</th>\n",
       "      <th>price</th>\n",
       "      <th>battery_capacity_mAh</th>\n",
       "    </tr>\n",
       "  </thead>\n",
       "  <tbody>\n",
       "    <tr>\n",
       "      <th>0</th>\n",
       "      <td>SAMSUNG</td>\n",
       "      <td>Samsung S24 Ultra</td>\n",
       "      <td>6.8\" (120Hz)</td>\n",
       "      <td>40MP</td>\n",
       "      <td>108MP + 10MP + 10MP + 12MP</td>\n",
       "      <td>Exynos</td>\n",
       "      <td>5000 mAh</td>\n",
       "      <td>8.0</td>\n",
       "      <td>128</td>\n",
       "      <td>1810.81</td>\n",
       "      <td>5000</td>\n",
       "    </tr>\n",
       "    <tr>\n",
       "      <th>1</th>\n",
       "      <td>SAMSUNG</td>\n",
       "      <td>Samsung S24 Plus</td>\n",
       "      <td>6.6\" (120Hz)</td>\n",
       "      <td>10MP</td>\n",
       "      <td>50MP + 10MP + 12MP</td>\n",
       "      <td>Exynos</td>\n",
       "      <td>4500 mAh</td>\n",
       "      <td>8.0</td>\n",
       "      <td>128</td>\n",
       "      <td>1027.02</td>\n",
       "      <td>4500</td>\n",
       "    </tr>\n",
       "  </tbody>\n",
       "</table>\n",
       "</div>"
      ],
      "text/plain": [
       "     brand              model       display front_camera  \\\n",
       "0  SAMSUNG  Samsung S24 Ultra  6.8\" (120Hz)         40MP   \n",
       "1  SAMSUNG   Samsung S24 Plus  6.6\" (120Hz)         10MP   \n",
       "\n",
       "                  rare_camera processor battery_capacity  ram  \\\n",
       "0  108MP + 10MP + 10MP + 12MP    Exynos         5000 mAh  8.0   \n",
       "1          50MP + 10MP + 12MP    Exynos         4500 mAh  8.0   \n",
       "\n",
       "   internal_storage    price battery_capacity_mAh  \n",
       "0               128  1810.81                 5000  \n",
       "1               128  1027.02                 4500  "
      ]
     },
     "execution_count": 26,
     "metadata": {},
     "output_type": "execute_result"
    }
   ],
   "source": [
    "# muster um Zahlen zu battery kapazität aus der Einheit zu extrahieren\n",
    "muster = r'(\\d+)'  # r: (raw string) betrachtet symbole als Zeichenketten  \\d: beliebiger Ziffer (0-9) +: mehr als ein Ziffer \n",
    "df['battery_capacity_mAh'] = df['battery_capacity'].str.extract(muster)\n",
    "df.head(2)"
   ]
  },
  {
   "cell_type": "markdown",
   "id": "922f9f30-bb4c-45d1-8c24-6e324eecc67c",
   "metadata": {},
   "source": [
    "#### Korrekte-datenformatierung"
   ]
  },
  {
   "cell_type": "code",
   "execution_count": 27,
   "id": "cb993c71-c04d-41ea-980c-a9d4e61e3c77",
   "metadata": {},
   "outputs": [
    {
     "data": {
      "text/plain": [
       "dtype('O')"
      ]
     },
     "execution_count": 27,
     "metadata": {},
     "output_type": "execute_result"
    }
   ],
   "source": [
    "df['battery_capacity_mAh'].dtypes"
   ]
  },
  {
   "cell_type": "code",
   "execution_count": 28,
   "id": "e7b942d2-85d8-4863-a9a3-a2fac2cf0f38",
   "metadata": {},
   "outputs": [
    {
     "data": {
      "text/plain": [
       "dtype('float64')"
      ]
     },
     "execution_count": 28,
     "metadata": {},
     "output_type": "execute_result"
    }
   ],
   "source": [
    "df['battery_capacity_mAh'] = df['battery_capacity_mAh'].astype(float)\n",
    "df['battery_capacity_mAh'].dtypes"
   ]
  },
  {
   "cell_type": "markdown",
   "id": "3d65a63a-4d2f-438e-9de5-4a8a165d17cf",
   "metadata": {},
   "source": [
    "### Neue Spalte front_camera (mp) hinzufügen"
   ]
  },
  {
   "cell_type": "code",
   "execution_count": 29,
   "id": "e4c9b7bd-d872-4056-a16c-3b7eed232626",
   "metadata": {},
   "outputs": [],
   "source": [
    "muster = r'(\\d+)'   \n",
    "df['front_camera_mp'] = df['front_camera'].str.extract(muster)"
   ]
  },
  {
   "cell_type": "code",
   "execution_count": 30,
   "id": "c1565708-ecc2-48cc-ad66-47c1f3608329",
   "metadata": {},
   "outputs": [],
   "source": [
    "# df.head()"
   ]
  },
  {
   "cell_type": "code",
   "execution_count": 31,
   "id": "b1687138-f866-4e32-8e64-3a468a1456a0",
   "metadata": {},
   "outputs": [
    {
     "data": {
      "text/plain": [
       "dtype('O')"
      ]
     },
     "execution_count": 31,
     "metadata": {},
     "output_type": "execute_result"
    }
   ],
   "source": [
    "df['front_camera_mp'].dtypes"
   ]
  },
  {
   "cell_type": "code",
   "execution_count": 32,
   "id": "79a4734f-dc1a-482c-a236-e4d4cecafa77",
   "metadata": {},
   "outputs": [],
   "source": [
    "df['front_camera_mp'] = df['front_camera_mp'].astype(float)"
   ]
  },
  {
   "cell_type": "code",
   "execution_count": 33,
   "id": "e6e2b8c4-ac17-4fae-8b83-5ee62fc16441",
   "metadata": {},
   "outputs": [
    {
     "data": {
      "text/html": [
       "<div>\n",
       "<style scoped>\n",
       "    .dataframe tbody tr th:only-of-type {\n",
       "        vertical-align: middle;\n",
       "    }\n",
       "\n",
       "    .dataframe tbody tr th {\n",
       "        vertical-align: top;\n",
       "    }\n",
       "\n",
       "    .dataframe thead th {\n",
       "        text-align: right;\n",
       "    }\n",
       "</style>\n",
       "<table border=\"1\" class=\"dataframe\">\n",
       "  <thead>\n",
       "    <tr style=\"text-align: right;\">\n",
       "      <th></th>\n",
       "      <th>brand</th>\n",
       "      <th>model</th>\n",
       "      <th>display</th>\n",
       "      <th>front_camera</th>\n",
       "      <th>rare_camera</th>\n",
       "      <th>processor</th>\n",
       "      <th>battery_capacity</th>\n",
       "      <th>ram</th>\n",
       "      <th>internal_storage</th>\n",
       "      <th>price</th>\n",
       "      <th>battery_capacity_mAh</th>\n",
       "      <th>front_camera_mp</th>\n",
       "    </tr>\n",
       "  </thead>\n",
       "  <tbody>\n",
       "    <tr>\n",
       "      <th>1234</th>\n",
       "      <td>OPPO</td>\n",
       "      <td>Oppo Reno 4 SE 256GB</td>\n",
       "      <td>6.43\"</td>\n",
       "      <td>32 MP</td>\n",
       "      <td>48 MP + 8 MP + 2 MP</td>\n",
       "      <td>Dimensity 720</td>\n",
       "      <td>4300mAh</td>\n",
       "      <td>8.0</td>\n",
       "      <td>256</td>\n",
       "      <td>477.92</td>\n",
       "      <td>4300.0</td>\n",
       "      <td>32.0</td>\n",
       "    </tr>\n",
       "  </tbody>\n",
       "</table>\n",
       "</div>"
      ],
      "text/plain": [
       "     brand                 model display front_camera          rare_camera  \\\n",
       "1234  OPPO  Oppo Reno 4 SE 256GB   6.43\"        32 MP  48 MP + 8 MP + 2 MP   \n",
       "\n",
       "          processor battery_capacity  ram  internal_storage   price  \\\n",
       "1234  Dimensity 720          4300mAh  8.0               256  477.92   \n",
       "\n",
       "      battery_capacity_mAh  front_camera_mp  \n",
       "1234                4300.0             32.0  "
      ]
     },
     "execution_count": 33,
     "metadata": {},
     "output_type": "execute_result"
    }
   ],
   "source": [
    "df.tail(1)"
   ]
  },
  {
   "cell_type": "markdown",
   "id": "892e9c06-c544-4f7c-9082-3062d7aada4d",
   "metadata": {},
   "source": [
    "### Neue Spalten rar_camera_total_mp hinzufügen"
   ]
  },
  {
   "cell_type": "code",
   "execution_count": 34,
   "id": "d9578c82-2b32-4b45-b9b3-cd366e3f1eca",
   "metadata": {},
   "outputs": [],
   "source": [
    "muster = r'(\\d+)'\n",
    "\n",
    "# Beispiel DataFrame\n",
    "\n",
    "# Neue Spalten für die Extraktion der Megapixel pro Kamera\n",
    "df['rar_camera__mp1'] = ''\n",
    "df['rar_camera__mp2'] = ''\n",
    "df['rar_camera__mp3'] = ''\n",
    "df['rar_camera_total_mp'] = ''\n",
    "\n",
    "for i in range(df.shape[0]):\n",
    "    cameras = df['rare_camera'].str.split('+')[i]\n",
    "    \n",
    "    if len(cameras) > 0:\n",
    "        # Extrahiere bis zu vier Kameras oder weniger, je nachdem, wie viele vorhanden sind\n",
    "        for j in range(min(len(cameras), 4)):\n",
    "            df.at[i, f'rar_camera__mp{j+1}'] = cameras[j]\n",
    "\n",
    "# Megapixel aus den einzelnen Kamera-Spalten \n",
    "for col in ['rar_camera__mp1', 'rar_camera__mp2', 'rar_camera__mp3']:\n",
    "    df[col] = df[col].str.extract(muster)\n",
    "\n",
    "# Gesamtanzahl der Megapixel\n",
    "df['rar_camera_total_mp'] = df['rar_camera__mp1'].astype(float).fillna(0)\\\n",
    "                            + df['rar_camera__mp2'].astype(float).fillna(0)\\\n",
    "                            + df['rar_camera__mp3'].astype(float).fillna(0)\n",
    "                            \n",
    "                             \n",
    "# NaN Werte zu 0 konvertieren\n",
    "df.fillna(0, inplace=True)"
   ]
  },
  {
   "cell_type": "code",
   "execution_count": 35,
   "id": "ca2e1678-282f-4d60-8b21-063f25f244b3",
   "metadata": {},
   "outputs": [
    {
     "data": {
      "text/html": [
       "<div>\n",
       "<style scoped>\n",
       "    .dataframe tbody tr th:only-of-type {\n",
       "        vertical-align: middle;\n",
       "    }\n",
       "\n",
       "    .dataframe tbody tr th {\n",
       "        vertical-align: top;\n",
       "    }\n",
       "\n",
       "    .dataframe thead th {\n",
       "        text-align: right;\n",
       "    }\n",
       "</style>\n",
       "<table border=\"1\" class=\"dataframe\">\n",
       "  <thead>\n",
       "    <tr style=\"text-align: right;\">\n",
       "      <th></th>\n",
       "      <th>brand</th>\n",
       "      <th>model</th>\n",
       "      <th>display</th>\n",
       "      <th>front_camera</th>\n",
       "      <th>rare_camera</th>\n",
       "      <th>processor</th>\n",
       "      <th>battery_capacity</th>\n",
       "      <th>ram</th>\n",
       "      <th>internal_storage</th>\n",
       "      <th>price</th>\n",
       "      <th>battery_capacity_mAh</th>\n",
       "      <th>front_camera_mp</th>\n",
       "      <th>rar_camera__mp1</th>\n",
       "      <th>rar_camera__mp2</th>\n",
       "      <th>rar_camera__mp3</th>\n",
       "      <th>rar_camera_total_mp</th>\n",
       "      <th>rar_camera__mp4</th>\n",
       "    </tr>\n",
       "  </thead>\n",
       "  <tbody>\n",
       "    <tr>\n",
       "      <th>0</th>\n",
       "      <td>SAMSUNG</td>\n",
       "      <td>Samsung S24 Ultra</td>\n",
       "      <td>6.8\" (120Hz)</td>\n",
       "      <td>40MP</td>\n",
       "      <td>108MP + 10MP + 10MP + 12MP</td>\n",
       "      <td>Exynos</td>\n",
       "      <td>5000 mAh</td>\n",
       "      <td>8.0</td>\n",
       "      <td>128</td>\n",
       "      <td>1810.81</td>\n",
       "      <td>5000.0</td>\n",
       "      <td>40.0</td>\n",
       "      <td>108</td>\n",
       "      <td>10</td>\n",
       "      <td>10</td>\n",
       "      <td>128.0</td>\n",
       "      <td>12MP</td>\n",
       "    </tr>\n",
       "    <tr>\n",
       "      <th>1</th>\n",
       "      <td>SAMSUNG</td>\n",
       "      <td>Samsung S24 Plus</td>\n",
       "      <td>6.6\" (120Hz)</td>\n",
       "      <td>10MP</td>\n",
       "      <td>50MP + 10MP + 12MP</td>\n",
       "      <td>Exynos</td>\n",
       "      <td>4500 mAh</td>\n",
       "      <td>8.0</td>\n",
       "      <td>128</td>\n",
       "      <td>1027.02</td>\n",
       "      <td>4500.0</td>\n",
       "      <td>10.0</td>\n",
       "      <td>50</td>\n",
       "      <td>10</td>\n",
       "      <td>12</td>\n",
       "      <td>72.0</td>\n",
       "      <td>nan</td>\n",
       "    </tr>\n",
       "    <tr>\n",
       "      <th>2</th>\n",
       "      <td>SAMSUNG</td>\n",
       "      <td>Samsung Zero</td>\n",
       "      <td>6.41\" (120Hz)</td>\n",
       "      <td>32 MP</td>\n",
       "      <td>12 MP + 8 MP + 12 MP</td>\n",
       "      <td>Snapdragon 888 5G</td>\n",
       "      <td>4500 mAh</td>\n",
       "      <td>8.0</td>\n",
       "      <td>256</td>\n",
       "      <td>610.81</td>\n",
       "      <td>4500.0</td>\n",
       "      <td>32.0</td>\n",
       "      <td>12</td>\n",
       "      <td>8</td>\n",
       "      <td>12</td>\n",
       "      <td>32.0</td>\n",
       "      <td>nan</td>\n",
       "    </tr>\n",
       "    <tr>\n",
       "      <th>3</th>\n",
       "      <td>SAMSUNG</td>\n",
       "      <td>Samsung S24</td>\n",
       "      <td>6.1\" (120Hz)</td>\n",
       "      <td>10MP</td>\n",
       "      <td>50MP + 10MP + 12MP</td>\n",
       "      <td>Exynos</td>\n",
       "      <td>3700 mAh</td>\n",
       "      <td>8.0</td>\n",
       "      <td>128</td>\n",
       "      <td>1351.35</td>\n",
       "      <td>3700.0</td>\n",
       "      <td>10.0</td>\n",
       "      <td>50</td>\n",
       "      <td>10</td>\n",
       "      <td>12</td>\n",
       "      <td>72.0</td>\n",
       "      <td>nan</td>\n",
       "    </tr>\n",
       "    <tr>\n",
       "      <th>4</th>\n",
       "      <td>SAMSUNG</td>\n",
       "      <td>Samsung A05s</td>\n",
       "      <td>6.5\" (90Hz)</td>\n",
       "      <td>5MP</td>\n",
       "      <td>50MP + 2MP + 2MP</td>\n",
       "      <td>Exynos</td>\n",
       "      <td>5000 mAh</td>\n",
       "      <td>4.0</td>\n",
       "      <td>64</td>\n",
       "      <td>135.13</td>\n",
       "      <td>5000.0</td>\n",
       "      <td>5.0</td>\n",
       "      <td>50</td>\n",
       "      <td>2</td>\n",
       "      <td>2</td>\n",
       "      <td>54.0</td>\n",
       "      <td>nan</td>\n",
       "    </tr>\n",
       "  </tbody>\n",
       "</table>\n",
       "</div>"
      ],
      "text/plain": [
       "     brand              model        display front_camera  \\\n",
       "0  SAMSUNG  Samsung S24 Ultra   6.8\" (120Hz)         40MP   \n",
       "1  SAMSUNG   Samsung S24 Plus   6.6\" (120Hz)         10MP   \n",
       "2  SAMSUNG       Samsung Zero  6.41\" (120Hz)        32 MP   \n",
       "3  SAMSUNG        Samsung S24   6.1\" (120Hz)         10MP   \n",
       "4  SAMSUNG       Samsung A05s    6.5\" (90Hz)          5MP   \n",
       "\n",
       "                  rare_camera          processor battery_capacity  ram  \\\n",
       "0  108MP + 10MP + 10MP + 12MP             Exynos         5000 mAh  8.0   \n",
       "1          50MP + 10MP + 12MP             Exynos         4500 mAh  8.0   \n",
       "2        12 MP + 8 MP + 12 MP  Snapdragon 888 5G         4500 mAh  8.0   \n",
       "3          50MP + 10MP + 12MP             Exynos         3700 mAh  8.0   \n",
       "4            50MP + 2MP + 2MP             Exynos         5000 mAh  4.0   \n",
       "\n",
       "   internal_storage    price  battery_capacity_mAh  front_camera_mp  \\\n",
       "0               128  1810.81                5000.0             40.0   \n",
       "1               128  1027.02                4500.0             10.0   \n",
       "2               256   610.81                4500.0             32.0   \n",
       "3               128  1351.35                3700.0             10.0   \n",
       "4                64   135.13                5000.0              5.0   \n",
       "\n",
       "  rar_camera__mp1 rar_camera__mp2 rar_camera__mp3  rar_camera_total_mp  \\\n",
       "0             108              10              10                128.0   \n",
       "1              50              10              12                 72.0   \n",
       "2              12               8              12                 32.0   \n",
       "3              50              10              12                 72.0   \n",
       "4              50               2               2                 54.0   \n",
       "\n",
       "  rar_camera__mp4  \n",
       "0            12MP  \n",
       "1             nan  \n",
       "2             nan  \n",
       "3             nan  \n",
       "4             nan  "
      ]
     },
     "execution_count": 35,
     "metadata": {},
     "output_type": "execute_result"
    }
   ],
   "source": [
    "df.head()"
   ]
  },
  {
   "cell_type": "markdown",
   "id": "c2640839-f19a-4528-9b7e-4f47be9134de",
   "metadata": {},
   "source": [
    "### Neue Spalte `process_brand` einfügen"
   ]
  },
  {
   "cell_type": "code",
   "execution_count": 36,
   "id": "f02eba19-8892-4784-81da-a225863b69e1",
   "metadata": {},
   "outputs": [],
   "source": [
    "# Muster auf die Spalte \"processor\" anwenden, um die Prozessormarken zu extrahieren\n",
    "df['process_brand'] = ''\n",
    "\n",
    "for i in range(df.shape[0]):\n",
    "    processor = df.at[i, 'processor']\n",
    "    if processor.strip():\n",
    "        first_word = processor.strip().split(' ')[0]\n",
    "        first_word = first_word.replace('Mediatek', 'MediaTek')\n",
    "        df.at[i, 'process_brand'] = first_word\n",
    "    else:\n",
    "        df.at[i, 'process_brand'] = np.nan\n"
   ]
  },
  {
   "cell_type": "code",
   "execution_count": 37,
   "id": "cb81cc57-ef5b-4a6b-9b75-3b1eca66510e",
   "metadata": {},
   "outputs": [
    {
     "data": {
      "text/plain": [
       "array(['Exynos', 'Snapdragon', 'MediaTek', 'MT6739W', 'Dimensity',\n",
       "       'Unisoc', 'MT6833', 'MT6853', 'MT6739WW', 'Spreadtrum', 'MT6737T',\n",
       "       'Pega-Dual', 'MT6889Z', 'Apple', 'MT6765V', 'MT6873V'],\n",
       "      dtype=object)"
      ]
     },
     "execution_count": 37,
     "metadata": {},
     "output_type": "execute_result"
    }
   ],
   "source": [
    "df['process_brand'].unique()"
   ]
  },
  {
   "cell_type": "markdown",
   "id": "4dbec01e-ab81-428f-a6d8-297eaf267946",
   "metadata": {},
   "source": [
    "### disp_size (inch) und Refresh Rate (Hz) Spalten hinzufügen "
   ]
  },
  {
   "cell_type": "code",
   "execution_count": 38,
   "id": "d19af0e3-4d7e-4943-8fb8-b70a2d8b4e03",
   "metadata": {},
   "outputs": [
    {
     "name": "stdout",
     "output_type": "stream",
     "text": [
      "['120' '90' '' '60' '144']\n"
     ]
    }
   ],
   "source": [
    "df['disp_size_inch'] = ''\n",
    "df['Refresh_Rate_Hz'] = ''\n",
    "\n",
    "for i in range(df.shape[0]):\n",
    "    display = df.at[i, 'display']\n",
    "    if display.strip():\n",
    "        parts = display.strip().split('\"')\n",
    "        if len(parts) > 1:\n",
    "            first_word = parts[0]\n",
    "            second_word = parts[1]\n",
    "\n",
    "            # Klammern und 'Hz' Zeichenkette entfernen\n",
    "            second_word = second_word.replace('(unconfirmed)', '')\n",
    "            second_word = second_word.replace(' (International', '')\n",
    "            second_word = second_word.replace('Hz', '')\n",
    "            second_word = second_word.strip(' ()')\n",
    "\n",
    "            df.at[i, 'disp_size_inch'] = first_word\n",
    "            df.at[i, 'Refresh_Rate_Hz'] = second_word\n",
    "    else:\n",
    "        df.at[i, 'disp_size_inch'] = np.nan\n",
    "        df.at[i, 'Refresh_Rate_Hz'] = np.nan\n",
    "\n",
    "print(df['Refresh_Rate_Hz'].unique())\n"
   ]
  },
  {
   "cell_type": "code",
   "execution_count": 39,
   "id": "dcc92cef-84a7-4e3a-b3aa-3d2a72b0d072",
   "metadata": {},
   "outputs": [],
   "source": [
    "#df['Size (Inches)'].unique()"
   ]
  },
  {
   "cell_type": "markdown",
   "id": "9906a401-686e-4147-a5da-e291a556309a",
   "metadata": {},
   "source": [
    "#### Korrekte-datenformatierung"
   ]
  },
  {
   "cell_type": "code",
   "execution_count": 40,
   "id": "16a9cfd5-efa1-4e22-8617-1a610eb3f159",
   "metadata": {},
   "outputs": [],
   "source": [
    "df['disp_size_inch'] = df['disp_size_inch'].astype(float)"
   ]
  },
  {
   "cell_type": "code",
   "execution_count": 41,
   "id": "31264e8f-71fe-41a9-b633-268329736eb9",
   "metadata": {},
   "outputs": [
    {
     "data": {
      "text/plain": [
       "dtype('float64')"
      ]
     },
     "execution_count": 41,
     "metadata": {},
     "output_type": "execute_result"
    }
   ],
   "source": [
    "df['disp_size_inch'].dtypes"
   ]
  },
  {
   "cell_type": "code",
   "execution_count": 42,
   "id": "67121be0-cc84-4f63-97c3-814ea4ded842",
   "metadata": {},
   "outputs": [
    {
     "data": {
      "text/plain": [
       "dtype('O')"
      ]
     },
     "execution_count": 42,
     "metadata": {},
     "output_type": "execute_result"
    }
   ],
   "source": [
    "df['Refresh_Rate_Hz'].dtypes"
   ]
  },
  {
   "cell_type": "code",
   "execution_count": 43,
   "id": "dd5e0864-c953-4b38-a85a-60cd0b2d58e1",
   "metadata": {},
   "outputs": [
    {
     "data": {
      "text/plain": [
       "array(['120', '90', '', '60', '144'], dtype=object)"
      ]
     },
     "execution_count": 43,
     "metadata": {},
     "output_type": "execute_result"
    }
   ],
   "source": [
    "df['Refresh_Rate_Hz'].unique()"
   ]
  },
  {
   "cell_type": "code",
   "execution_count": 44,
   "id": "ba8b414d-3820-4415-9ab3-8255bd531854",
   "metadata": {},
   "outputs": [],
   "source": [
    "df.loc[df['Refresh_Rate_Hz'] == '', 'Refresh_Rate_Hz'] = np.nan"
   ]
  },
  {
   "cell_type": "code",
   "execution_count": 45,
   "id": "06b055cd-b127-441d-af41-081fa8c4856c",
   "metadata": {},
   "outputs": [
    {
     "data": {
      "text/plain": [
       "dtype('float64')"
      ]
     },
     "execution_count": 45,
     "metadata": {},
     "output_type": "execute_result"
    }
   ],
   "source": [
    "df['Refresh_Rate_Hz'] = df['Refresh_Rate_Hz'].astype(float)\n",
    "df['Refresh_Rate_Hz'].dtypes"
   ]
  },
  {
   "cell_type": "code",
   "execution_count": 46,
   "id": "b0eeb226-b804-4af9-a5b9-bc51423dc0fc",
   "metadata": {},
   "outputs": [],
   "source": [
    "# df.isna().sum()"
   ]
  },
  {
   "cell_type": "code",
   "execution_count": 47,
   "id": "a66bcff0-5381-4e93-a3ec-8894f16e26f5",
   "metadata": {},
   "outputs": [],
   "source": [
    "nan_values = df[df['Refresh_Rate_Hz'].isnull()]\n",
    "#nan_values.head(5)"
   ]
  },
  {
   "cell_type": "code",
   "execution_count": 48,
   "id": "b12a3d4c-d5f5-4601-b14a-d8795d16b0db",
   "metadata": {},
   "outputs": [],
   "source": [
    "# df.isna().sum()"
   ]
  },
  {
   "cell_type": "markdown",
   "id": "53b12a5f-edbf-46c8-b554-2d6939d832b1",
   "metadata": {},
   "source": [
    "<details>\n",
    "<summary>Num of NaN Values</summary>\n",
    "\n",
    "```python\n",
    "df.isna().sum()\n",
    "brand_name                0\r\n",
    "model                     0\r\n",
    "display                   0\r\n",
    "front_camera              0\r\n",
    "rare_camera               0\r\n",
    "processor                 0\r\n",
    "ram                       0\r\n",
    "internal_storage          0\r\n",
    "price(€)                  0\r\n",
    "battery_capacity(mAh)    14\r\n",
    "processor brand           0\r\n",
    "Size (Inches)             0\n",
    "```etails>\n",
    "```"
   ]
  },
  {
   "cell_type": "code",
   "execution_count": 49,
   "id": "c6b9152a-1cad-4b7e-a274-b11f07e22029",
   "metadata": {},
   "outputs": [
    {
     "data": {
      "text/plain": [
       "(1235, 20)"
      ]
     },
     "execution_count": 49,
     "metadata": {},
     "output_type": "execute_result"
    }
   ],
   "source": [
    "df.shape"
   ]
  },
  {
   "cell_type": "code",
   "execution_count": 50,
   "id": "7bbacedc-e1f2-468d-a1c7-31f4c5fcc54a",
   "metadata": {},
   "outputs": [],
   "source": [
    "df.drop('Refresh_Rate_Hz',axis=1, inplace=True)"
   ]
  },
  {
   "cell_type": "code",
   "execution_count": 51,
   "id": "1b4c2a0a-027f-4dad-b4b2-e74927eb3032",
   "metadata": {},
   "outputs": [],
   "source": [
    "df.reset_index(drop=True, inplace=True)"
   ]
  },
  {
   "cell_type": "code",
   "execution_count": 52,
   "id": "dc12e295-d3eb-4e7a-849e-48c1a46b6b11",
   "metadata": {},
   "outputs": [],
   "source": [
    "# df.isna().sum()"
   ]
  },
  {
   "cell_type": "code",
   "execution_count": 53,
   "id": "a71fd881-8dfe-44aa-93df-9c803375a7bb",
   "metadata": {},
   "outputs": [
    {
     "data": {
      "text/html": [
       "<div>\n",
       "<style scoped>\n",
       "    .dataframe tbody tr th:only-of-type {\n",
       "        vertical-align: middle;\n",
       "    }\n",
       "\n",
       "    .dataframe tbody tr th {\n",
       "        vertical-align: top;\n",
       "    }\n",
       "\n",
       "    .dataframe thead th {\n",
       "        text-align: right;\n",
       "    }\n",
       "</style>\n",
       "<table border=\"1\" class=\"dataframe\">\n",
       "  <thead>\n",
       "    <tr style=\"text-align: right;\">\n",
       "      <th></th>\n",
       "      <th>brand</th>\n",
       "      <th>model</th>\n",
       "      <th>display</th>\n",
       "      <th>front_camera</th>\n",
       "      <th>rare_camera</th>\n",
       "      <th>processor</th>\n",
       "      <th>battery_capacity</th>\n",
       "      <th>ram</th>\n",
       "      <th>internal_storage</th>\n",
       "      <th>price</th>\n",
       "      <th>battery_capacity_mAh</th>\n",
       "      <th>front_camera_mp</th>\n",
       "      <th>rar_camera__mp1</th>\n",
       "      <th>rar_camera__mp2</th>\n",
       "      <th>rar_camera__mp3</th>\n",
       "      <th>rar_camera_total_mp</th>\n",
       "      <th>rar_camera__mp4</th>\n",
       "      <th>process_brand</th>\n",
       "      <th>disp_size_inch</th>\n",
       "    </tr>\n",
       "  </thead>\n",
       "  <tbody>\n",
       "    <tr>\n",
       "      <th>0</th>\n",
       "      <td>SAMSUNG</td>\n",
       "      <td>Samsung S24 Ultra</td>\n",
       "      <td>6.8\" (120Hz)</td>\n",
       "      <td>40MP</td>\n",
       "      <td>108MP + 10MP + 10MP + 12MP</td>\n",
       "      <td>Exynos</td>\n",
       "      <td>5000 mAh</td>\n",
       "      <td>8.0</td>\n",
       "      <td>128</td>\n",
       "      <td>1810.81</td>\n",
       "      <td>5000.0</td>\n",
       "      <td>40.0</td>\n",
       "      <td>108</td>\n",
       "      <td>10</td>\n",
       "      <td>10</td>\n",
       "      <td>128.0</td>\n",
       "      <td>12MP</td>\n",
       "      <td>Exynos</td>\n",
       "      <td>6.80</td>\n",
       "    </tr>\n",
       "    <tr>\n",
       "      <th>1</th>\n",
       "      <td>SAMSUNG</td>\n",
       "      <td>Samsung S24 Plus</td>\n",
       "      <td>6.6\" (120Hz)</td>\n",
       "      <td>10MP</td>\n",
       "      <td>50MP + 10MP + 12MP</td>\n",
       "      <td>Exynos</td>\n",
       "      <td>4500 mAh</td>\n",
       "      <td>8.0</td>\n",
       "      <td>128</td>\n",
       "      <td>1027.02</td>\n",
       "      <td>4500.0</td>\n",
       "      <td>10.0</td>\n",
       "      <td>50</td>\n",
       "      <td>10</td>\n",
       "      <td>12</td>\n",
       "      <td>72.0</td>\n",
       "      <td>nan</td>\n",
       "      <td>Exynos</td>\n",
       "      <td>6.60</td>\n",
       "    </tr>\n",
       "    <tr>\n",
       "      <th>2</th>\n",
       "      <td>SAMSUNG</td>\n",
       "      <td>Samsung Zero</td>\n",
       "      <td>6.41\" (120Hz)</td>\n",
       "      <td>32 MP</td>\n",
       "      <td>12 MP + 8 MP + 12 MP</td>\n",
       "      <td>Snapdragon 888 5G</td>\n",
       "      <td>4500 mAh</td>\n",
       "      <td>8.0</td>\n",
       "      <td>256</td>\n",
       "      <td>610.81</td>\n",
       "      <td>4500.0</td>\n",
       "      <td>32.0</td>\n",
       "      <td>12</td>\n",
       "      <td>8</td>\n",
       "      <td>12</td>\n",
       "      <td>32.0</td>\n",
       "      <td>nan</td>\n",
       "      <td>Snapdragon</td>\n",
       "      <td>6.41</td>\n",
       "    </tr>\n",
       "    <tr>\n",
       "      <th>3</th>\n",
       "      <td>SAMSUNG</td>\n",
       "      <td>Samsung S24</td>\n",
       "      <td>6.1\" (120Hz)</td>\n",
       "      <td>10MP</td>\n",
       "      <td>50MP + 10MP + 12MP</td>\n",
       "      <td>Exynos</td>\n",
       "      <td>3700 mAh</td>\n",
       "      <td>8.0</td>\n",
       "      <td>128</td>\n",
       "      <td>1351.35</td>\n",
       "      <td>3700.0</td>\n",
       "      <td>10.0</td>\n",
       "      <td>50</td>\n",
       "      <td>10</td>\n",
       "      <td>12</td>\n",
       "      <td>72.0</td>\n",
       "      <td>nan</td>\n",
       "      <td>Exynos</td>\n",
       "      <td>6.10</td>\n",
       "    </tr>\n",
       "    <tr>\n",
       "      <th>4</th>\n",
       "      <td>SAMSUNG</td>\n",
       "      <td>Samsung A05s</td>\n",
       "      <td>6.5\" (90Hz)</td>\n",
       "      <td>5MP</td>\n",
       "      <td>50MP + 2MP + 2MP</td>\n",
       "      <td>Exynos</td>\n",
       "      <td>5000 mAh</td>\n",
       "      <td>4.0</td>\n",
       "      <td>64</td>\n",
       "      <td>135.13</td>\n",
       "      <td>5000.0</td>\n",
       "      <td>5.0</td>\n",
       "      <td>50</td>\n",
       "      <td>2</td>\n",
       "      <td>2</td>\n",
       "      <td>54.0</td>\n",
       "      <td>nan</td>\n",
       "      <td>Exynos</td>\n",
       "      <td>6.50</td>\n",
       "    </tr>\n",
       "  </tbody>\n",
       "</table>\n",
       "</div>"
      ],
      "text/plain": [
       "     brand              model        display front_camera  \\\n",
       "0  SAMSUNG  Samsung S24 Ultra   6.8\" (120Hz)         40MP   \n",
       "1  SAMSUNG   Samsung S24 Plus   6.6\" (120Hz)         10MP   \n",
       "2  SAMSUNG       Samsung Zero  6.41\" (120Hz)        32 MP   \n",
       "3  SAMSUNG        Samsung S24   6.1\" (120Hz)         10MP   \n",
       "4  SAMSUNG       Samsung A05s    6.5\" (90Hz)          5MP   \n",
       "\n",
       "                  rare_camera          processor battery_capacity  ram  \\\n",
       "0  108MP + 10MP + 10MP + 12MP             Exynos         5000 mAh  8.0   \n",
       "1          50MP + 10MP + 12MP             Exynos         4500 mAh  8.0   \n",
       "2        12 MP + 8 MP + 12 MP  Snapdragon 888 5G         4500 mAh  8.0   \n",
       "3          50MP + 10MP + 12MP             Exynos         3700 mAh  8.0   \n",
       "4            50MP + 2MP + 2MP             Exynos         5000 mAh  4.0   \n",
       "\n",
       "   internal_storage    price  battery_capacity_mAh  front_camera_mp  \\\n",
       "0               128  1810.81                5000.0             40.0   \n",
       "1               128  1027.02                4500.0             10.0   \n",
       "2               256   610.81                4500.0             32.0   \n",
       "3               128  1351.35                3700.0             10.0   \n",
       "4                64   135.13                5000.0              5.0   \n",
       "\n",
       "  rar_camera__mp1 rar_camera__mp2 rar_camera__mp3  rar_camera_total_mp  \\\n",
       "0             108              10              10                128.0   \n",
       "1              50              10              12                 72.0   \n",
       "2              12               8              12                 32.0   \n",
       "3              50              10              12                 72.0   \n",
       "4              50               2               2                 54.0   \n",
       "\n",
       "  rar_camera__mp4 process_brand  disp_size_inch  \n",
       "0            12MP        Exynos            6.80  \n",
       "1             nan        Exynos            6.60  \n",
       "2             nan    Snapdragon            6.41  \n",
       "3             nan        Exynos            6.10  \n",
       "4             nan        Exynos            6.50  "
      ]
     },
     "execution_count": 53,
     "metadata": {},
     "output_type": "execute_result"
    }
   ],
   "source": [
    "df.head(5)"
   ]
  },
  {
   "cell_type": "markdown",
   "id": "07edaccc-d52e-4afa-9150-8a9c39cffa86",
   "metadata": {},
   "source": [
    "#### Spalten zuordnen"
   ]
  },
  {
   "cell_type": "code",
   "execution_count": 54,
   "id": "8e79a162-815c-46cf-993a-6574b1b7ba55",
   "metadata": {},
   "outputs": [
    {
     "data": {
      "text/plain": [
       "Index(['brand', 'model', 'display', 'front_camera', 'rare_camera', 'processor',\n",
       "       'battery_capacity', 'ram', 'internal_storage', 'price',\n",
       "       'battery_capacity_mAh', 'front_camera_mp', 'rar_camera__mp1',\n",
       "       'rar_camera__mp2', 'rar_camera__mp3', 'rar_camera_total_mp',\n",
       "       'rar_camera__mp4', 'process_brand', 'disp_size_inch'],\n",
       "      dtype='object')"
      ]
     },
     "execution_count": 54,
     "metadata": {},
     "output_type": "execute_result"
    }
   ],
   "source": [
    "df.columns"
   ]
  },
  {
   "cell_type": "code",
   "execution_count": 55,
   "id": "c3e2d6df-2af6-498f-851b-faf2ebdf2aa9",
   "metadata": {},
   "outputs": [],
   "source": [
    "new_order = ['brand', 'model','process_brand', 'processor', 'internal_storage', 'ram',\n",
    "             'battery_capacity_mAh', 'rar_camera_total_mp', 'front_camera_mp',\n",
    "             'display', 'disp_size_inch', 'price']"
   ]
  },
  {
   "cell_type": "code",
   "execution_count": 56,
   "id": "fd10d8b6-ddf2-4a95-9d93-a7175369d3d2",
   "metadata": {},
   "outputs": [],
   "source": [
    "df = df[new_order]"
   ]
  },
  {
   "cell_type": "code",
   "execution_count": 57,
   "id": "c486d0f5-d437-4916-b818-3809041894a5",
   "metadata": {},
   "outputs": [
    {
     "data": {
      "text/html": [
       "<div>\n",
       "<style scoped>\n",
       "    .dataframe tbody tr th:only-of-type {\n",
       "        vertical-align: middle;\n",
       "    }\n",
       "\n",
       "    .dataframe tbody tr th {\n",
       "        vertical-align: top;\n",
       "    }\n",
       "\n",
       "    .dataframe thead th {\n",
       "        text-align: right;\n",
       "    }\n",
       "</style>\n",
       "<table border=\"1\" class=\"dataframe\">\n",
       "  <thead>\n",
       "    <tr style=\"text-align: right;\">\n",
       "      <th></th>\n",
       "      <th>brand</th>\n",
       "      <th>model</th>\n",
       "      <th>process_brand</th>\n",
       "      <th>processor</th>\n",
       "      <th>internal_storage</th>\n",
       "      <th>ram</th>\n",
       "      <th>battery_capacity_mAh</th>\n",
       "      <th>rar_camera_total_mp</th>\n",
       "      <th>front_camera_mp</th>\n",
       "      <th>display</th>\n",
       "      <th>disp_size_inch</th>\n",
       "      <th>price</th>\n",
       "    </tr>\n",
       "  </thead>\n",
       "  <tbody>\n",
       "    <tr>\n",
       "      <th>0</th>\n",
       "      <td>SAMSUNG</td>\n",
       "      <td>Samsung S24 Ultra</td>\n",
       "      <td>Exynos</td>\n",
       "      <td>Exynos</td>\n",
       "      <td>128</td>\n",
       "      <td>8.0</td>\n",
       "      <td>5000.0</td>\n",
       "      <td>128.0</td>\n",
       "      <td>40.0</td>\n",
       "      <td>6.8\" (120Hz)</td>\n",
       "      <td>6.80</td>\n",
       "      <td>1810.81</td>\n",
       "    </tr>\n",
       "    <tr>\n",
       "      <th>1</th>\n",
       "      <td>SAMSUNG</td>\n",
       "      <td>Samsung S24 Plus</td>\n",
       "      <td>Exynos</td>\n",
       "      <td>Exynos</td>\n",
       "      <td>128</td>\n",
       "      <td>8.0</td>\n",
       "      <td>4500.0</td>\n",
       "      <td>72.0</td>\n",
       "      <td>10.0</td>\n",
       "      <td>6.6\" (120Hz)</td>\n",
       "      <td>6.60</td>\n",
       "      <td>1027.02</td>\n",
       "    </tr>\n",
       "    <tr>\n",
       "      <th>2</th>\n",
       "      <td>SAMSUNG</td>\n",
       "      <td>Samsung Zero</td>\n",
       "      <td>Snapdragon</td>\n",
       "      <td>Snapdragon 888 5G</td>\n",
       "      <td>256</td>\n",
       "      <td>8.0</td>\n",
       "      <td>4500.0</td>\n",
       "      <td>32.0</td>\n",
       "      <td>32.0</td>\n",
       "      <td>6.41\" (120Hz)</td>\n",
       "      <td>6.41</td>\n",
       "      <td>610.81</td>\n",
       "    </tr>\n",
       "    <tr>\n",
       "      <th>3</th>\n",
       "      <td>SAMSUNG</td>\n",
       "      <td>Samsung S24</td>\n",
       "      <td>Exynos</td>\n",
       "      <td>Exynos</td>\n",
       "      <td>128</td>\n",
       "      <td>8.0</td>\n",
       "      <td>3700.0</td>\n",
       "      <td>72.0</td>\n",
       "      <td>10.0</td>\n",
       "      <td>6.1\" (120Hz)</td>\n",
       "      <td>6.10</td>\n",
       "      <td>1351.35</td>\n",
       "    </tr>\n",
       "    <tr>\n",
       "      <th>4</th>\n",
       "      <td>SAMSUNG</td>\n",
       "      <td>Samsung A05s</td>\n",
       "      <td>Exynos</td>\n",
       "      <td>Exynos</td>\n",
       "      <td>64</td>\n",
       "      <td>4.0</td>\n",
       "      <td>5000.0</td>\n",
       "      <td>54.0</td>\n",
       "      <td>5.0</td>\n",
       "      <td>6.5\" (90Hz)</td>\n",
       "      <td>6.50</td>\n",
       "      <td>135.13</td>\n",
       "    </tr>\n",
       "  </tbody>\n",
       "</table>\n",
       "</div>"
      ],
      "text/plain": [
       "     brand              model process_brand          processor  \\\n",
       "0  SAMSUNG  Samsung S24 Ultra        Exynos             Exynos   \n",
       "1  SAMSUNG   Samsung S24 Plus        Exynos             Exynos   \n",
       "2  SAMSUNG       Samsung Zero    Snapdragon  Snapdragon 888 5G   \n",
       "3  SAMSUNG        Samsung S24        Exynos             Exynos   \n",
       "4  SAMSUNG       Samsung A05s        Exynos             Exynos   \n",
       "\n",
       "   internal_storage  ram  battery_capacity_mAh  rar_camera_total_mp  \\\n",
       "0               128  8.0                5000.0                128.0   \n",
       "1               128  8.0                4500.0                 72.0   \n",
       "2               256  8.0                4500.0                 32.0   \n",
       "3               128  8.0                3700.0                 72.0   \n",
       "4                64  4.0                5000.0                 54.0   \n",
       "\n",
       "   front_camera_mp        display  disp_size_inch    price  \n",
       "0             40.0   6.8\" (120Hz)            6.80  1810.81  \n",
       "1             10.0   6.6\" (120Hz)            6.60  1027.02  \n",
       "2             32.0  6.41\" (120Hz)            6.41   610.81  \n",
       "3             10.0   6.1\" (120Hz)            6.10  1351.35  \n",
       "4              5.0    6.5\" (90Hz)            6.50   135.13  "
      ]
     },
     "execution_count": 57,
     "metadata": {},
     "output_type": "execute_result"
    }
   ],
   "source": [
    "df.head()"
   ]
  },
  {
   "cell_type": "markdown",
   "id": "2ccedf77-c9dc-49d4-9338-273ce67854bd",
   "metadata": {},
   "source": [
    "#### Indikatorvariable"
   ]
  },
  {
   "cell_type": "markdown",
   "id": "b866b6dc-7e44-4494-8996-69a08a3bc201",
   "metadata": {},
   "source": [
    "Regression versteht keine Wörter, sondern nur Zahlen. Um dieses Attribut in einer Regressionsanalyse zu verwenden, können wir diese Spalten in Indikatorvariablen umwandeln."
   ]
  },
  {
   "cell_type": "code",
   "execution_count": 58,
   "id": "08b3d98a-65e7-47c6-9c68-ccc0f54f1ea5",
   "metadata": {},
   "outputs": [
    {
     "data": {
      "text/plain": [
       "179"
      ]
     },
     "execution_count": 58,
     "metadata": {},
     "output_type": "execute_result"
    }
   ],
   "source": [
    "len(df['processor'].unique())"
   ]
  },
  {
   "cell_type": "markdown",
   "id": "04c98f9f-a4ee-4708-9906-b1a13369ba00",
   "metadata": {},
   "source": [
    "## Kodierung"
   ]
  },
  {
   "cell_type": "code",
   "execution_count": 59,
   "id": "8ca11f2a-f636-4417-8eff-9ee0a5d7617a",
   "metadata": {},
   "outputs": [],
   "source": [
    "brand_unique = sorted(df['brand'].unique())\n",
    "brand_mapping = {}\n",
    "\n",
    "for i, brand_name in enumerate(brand_unique):\n",
    "    brand_mapping[brand_name] = i\n",
    "    df['brand_num'] = df['brand'].map(brand_mapping)\n",
    "########################################################\n",
    "\n",
    "process_brand_unique = sorted(df['process_brand'].unique())\n",
    "process_brand_mapping = {}\n",
    "\n",
    "for i, process_br_name in enumerate(process_brand_unique):\n",
    "    process_brand_mapping[process_br_name] = i\n",
    "    df['process_brand_num'] = df['process_brand'].map(process_brand_mapping) \n",
    "########################################################\n",
    "process_unique = sorted(df['processor'].unique())\n",
    "processor_mapping = {}\n",
    "\n",
    "for i, processor_name in enumerate(process_unique):\n",
    "    processor_mapping[processor_name] = i\n",
    "    df['processor_num'] = df['processor'].map(processor_mapping) "
   ]
  },
  {
   "cell_type": "code",
   "execution_count": 60,
   "id": "0e579694-a71a-4971-99ca-e2f3289b5ec8",
   "metadata": {},
   "outputs": [],
   "source": [
    "def convert_to_numeric(user_input):\n",
    "    try:\n",
    "        # Konvertierung\n",
    "        brand_num = brand_mapping.get(user_input[0])\n",
    "        process_brand_num = process_brand_mapping.get(user_input[1])\n",
    "        processor_num = processor_mapping.get(user_input[2])\n",
    "        \n",
    "        # Überprüfung\n",
    "        if brand_num is None:\n",
    "            print(f\"Marke '{user_input[0]}' nicht gefunden.\")\n",
    "            return None\n",
    "        if process_brand_num is None:\n",
    "            print(f\"Prozessormarke '{user_input[1]}' nicht gefunden.\")\n",
    "            return None\n",
    "        if processor_num is None:\n",
    "            print(f\"Prozessor '{user_input[2]}' nicht gefunden.\")\n",
    "            return None\n",
    "\n",
    "        # Erstellung der finale Liste mit numerischen Werten\n",
    "        user_input_converted = [brand_num, processor_num, process_brand_num, user_input[3], user_input[4], user_input[5],\n",
    "                                user_input[6], user_input[7], user_input[8]]\n",
    "        return user_input_converted\n",
    "    except ValueError as e:\n",
    "        print(\"Error:\", e)\n",
    "        return None\n"
   ]
  },
  {
   "cell_type": "code",
   "execution_count": 61,
   "id": "0c946464-e625-4037-a401-874df5ef4143",
   "metadata": {},
   "outputs": [
    {
     "data": {
      "text/html": [
       "<div>\n",
       "<style scoped>\n",
       "    .dataframe tbody tr th:only-of-type {\n",
       "        vertical-align: middle;\n",
       "    }\n",
       "\n",
       "    .dataframe tbody tr th {\n",
       "        vertical-align: top;\n",
       "    }\n",
       "\n",
       "    .dataframe thead th {\n",
       "        text-align: right;\n",
       "    }\n",
       "</style>\n",
       "<table border=\"1\" class=\"dataframe\">\n",
       "  <thead>\n",
       "    <tr style=\"text-align: right;\">\n",
       "      <th></th>\n",
       "      <th>brand</th>\n",
       "      <th>model</th>\n",
       "      <th>process_brand</th>\n",
       "      <th>processor</th>\n",
       "      <th>internal_storage</th>\n",
       "      <th>ram</th>\n",
       "      <th>battery_capacity_mAh</th>\n",
       "      <th>rar_camera_total_mp</th>\n",
       "      <th>front_camera_mp</th>\n",
       "      <th>display</th>\n",
       "      <th>disp_size_inch</th>\n",
       "      <th>price</th>\n",
       "      <th>brand_num</th>\n",
       "      <th>process_brand_num</th>\n",
       "      <th>processor_num</th>\n",
       "    </tr>\n",
       "  </thead>\n",
       "  <tbody>\n",
       "    <tr>\n",
       "      <th>1000</th>\n",
       "      <td>ONEPLUS</td>\n",
       "      <td>OnePlus 7T</td>\n",
       "      <td>Snapdragon</td>\n",
       "      <td>Snapdragon 855+</td>\n",
       "      <td>128</td>\n",
       "      <td>8.0</td>\n",
       "      <td>3800.0</td>\n",
       "      <td>76.0</td>\n",
       "      <td>16.0</td>\n",
       "      <td>6.55\"</td>\n",
       "      <td>6.55</td>\n",
       "      <td>594.59</td>\n",
       "      <td>1</td>\n",
       "      <td>13</td>\n",
       "      <td>166</td>\n",
       "    </tr>\n",
       "  </tbody>\n",
       "</table>\n",
       "</div>"
      ],
      "text/plain": [
       "        brand       model process_brand        processor  internal_storage  \\\n",
       "1000  ONEPLUS  OnePlus 7T    Snapdragon  Snapdragon 855+               128   \n",
       "\n",
       "      ram  battery_capacity_mAh  rar_camera_total_mp  front_camera_mp display  \\\n",
       "1000  8.0                3800.0                 76.0             16.0   6.55\"   \n",
       "\n",
       "      disp_size_inch   price  brand_num  process_brand_num  processor_num  \n",
       "1000            6.55  594.59          1                 13            166  "
      ]
     },
     "execution_count": 61,
     "metadata": {},
     "output_type": "execute_result"
    }
   ],
   "source": [
    "df.iloc[[1000], :]"
   ]
  },
  {
   "cell_type": "code",
   "execution_count": 62,
   "id": "f16e15e8-5b10-4841-af4a-10d79127b676",
   "metadata": {},
   "outputs": [],
   "source": [
    "user_input = ['ONEPLUS', 'Snapdragon', 'Snapdragon 855+', 128, 8.0, 3800.0, 76.0, 16.0, 6.55]"
   ]
  },
  {
   "cell_type": "code",
   "execution_count": 63,
   "id": "fc6eae24-6296-44d6-8603-180888821636",
   "metadata": {},
   "outputs": [
    {
     "data": {
      "text/plain": [
       "[1, 166, 13, 128, 8.0, 3800.0, 76.0, 16.0, 6.55]"
      ]
     },
     "execution_count": 63,
     "metadata": {},
     "output_type": "execute_result"
    }
   ],
   "source": [
    "convert_to_numeric(user_input)"
   ]
  },
  {
   "cell_type": "markdown",
   "id": "de5739c5-d5a5-40db-8260-fc270561784f",
   "metadata": {},
   "source": [
    "### Speicherung von Keys als .pkl Datei"
   ]
  },
  {
   "cell_type": "code",
   "execution_count": 64,
   "id": "bc7d1fb9-b1e8-46f7-8d08-221d34b72a72",
   "metadata": {},
   "outputs": [],
   "source": [
    "import pickle\n",
    "\n",
    "# Mapping-Daten speichern\n",
    "mapping_data = {\n",
    "    'brand_mapping': brand_mapping,\n",
    "    'process_brand_mapping': process_brand_mapping,\n",
    "    'processor_mapping': processor_mapping\n",
    "}\n",
    "\n",
    "with open('mapping_data.pkl', 'wb') as f:\n",
    "    pickle.dump(mapping_data, f)\n"
   ]
  },
  {
   "cell_type": "code",
   "execution_count": 65,
   "id": "41341a18-fada-4a6e-9f94-8e1065ca87cc",
   "metadata": {},
   "outputs": [],
   "source": [
    "# # Dictionary erstellen, das die Encoder mit den Schlüsseln verknüpft\n",
    "# label_encoders = {\n",
    "#     'brand': le1,\n",
    "#     'processor': le2\n",
    "# }\n",
    "# # Speichern des Dictionaries in einer Datei mit Pickle\n",
    "# with open('label_encoders.pkl', 'wb') as f:\n",
    "#     pickle.dump(label_encoders, f)"
   ]
  },
  {
   "cell_type": "markdown",
   "id": "136db1bd-427d-4a8a-9640-e70413b80d5f",
   "metadata": {},
   "source": [
    "<span style=\"background-color:#f00; font-size:16px; padding: 5px;\">\r\n",
    "Es ist vernünftig, auf das Modell des Mobiltelefons als unabhängige Variable zu verzichten, da es keine gute Informationen liefert; im Gegenteil, es könnte sich negativ auf die Generalisierung des Modells auswirken.\r\n",
    "</span>"
   ]
  },
  {
   "cell_type": "code",
   "execution_count": 66,
   "id": "d9a90ec6-d822-4ac1-8167-27832ba220c3",
   "metadata": {},
   "outputs": [],
   "source": [
    "df_num = df.loc[:, ['brand_num', 'process_brand_num', 'processor_num', 'internal_storage', 'ram',\n",
    "                 'battery_capacity_mAh', 'rar_camera_total_mp', 'front_camera_mp',\n",
    "                 'disp_size_inch','price']]\n"
   ]
  },
  {
   "cell_type": "code",
   "execution_count": 67,
   "id": "84ac7034-0d26-486c-97a0-64233bc632a3",
   "metadata": {},
   "outputs": [
    {
     "data": {
      "text/html": [
       "<div>\n",
       "<style scoped>\n",
       "    .dataframe tbody tr th:only-of-type {\n",
       "        vertical-align: middle;\n",
       "    }\n",
       "\n",
       "    .dataframe tbody tr th {\n",
       "        vertical-align: top;\n",
       "    }\n",
       "\n",
       "    .dataframe thead th {\n",
       "        text-align: right;\n",
       "    }\n",
       "</style>\n",
       "<table border=\"1\" class=\"dataframe\">\n",
       "  <thead>\n",
       "    <tr style=\"text-align: right;\">\n",
       "      <th></th>\n",
       "      <th>brand_num</th>\n",
       "      <th>process_brand_num</th>\n",
       "      <th>processor_num</th>\n",
       "      <th>internal_storage</th>\n",
       "      <th>ram</th>\n",
       "      <th>battery_capacity_mAh</th>\n",
       "      <th>rar_camera_total_mp</th>\n",
       "      <th>front_camera_mp</th>\n",
       "      <th>disp_size_inch</th>\n",
       "      <th>price</th>\n",
       "    </tr>\n",
       "  </thead>\n",
       "  <tbody>\n",
       "    <tr>\n",
       "      <th>0</th>\n",
       "      <td>3</td>\n",
       "      <td>2</td>\n",
       "      <td>42</td>\n",
       "      <td>128</td>\n",
       "      <td>8.0</td>\n",
       "      <td>5000.0</td>\n",
       "      <td>128.0</td>\n",
       "      <td>40.0</td>\n",
       "      <td>6.80</td>\n",
       "      <td>1810.81</td>\n",
       "    </tr>\n",
       "    <tr>\n",
       "      <th>1</th>\n",
       "      <td>3</td>\n",
       "      <td>2</td>\n",
       "      <td>42</td>\n",
       "      <td>128</td>\n",
       "      <td>8.0</td>\n",
       "      <td>4500.0</td>\n",
       "      <td>72.0</td>\n",
       "      <td>10.0</td>\n",
       "      <td>6.60</td>\n",
       "      <td>1027.02</td>\n",
       "    </tr>\n",
       "    <tr>\n",
       "      <th>2</th>\n",
       "      <td>3</td>\n",
       "      <td>13</td>\n",
       "      <td>173</td>\n",
       "      <td>256</td>\n",
       "      <td>8.0</td>\n",
       "      <td>4500.0</td>\n",
       "      <td>32.0</td>\n",
       "      <td>32.0</td>\n",
       "      <td>6.41</td>\n",
       "      <td>610.81</td>\n",
       "    </tr>\n",
       "    <tr>\n",
       "      <th>3</th>\n",
       "      <td>3</td>\n",
       "      <td>2</td>\n",
       "      <td>42</td>\n",
       "      <td>128</td>\n",
       "      <td>8.0</td>\n",
       "      <td>3700.0</td>\n",
       "      <td>72.0</td>\n",
       "      <td>10.0</td>\n",
       "      <td>6.10</td>\n",
       "      <td>1351.35</td>\n",
       "    </tr>\n",
       "    <tr>\n",
       "      <th>4</th>\n",
       "      <td>3</td>\n",
       "      <td>2</td>\n",
       "      <td>42</td>\n",
       "      <td>64</td>\n",
       "      <td>4.0</td>\n",
       "      <td>5000.0</td>\n",
       "      <td>54.0</td>\n",
       "      <td>5.0</td>\n",
       "      <td>6.50</td>\n",
       "      <td>135.13</td>\n",
       "    </tr>\n",
       "  </tbody>\n",
       "</table>\n",
       "</div>"
      ],
      "text/plain": [
       "   brand_num  process_brand_num  processor_num  internal_storage  ram  \\\n",
       "0          3                  2             42               128  8.0   \n",
       "1          3                  2             42               128  8.0   \n",
       "2          3                 13            173               256  8.0   \n",
       "3          3                  2             42               128  8.0   \n",
       "4          3                  2             42                64  4.0   \n",
       "\n",
       "   battery_capacity_mAh  rar_camera_total_mp  front_camera_mp  disp_size_inch  \\\n",
       "0                5000.0                128.0             40.0            6.80   \n",
       "1                4500.0                 72.0             10.0            6.60   \n",
       "2                4500.0                 32.0             32.0            6.41   \n",
       "3                3700.0                 72.0             10.0            6.10   \n",
       "4                5000.0                 54.0              5.0            6.50   \n",
       "\n",
       "     price  \n",
       "0  1810.81  \n",
       "1  1027.02  \n",
       "2   610.81  \n",
       "3  1351.35  \n",
       "4   135.13  "
      ]
     },
     "execution_count": 67,
     "metadata": {},
     "output_type": "execute_result"
    }
   ],
   "source": [
    "df_num.head()"
   ]
  },
  {
   "cell_type": "markdown",
   "id": "28d49e32-c9be-4811-9b06-043155220571",
   "metadata": {},
   "source": [
    "## <div style=\"background-color:#e6c1ff;\">Modelierung</div>\n"
   ]
  },
  {
   "cell_type": "markdown",
   "id": "f7b9092f-23d9-4808-996f-89ff9dddd5ba",
   "metadata": {},
   "source": [
    "Als Maßmerkmal unserer Models nehmen wir r squared error:\n",
    "\n",
    "- $R^2$ nahe 1: Das Modell erklärt einen Großteil der Variabilität der Daten. Sehr zufriedenstellend. \r",
    "- $R^2$2 zwischen 0,7 und 0,9: Das Modell erklärt einen signifikanten Teil der Variabilität der Daten. Gut.- $R^2$^2 zwischen 0,5 und 0,7: Das Modell erklärt einen moderaten Teil der Variabilität der Daten. Akzeptabel- $R^2$R^2 zwischen 0,3 und 0,5: Das Modell erklärt einen geringen Teil der Variabilität der Daten. Eher mäßi- $R^2$ R^2 unter 0,3: Das Modell erklärt eine sehr geringe oder keine Variabilität der Daten. Nicht zufriedenstellend."
   ]
  },
  {
   "cell_type": "markdown",
   "id": "8a1dc138-d0a0-4dba-8121-b987a7169852",
   "metadata": {},
   "source": [
    "Als Maßmerkmal unserer Models nehmen wir r squared error:\n",
    "- $R^2~$ nahe 1: Das Modell erklärt einen Großteil der Variabilität der Daten. **Sehr zufriedenstellend.**\n",
    "- $R^2~$ zwischen 0,7 und 0,9: Das Modell erklärt einen signifikanten Teil der Variabilität der Daten. **Gut**.\n",
    "- $R^2~$ zwischen 0,5 und 0,7: Das Modell erklärt einen moderaten Teil der Variabilität der Daten. **Akzeptabel**.\n",
    "- $R^2~$ zwischen 0,3 und 0,5: Das Modell erklärt einen geringen Teil der Variabilität der Daten. **Eher mäßig**.\n",
    "- $R^2~$ unter 0,3: Das Modell erklärt eine sehr geringe oder keine Variabilität der Daten. **Nicht zufriedenstellend**."
   ]
  },
  {
   "cell_type": "markdown",
   "id": "50193bc4-0c0d-46a7-9636-95aa25fa1704",
   "metadata": {},
   "source": [
    "### Statistische Zusammenfassung"
   ]
  },
  {
   "cell_type": "code",
   "execution_count": 68,
   "id": "c1348831-ab9e-49ed-8ba1-b3f41a719bac",
   "metadata": {},
   "outputs": [
    {
     "data": {
      "text/html": [
       "<div>\n",
       "<style scoped>\n",
       "    .dataframe tbody tr th:only-of-type {\n",
       "        vertical-align: middle;\n",
       "    }\n",
       "\n",
       "    .dataframe tbody tr th {\n",
       "        vertical-align: top;\n",
       "    }\n",
       "\n",
       "    .dataframe thead th {\n",
       "        text-align: right;\n",
       "    }\n",
       "</style>\n",
       "<table border=\"1\" class=\"dataframe\">\n",
       "  <thead>\n",
       "    <tr style=\"text-align: right;\">\n",
       "      <th></th>\n",
       "      <th>brand_num</th>\n",
       "      <th>process_brand_num</th>\n",
       "      <th>processor_num</th>\n",
       "      <th>internal_storage</th>\n",
       "      <th>ram</th>\n",
       "      <th>battery_capacity_mAh</th>\n",
       "      <th>rar_camera_total_mp</th>\n",
       "      <th>front_camera_mp</th>\n",
       "      <th>disp_size_inch</th>\n",
       "      <th>price</th>\n",
       "    </tr>\n",
       "  </thead>\n",
       "  <tbody>\n",
       "    <tr>\n",
       "      <th>count</th>\n",
       "      <td>1235.000000</td>\n",
       "      <td>1235.000000</td>\n",
       "      <td>1235.000000</td>\n",
       "      <td>1235.000000</td>\n",
       "      <td>1235.000000</td>\n",
       "      <td>1235.000000</td>\n",
       "      <td>1235.000000</td>\n",
       "      <td>1235.000000</td>\n",
       "      <td>1235.000000</td>\n",
       "      <td>1235.000000</td>\n",
       "    </tr>\n",
       "    <tr>\n",
       "      <th>mean</th>\n",
       "      <td>2.641296</td>\n",
       "      <td>8.045344</td>\n",
       "      <td>93.679352</td>\n",
       "      <td>153.460729</td>\n",
       "      <td>10.815385</td>\n",
       "      <td>4352.867206</td>\n",
       "      <td>205.753036</td>\n",
       "      <td>15.027530</td>\n",
       "      <td>6.436081</td>\n",
       "      <td>480.569393</td>\n",
       "    </tr>\n",
       "    <tr>\n",
       "      <th>std</th>\n",
       "      <td>1.312604</td>\n",
       "      <td>5.606163</td>\n",
       "      <td>55.883293</td>\n",
       "      <td>143.326097</td>\n",
       "      <td>48.748311</td>\n",
       "      <td>1235.733014</td>\n",
       "      <td>388.364179</td>\n",
       "      <td>9.275063</td>\n",
       "      <td>1.002232</td>\n",
       "      <td>388.534328</td>\n",
       "    </tr>\n",
       "    <tr>\n",
       "      <th>min</th>\n",
       "      <td>0.000000</td>\n",
       "      <td>0.000000</td>\n",
       "      <td>0.000000</td>\n",
       "      <td>0.000000</td>\n",
       "      <td>1.000000</td>\n",
       "      <td>0.000000</td>\n",
       "      <td>5.000000</td>\n",
       "      <td>0.000000</td>\n",
       "      <td>3.500000</td>\n",
       "      <td>2.160000</td>\n",
       "    </tr>\n",
       "    <tr>\n",
       "      <th>25%</th>\n",
       "      <td>2.000000</td>\n",
       "      <td>2.000000</td>\n",
       "      <td>43.000000</td>\n",
       "      <td>64.000000</td>\n",
       "      <td>4.000000</td>\n",
       "      <td>3800.000000</td>\n",
       "      <td>18.000000</td>\n",
       "      <td>8.000000</td>\n",
       "      <td>6.300000</td>\n",
       "      <td>221.620000</td>\n",
       "    </tr>\n",
       "    <tr>\n",
       "      <th>50%</th>\n",
       "      <td>3.000000</td>\n",
       "      <td>11.000000</td>\n",
       "      <td>97.000000</td>\n",
       "      <td>128.000000</td>\n",
       "      <td>6.000000</td>\n",
       "      <td>4500.000000</td>\n",
       "      <td>58.000000</td>\n",
       "      <td>16.000000</td>\n",
       "      <td>6.510000</td>\n",
       "      <td>389.180000</td>\n",
       "    </tr>\n",
       "    <tr>\n",
       "      <th>75%</th>\n",
       "      <td>4.000000</td>\n",
       "      <td>13.000000</td>\n",
       "      <td>142.000000</td>\n",
       "      <td>256.000000</td>\n",
       "      <td>8.000000</td>\n",
       "      <td>5000.000000</td>\n",
       "      <td>113.000000</td>\n",
       "      <td>20.000000</td>\n",
       "      <td>6.670000</td>\n",
       "      <td>527.020000</td>\n",
       "    </tr>\n",
       "    <tr>\n",
       "      <th>max</th>\n",
       "      <td>4.000000</td>\n",
       "      <td>15.000000</td>\n",
       "      <td>178.000000</td>\n",
       "      <td>2048.000000</td>\n",
       "      <td>768.000000</td>\n",
       "      <td>10758.000000</td>\n",
       "      <td>1246.000000</td>\n",
       "      <td>44.000000</td>\n",
       "      <td>12.900000</td>\n",
       "      <td>2864.860000</td>\n",
       "    </tr>\n",
       "  </tbody>\n",
       "</table>\n",
       "</div>"
      ],
      "text/plain": [
       "         brand_num  process_brand_num  processor_num  internal_storage  \\\n",
       "count  1235.000000        1235.000000    1235.000000       1235.000000   \n",
       "mean      2.641296           8.045344      93.679352        153.460729   \n",
       "std       1.312604           5.606163      55.883293        143.326097   \n",
       "min       0.000000           0.000000       0.000000          0.000000   \n",
       "25%       2.000000           2.000000      43.000000         64.000000   \n",
       "50%       3.000000          11.000000      97.000000        128.000000   \n",
       "75%       4.000000          13.000000     142.000000        256.000000   \n",
       "max       4.000000          15.000000     178.000000       2048.000000   \n",
       "\n",
       "               ram  battery_capacity_mAh  rar_camera_total_mp  \\\n",
       "count  1235.000000           1235.000000          1235.000000   \n",
       "mean     10.815385           4352.867206           205.753036   \n",
       "std      48.748311           1235.733014           388.364179   \n",
       "min       1.000000              0.000000             5.000000   \n",
       "25%       4.000000           3800.000000            18.000000   \n",
       "50%       6.000000           4500.000000            58.000000   \n",
       "75%       8.000000           5000.000000           113.000000   \n",
       "max     768.000000          10758.000000          1246.000000   \n",
       "\n",
       "       front_camera_mp  disp_size_inch        price  \n",
       "count      1235.000000     1235.000000  1235.000000  \n",
       "mean         15.027530        6.436081   480.569393  \n",
       "std           9.275063        1.002232   388.534328  \n",
       "min           0.000000        3.500000     2.160000  \n",
       "25%           8.000000        6.300000   221.620000  \n",
       "50%          16.000000        6.510000   389.180000  \n",
       "75%          20.000000        6.670000   527.020000  \n",
       "max          44.000000       12.900000  2864.860000  "
      ]
     },
     "execution_count": 68,
     "metadata": {},
     "output_type": "execute_result"
    }
   ],
   "source": [
    "df_num.describe()"
   ]
  },
  {
   "cell_type": "markdown",
   "id": "07079aaf-57be-4ea7-9082-96912d3da3de",
   "metadata": {},
   "source": [
    "#### Korrelation checken"
   ]
  },
  {
   "cell_type": "code",
   "execution_count": 69,
   "id": "b9fa83ee-aef3-4c48-8606-2da141e83047",
   "metadata": {},
   "outputs": [
    {
     "data": {
      "text/html": [
       "<div>\n",
       "<style scoped>\n",
       "    .dataframe tbody tr th:only-of-type {\n",
       "        vertical-align: middle;\n",
       "    }\n",
       "\n",
       "    .dataframe tbody tr th {\n",
       "        vertical-align: top;\n",
       "    }\n",
       "\n",
       "    .dataframe thead th {\n",
       "        text-align: right;\n",
       "    }\n",
       "</style>\n",
       "<table border=\"1\" class=\"dataframe\">\n",
       "  <thead>\n",
       "    <tr style=\"text-align: right;\">\n",
       "      <th></th>\n",
       "      <th>price</th>\n",
       "    </tr>\n",
       "  </thead>\n",
       "  <tbody>\n",
       "    <tr>\n",
       "      <th>brand_num</th>\n",
       "      <td>-0.350110</td>\n",
       "    </tr>\n",
       "    <tr>\n",
       "      <th>process_brand_num</th>\n",
       "      <td>-0.196642</td>\n",
       "    </tr>\n",
       "    <tr>\n",
       "      <th>processor_num</th>\n",
       "      <td>-0.096083</td>\n",
       "    </tr>\n",
       "    <tr>\n",
       "      <th>internal_storage</th>\n",
       "      <td>0.583301</td>\n",
       "    </tr>\n",
       "    <tr>\n",
       "      <th>ram</th>\n",
       "      <td>0.012597</td>\n",
       "    </tr>\n",
       "    <tr>\n",
       "      <th>battery_capacity_mAh</th>\n",
       "      <td>-0.050066</td>\n",
       "    </tr>\n",
       "    <tr>\n",
       "      <th>rar_camera_total_mp</th>\n",
       "      <td>-0.130896</td>\n",
       "    </tr>\n",
       "    <tr>\n",
       "      <th>front_camera_mp</th>\n",
       "      <td>0.157984</td>\n",
       "    </tr>\n",
       "    <tr>\n",
       "      <th>disp_size_inch</th>\n",
       "      <td>0.276362</td>\n",
       "    </tr>\n",
       "    <tr>\n",
       "      <th>price</th>\n",
       "      <td>1.000000</td>\n",
       "    </tr>\n",
       "  </tbody>\n",
       "</table>\n",
       "</div>"
      ],
      "text/plain": [
       "                         price\n",
       "brand_num            -0.350110\n",
       "process_brand_num    -0.196642\n",
       "processor_num        -0.096083\n",
       "internal_storage      0.583301\n",
       "ram                   0.012597\n",
       "battery_capacity_mAh -0.050066\n",
       "rar_camera_total_mp  -0.130896\n",
       "front_camera_mp       0.157984\n",
       "disp_size_inch        0.276362\n",
       "price                 1.000000"
      ]
     },
     "execution_count": 69,
     "metadata": {},
     "output_type": "execute_result"
    }
   ],
   "source": [
    "df_num.corr()[['price']]"
   ]
  },
  {
   "cell_type": "markdown",
   "id": "abad73b5-bba9-45a9-9274-7f56843b0e8d",
   "metadata": {},
   "source": [
    "### Visual Überprüfung"
   ]
  },
  {
   "cell_type": "code",
   "execution_count": 70,
   "id": "1f7f1a8d-8c34-4ebd-8227-dde28214192e",
   "metadata": {},
   "outputs": [],
   "source": [
    "import matplotlib.pyplot as plt \n",
    "import seaborn as sns"
   ]
  },
  {
   "cell_type": "code",
   "execution_count": 71,
   "id": "c9fd42fa-d01b-4952-ac48-603456663376",
   "metadata": {},
   "outputs": [
    {
     "data": {
      "image/png": "[encoded data removed]",
      "text/plain": [
       "<Figure size 800x600 with 1 Axes>"
      ]
     },
     "metadata": {},
     "output_type": "display_data"
    }
   ],
   "source": [
    "plt.figure(figsize=(8, 6))\n",
    "sns.regplot(x='internal_storage', y='price', data = df_num)\n",
    "plt.show()"
   ]
  },
  {
   "cell_type": "code",
   "execution_count": 72,
   "id": "3c984027-cea5-42d3-ba38-5bb3bcb03044",
   "metadata": {},
   "outputs": [],
   "source": [
    "# p-value"
   ]
  },
  {
   "cell_type": "code",
   "execution_count": 73,
   "id": "77138524-484d-4f70-9354-a3c82b0db1f5",
   "metadata": {},
   "outputs": [
    {
     "name": "stdout",
     "output_type": "stream",
     "text": [
      "Pearson-Korrelationskoeffizient: 0.5833013995817282\n",
      "p-Wert: 1.7419821108945546e-113\n"
     ]
    }
   ],
   "source": [
    "from scipy.stats import pearsonr\n",
    "\n",
    "# Berechnung den Pearson-Korrelationskoeffizienten und den p-Wert\n",
    "corr, p_value = pearsonr(df_num['internal_storage'], df_num['price'])\n",
    "\n",
    "print(\"Pearson-Korrelationskoeffizient:\", corr)\n",
    "print(\"p-Wert:\", p_value)\n"
   ]
  },
  {
   "cell_type": "markdown",
   "id": "bcc3c438-acb0-47dd-9fda-bc8735d81006",
   "metadata": {},
   "source": [
    "p-wert ist sehr klein (< 0,05) was darauf hindeutet dass die Korrelation zwischen internal_storage und price nicht durch zufall sondern statistisch signifikant ist"
   ]
  },
  {
   "cell_type": "code",
   "execution_count": 74,
   "id": "9fc10740-dd58-459b-b29f-c7da626a6de7",
   "metadata": {},
   "outputs": [
    {
     "data": {
      "image/png": "[encoded data removed]",
      "text/plain": [
       "<Figure size 800x600 with 1 Axes>"
      ]
     },
     "metadata": {},
     "output_type": "display_data"
    }
   ],
   "source": [
    "# Residualplot \n",
    "plt.figure(figsize=(8, 6))\n",
    "sns.residplot(x='internal_storage', y=df['price'], data = df_num)\n",
    "plt.show()"
   ]
  },
  {
   "cell_type": "markdown",
   "id": "f048b653-23a7-44ef-94f7-965513cbc0f7",
   "metadata": {},
   "source": [
    "Anscheinend ein simple Linear Regression kann den Preis des Smartphone anhand  der Internspeicher nicht vorhersagen und nicht lineare Funktion wird eher anpassen. da die rediduals sich nicht um den 0 achse verteilen"
   ]
  },
  {
   "cell_type": "markdown",
   "id": "50b1f28c-ec95-422d-bde0-0c992932938a",
   "metadata": {},
   "source": [
    "## Richtige Model aussuchen und Leistung verleichen"
   ]
  },
  {
   "cell_type": "markdown",
   "id": "bc345cf5-9e1b-4220-8861-c940fa1fc488",
   "metadata": {},
   "source": [
    "### 1. Simple Linear Regression"
   ]
  },
  {
   "cell_type": "code",
   "execution_count": 75,
   "id": "438dd52d-b3d1-4237-b2f9-3689815ef607",
   "metadata": {},
   "outputs": [],
   "source": [
    "from sklearn.linear_model import LinearRegression\n",
    "\n",
    "x1 = df_num[['battery_capacity_mAh']]\n",
    "x2 = df_num[['disp_size_inch']]\n",
    "y = df_num['price']"
   ]
  },
  {
   "cell_type": "code",
   "execution_count": 76,
   "id": "f904d88f-3d1f-47b9-9453-0a61e97e7659",
   "metadata": {},
   "outputs": [
    {
     "data": {
      "text/html": [
       "<style>#sk-container-id-1 {color: black;background-color: white;}#sk-container-id-1 pre{padding: 0;}#sk-container-id-1 div.sk-toggleable {background-color: white;}#sk-container-id-1 label.sk-toggleable__label {cursor: pointer;display: block;width: 100%;margin-bottom: 0;padding: 0.3em;box-sizing: border-box;text-align: center;}#sk-container-id-1 label.sk-toggleable__label-arrow:before {content: \"▸\";float: left;margin-right: 0.25em;color: #696969;}#sk-container-id-1 label.sk-toggleable__label-arrow:hover:before {color: black;}#sk-container-id-1 div.sk-estimator:hover label.sk-toggleable__label-arrow:before {color: black;}#sk-container-id-1 div.sk-toggleable__content {max-height: 0;max-width: 0;overflow: hidden;text-align: left;background-color: #f0f8ff;}#sk-container-id-1 div.sk-toggleable__content pre {margin: 0.2em;color: black;border-radius: 0.25em;background-color: #f0f8ff;}#sk-container-id-1 input.sk-toggleable__control:checked~div.sk-toggleable__content {max-height: 200px;max-width: 100%;overflow: auto;}#sk-container-id-1 input.sk-toggleable__control:checked~label.sk-toggleable__label-arrow:before {content: \"▾\";}#sk-container-id-1 div.sk-estimator input.sk-toggleable__control:checked~label.sk-toggleable__label {background-color: #d4ebff;}#sk-container-id-1 div.sk-label input.sk-toggleable__control:checked~label.sk-toggleable__label {background-color: #d4ebff;}#sk-container-id-1 input.sk-hidden--visually {border: 0;clip: rect(1px 1px 1px 1px);clip: rect(1px, 1px, 1px, 1px);height: 1px;margin: -1px;overflow: hidden;padding: 0;position: absolute;width: 1px;}#sk-container-id-1 div.sk-estimator {font-family: monospace;background-color: #f0f8ff;border: 1px dotted black;border-radius: 0.25em;box-sizing: border-box;margin-bottom: 0.5em;}#sk-container-id-1 div.sk-estimator:hover {background-color: #d4ebff;}#sk-container-id-1 div.sk-parallel-item::after {content: \"\";width: 100%;border-bottom: 1px solid gray;flex-grow: 1;}#sk-container-id-1 div.sk-label:hover label.sk-toggleable__label {background-color: #d4ebff;}#sk-container-id-1 div.sk-serial::before {content: \"\";position: absolute;border-left: 1px solid gray;box-sizing: border-box;top: 0;bottom: 0;left: 50%;z-index: 0;}#sk-container-id-1 div.sk-serial {display: flex;flex-direction: column;align-items: center;background-color: white;padding-right: 0.2em;padding-left: 0.2em;position: relative;}#sk-container-id-1 div.sk-item {position: relative;z-index: 1;}#sk-container-id-1 div.sk-parallel {display: flex;align-items: stretch;justify-content: center;background-color: white;position: relative;}#sk-container-id-1 div.sk-item::before, #sk-container-id-1 div.sk-parallel-item::before {content: \"\";position: absolute;border-left: 1px solid gray;box-sizing: border-box;top: 0;bottom: 0;left: 50%;z-index: -1;}#sk-container-id-1 div.sk-parallel-item {display: flex;flex-direction: column;z-index: 1;position: relative;background-color: white;}#sk-container-id-1 div.sk-parallel-item:first-child::after {align-self: flex-end;width: 50%;}#sk-container-id-1 div.sk-parallel-item:last-child::after {align-self: flex-start;width: 50%;}#sk-container-id-1 div.sk-parallel-item:only-child::after {width: 0;}#sk-container-id-1 div.sk-dashed-wrapped {border: 1px dashed gray;margin: 0 0.4em 0.5em 0.4em;box-sizing: border-box;padding-bottom: 0.4em;background-color: white;}#sk-container-id-1 div.sk-label label {font-family: monospace;font-weight: bold;display: inline-block;line-height: 1.2em;}#sk-container-id-1 div.sk-label-container {text-align: center;}#sk-container-id-1 div.sk-container {/* jupyter's `normalize.less` sets `[hidden] { display: none; }` but bootstrap.min.css set `[hidden] { display: none !important; }` so we also need the `!important` here to be able to override the default hidden behavior on the sphinx rendered scikit-learn.org. See: https://github.com/scikit-learn/scikit-learn/issues/21755 */display: inline-block !important;position: relative;}#sk-container-id-1 div.sk-text-repr-fallback {display: none;}</style><div id=\"sk-container-id-1\" class=\"sk-top-container\"><div class=\"sk-text-repr-fallback\"><pre>LinearRegression()</pre><b>In a Jupyter environment, please rerun this cell to show the HTML representation or trust the notebook. <br />On GitHub, the HTML representation is unable to render, please try loading this page with nbviewer.org.</b></div><div class=\"sk-container\" hidden><div class=\"sk-item\"><div class=\"sk-estimator sk-toggleable\"><input class=\"sk-toggleable__control sk-hidden--visually\" id=\"sk-estimator-id-1\" type=\"checkbox\" checked><label for=\"sk-estimator-id-1\" class=\"sk-toggleable__label sk-toggleable__label-arrow\">LinearRegression</label><div class=\"sk-toggleable__content\"><pre>LinearRegression()</pre></div></div></div></div></div>"
      ],
      "text/plain": [
       "LinearRegression()"
      ]
     },
     "execution_count": 76,
     "metadata": {},
     "output_type": "execute_result"
    }
   ],
   "source": [
    "# Model initialisierung\n",
    "lr1 = LinearRegression()\n",
    "# Model anpassen\n",
    "lr1.fit(x1,y)"
   ]
  },
  {
   "cell_type": "code",
   "execution_count": 77,
   "id": "90990c33-ff52-4a66-b6cb-eea756083619",
   "metadata": {},
   "outputs": [
    {
     "data": {
      "text/plain": [
       "0.0025066345341896445"
      ]
     },
     "execution_count": 77,
     "metadata": {},
     "output_type": "execute_result"
    }
   ],
   "source": [
    "# r-squared-error\n",
    "lr1.score(x1,y)"
   ]
  },
  {
   "cell_type": "code",
   "execution_count": 78,
   "id": "0b1a3b00-b9e9-45ae-9e83-6b079d5ea1b0",
   "metadata": {},
   "outputs": [
    {
     "data": {
      "text/html": [
       "<style>#sk-container-id-2 {color: black;background-color: white;}#sk-container-id-2 pre{padding: 0;}#sk-container-id-2 div.sk-toggleable {background-color: white;}#sk-container-id-2 label.sk-toggleable__label {cursor: pointer;display: block;width: 100%;margin-bottom: 0;padding: 0.3em;box-sizing: border-box;text-align: center;}#sk-container-id-2 label.sk-toggleable__label-arrow:before {content: \"▸\";float: left;margin-right: 0.25em;color: #696969;}#sk-container-id-2 label.sk-toggleable__label-arrow:hover:before {color: black;}#sk-container-id-2 div.sk-estimator:hover label.sk-toggleable__label-arrow:before {color: black;}#sk-container-id-2 div.sk-toggleable__content {max-height: 0;max-width: 0;overflow: hidden;text-align: left;background-color: #f0f8ff;}#sk-container-id-2 div.sk-toggleable__content pre {margin: 0.2em;color: black;border-radius: 0.25em;background-color: #f0f8ff;}#sk-container-id-2 input.sk-toggleable__control:checked~div.sk-toggleable__content {max-height: 200px;max-width: 100%;overflow: auto;}#sk-container-id-2 input.sk-toggleable__control:checked~label.sk-toggleable__label-arrow:before {content: \"▾\";}#sk-container-id-2 div.sk-estimator input.sk-toggleable__control:checked~label.sk-toggleable__label {background-color: #d4ebff;}#sk-container-id-2 div.sk-label input.sk-toggleable__control:checked~label.sk-toggleable__label {background-color: #d4ebff;}#sk-container-id-2 input.sk-hidden--visually {border: 0;clip: rect(1px 1px 1px 1px);clip: rect(1px, 1px, 1px, 1px);height: 1px;margin: -1px;overflow: hidden;padding: 0;position: absolute;width: 1px;}#sk-container-id-2 div.sk-estimator {font-family: monospace;background-color: #f0f8ff;border: 1px dotted black;border-radius: 0.25em;box-sizing: border-box;margin-bottom: 0.5em;}#sk-container-id-2 div.sk-estimator:hover {background-color: #d4ebff;}#sk-container-id-2 div.sk-parallel-item::after {content: \"\";width: 100%;border-bottom: 1px solid gray;flex-grow: 1;}#sk-container-id-2 div.sk-label:hover label.sk-toggleable__label {background-color: #d4ebff;}#sk-container-id-2 div.sk-serial::before {content: \"\";position: absolute;border-left: 1px solid gray;box-sizing: border-box;top: 0;bottom: 0;left: 50%;z-index: 0;}#sk-container-id-2 div.sk-serial {display: flex;flex-direction: column;align-items: center;background-color: white;padding-right: 0.2em;padding-left: 0.2em;position: relative;}#sk-container-id-2 div.sk-item {position: relative;z-index: 1;}#sk-container-id-2 div.sk-parallel {display: flex;align-items: stretch;justify-content: center;background-color: white;position: relative;}#sk-container-id-2 div.sk-item::before, #sk-container-id-2 div.sk-parallel-item::before {content: \"\";position: absolute;border-left: 1px solid gray;box-sizing: border-box;top: 0;bottom: 0;left: 50%;z-index: -1;}#sk-container-id-2 div.sk-parallel-item {display: flex;flex-direction: column;z-index: 1;position: relative;background-color: white;}#sk-container-id-2 div.sk-parallel-item:first-child::after {align-self: flex-end;width: 50%;}#sk-container-id-2 div.sk-parallel-item:last-child::after {align-self: flex-start;width: 50%;}#sk-container-id-2 div.sk-parallel-item:only-child::after {width: 0;}#sk-container-id-2 div.sk-dashed-wrapped {border: 1px dashed gray;margin: 0 0.4em 0.5em 0.4em;box-sizing: border-box;padding-bottom: 0.4em;background-color: white;}#sk-container-id-2 div.sk-label label {font-family: monospace;font-weight: bold;display: inline-block;line-height: 1.2em;}#sk-container-id-2 div.sk-label-container {text-align: center;}#sk-container-id-2 div.sk-container {/* jupyter's `normalize.less` sets `[hidden] { display: none; }` but bootstrap.min.css set `[hidden] { display: none !important; }` so we also need the `!important` here to be able to override the default hidden behavior on the sphinx rendered scikit-learn.org. See: https://github.com/scikit-learn/scikit-learn/issues/21755 */display: inline-block !important;position: relative;}#sk-container-id-2 div.sk-text-repr-fallback {display: none;}</style><div id=\"sk-container-id-2\" class=\"sk-top-container\"><div class=\"sk-text-repr-fallback\"><pre>LinearRegression()</pre><b>In a Jupyter environment, please rerun this cell to show the HTML representation or trust the notebook. <br />On GitHub, the HTML representation is unable to render, please try loading this page with nbviewer.org.</b></div><div class=\"sk-container\" hidden><div class=\"sk-item\"><div class=\"sk-estimator sk-toggleable\"><input class=\"sk-toggleable__control sk-hidden--visually\" id=\"sk-estimator-id-2\" type=\"checkbox\" checked><label for=\"sk-estimator-id-2\" class=\"sk-toggleable__label sk-toggleable__label-arrow\">LinearRegression</label><div class=\"sk-toggleable__content\"><pre>LinearRegression()</pre></div></div></div></div></div>"
      ],
      "text/plain": [
       "LinearRegression()"
      ]
     },
     "execution_count": 78,
     "metadata": {},
     "output_type": "execute_result"
    }
   ],
   "source": [
    "lr2 = LinearRegression()\n",
    "lr2.fit(x2,y)"
   ]
  },
  {
   "cell_type": "code",
   "execution_count": 79,
   "id": "08a3d404-170a-4ccc-9ce6-70a8672fcf6a",
   "metadata": {},
   "outputs": [
    {
     "data": {
      "text/plain": [
       "0.07637619346306601"
      ]
     },
     "execution_count": 79,
     "metadata": {},
     "output_type": "execute_result"
    }
   ],
   "source": [
    "# r-aquared\n",
    "lr2.score(x2,y)"
   ]
  },
  {
   "cell_type": "markdown",
   "id": "5883142f-d511-4dd6-9492-6790f81563d5",
   "metadata": {},
   "source": [
    "### 2. Multiple Linear Regression"
   ]
  },
  {
   "cell_type": "markdown",
   "id": "36fae0c4-6a61-44e8-bc05-fd0732526dc8",
   "metadata": {},
   "source": [
    "##### I. Nehmen wir zwei Eigenschaften Akkukapazität und Bildschirmgröße"
   ]
  },
  {
   "cell_type": "code",
   "execution_count": 80,
   "id": "2acaf3e4-5c43-45ec-9f35-a42666e2f7b0",
   "metadata": {},
   "outputs": [],
   "source": [
    "X = df_num[['battery_capacity_mAh', 'disp_size_inch']]\n",
    "y = df_num['price']"
   ]
  },
  {
   "cell_type": "code",
   "execution_count": 81,
   "id": "f3e5cd81-17c0-4d08-99d0-82b8039dd166",
   "metadata": {},
   "outputs": [
    {
     "data": {
      "text/html": [
       "<style>#sk-container-id-3 {color: black;background-color: white;}#sk-container-id-3 pre{padding: 0;}#sk-container-id-3 div.sk-toggleable {background-color: white;}#sk-container-id-3 label.sk-toggleable__label {cursor: pointer;display: block;width: 100%;margin-bottom: 0;padding: 0.3em;box-sizing: border-box;text-align: center;}#sk-container-id-3 label.sk-toggleable__label-arrow:before {content: \"▸\";float: left;margin-right: 0.25em;color: #696969;}#sk-container-id-3 label.sk-toggleable__label-arrow:hover:before {color: black;}#sk-container-id-3 div.sk-estimator:hover label.sk-toggleable__label-arrow:before {color: black;}#sk-container-id-3 div.sk-toggleable__content {max-height: 0;max-width: 0;overflow: hidden;text-align: left;background-color: #f0f8ff;}#sk-container-id-3 div.sk-toggleable__content pre {margin: 0.2em;color: black;border-radius: 0.25em;background-color: #f0f8ff;}#sk-container-id-3 input.sk-toggleable__control:checked~div.sk-toggleable__content {max-height: 200px;max-width: 100%;overflow: auto;}#sk-container-id-3 input.sk-toggleable__control:checked~label.sk-toggleable__label-arrow:before {content: \"▾\";}#sk-container-id-3 div.sk-estimator input.sk-toggleable__control:checked~label.sk-toggleable__label {background-color: #d4ebff;}#sk-container-id-3 div.sk-label input.sk-toggleable__control:checked~label.sk-toggleable__label {background-color: #d4ebff;}#sk-container-id-3 input.sk-hidden--visually {border: 0;clip: rect(1px 1px 1px 1px);clip: rect(1px, 1px, 1px, 1px);height: 1px;margin: -1px;overflow: hidden;padding: 0;position: absolute;width: 1px;}#sk-container-id-3 div.sk-estimator {font-family: monospace;background-color: #f0f8ff;border: 1px dotted black;border-radius: 0.25em;box-sizing: border-box;margin-bottom: 0.5em;}#sk-container-id-3 div.sk-estimator:hover {background-color: #d4ebff;}#sk-container-id-3 div.sk-parallel-item::after {content: \"\";width: 100%;border-bottom: 1px solid gray;flex-grow: 1;}#sk-container-id-3 div.sk-label:hover label.sk-toggleable__label {background-color: #d4ebff;}#sk-container-id-3 div.sk-serial::before {content: \"\";position: absolute;border-left: 1px solid gray;box-sizing: border-box;top: 0;bottom: 0;left: 50%;z-index: 0;}#sk-container-id-3 div.sk-serial {display: flex;flex-direction: column;align-items: center;background-color: white;padding-right: 0.2em;padding-left: 0.2em;position: relative;}#sk-container-id-3 div.sk-item {position: relative;z-index: 1;}#sk-container-id-3 div.sk-parallel {display: flex;align-items: stretch;justify-content: center;background-color: white;position: relative;}#sk-container-id-3 div.sk-item::before, #sk-container-id-3 div.sk-parallel-item::before {content: \"\";position: absolute;border-left: 1px solid gray;box-sizing: border-box;top: 0;bottom: 0;left: 50%;z-index: -1;}#sk-container-id-3 div.sk-parallel-item {display: flex;flex-direction: column;z-index: 1;position: relative;background-color: white;}#sk-container-id-3 div.sk-parallel-item:first-child::after {align-self: flex-end;width: 50%;}#sk-container-id-3 div.sk-parallel-item:last-child::after {align-self: flex-start;width: 50%;}#sk-container-id-3 div.sk-parallel-item:only-child::after {width: 0;}#sk-container-id-3 div.sk-dashed-wrapped {border: 1px dashed gray;margin: 0 0.4em 0.5em 0.4em;box-sizing: border-box;padding-bottom: 0.4em;background-color: white;}#sk-container-id-3 div.sk-label label {font-family: monospace;font-weight: bold;display: inline-block;line-height: 1.2em;}#sk-container-id-3 div.sk-label-container {text-align: center;}#sk-container-id-3 div.sk-container {/* jupyter's `normalize.less` sets `[hidden] { display: none; }` but bootstrap.min.css set `[hidden] { display: none !important; }` so we also need the `!important` here to be able to override the default hidden behavior on the sphinx rendered scikit-learn.org. See: https://github.com/scikit-learn/scikit-learn/issues/21755 */display: inline-block !important;position: relative;}#sk-container-id-3 div.sk-text-repr-fallback {display: none;}</style><div id=\"sk-container-id-3\" class=\"sk-top-container\"><div class=\"sk-text-repr-fallback\"><pre>LinearRegression()</pre><b>In a Jupyter environment, please rerun this cell to show the HTML representation or trust the notebook. <br />On GitHub, the HTML representation is unable to render, please try loading this page with nbviewer.org.</b></div><div class=\"sk-container\" hidden><div class=\"sk-item\"><div class=\"sk-estimator sk-toggleable\"><input class=\"sk-toggleable__control sk-hidden--visually\" id=\"sk-estimator-id-3\" type=\"checkbox\" checked><label for=\"sk-estimator-id-3\" class=\"sk-toggleable__label sk-toggleable__label-arrow\">LinearRegression</label><div class=\"sk-toggleable__content\"><pre>LinearRegression()</pre></div></div></div></div></div>"
      ],
      "text/plain": [
       "LinearRegression()"
      ]
     },
     "execution_count": 81,
     "metadata": {},
     "output_type": "execute_result"
    }
   ],
   "source": [
    "lr_mult_2 = LinearRegression()\n",
    "lr_mult_2.fit(X,y)"
   ]
  },
  {
   "cell_type": "code",
   "execution_count": 82,
   "id": "6535918b-760f-4d31-91d1-8b7ce97b5705",
   "metadata": {},
   "outputs": [
    {
     "data": {
      "text/plain": [
       "0.21013781746140314"
      ]
     },
     "execution_count": 82,
     "metadata": {},
     "output_type": "execute_result"
    }
   ],
   "source": [
    "# r-squared\n",
    "lr_mult_2.score(X,y)"
   ]
  },
  {
   "cell_type": "markdown",
   "id": "539360f3-aa6a-4637-b83f-28257923a4d5",
   "metadata": {},
   "source": [
    "Auch wenn wir das Modell auf alle verfügbaren Daten trainiert haben, scheint es immer noch nicht besonders gut zu funktionieren."
   ]
  },
  {
   "cell_type": "markdown",
   "id": "6f858e67-28fe-4ee3-9f81-5de861b3ec77",
   "metadata": {},
   "source": [
    "##### II. Nun betrachten wir alle unabhängige Variable"
   ]
  },
  {
   "cell_type": "code",
   "execution_count": 83,
   "id": "d25b35d9-d6d2-4f86-94f9-29370f894c23",
   "metadata": {},
   "outputs": [],
   "source": [
    "X = df_num.drop('price', axis =1)\n",
    "y = df_num['price']"
   ]
  },
  {
   "cell_type": "code",
   "execution_count": 84,
   "id": "38d7636b-48c6-458c-b595-627c0e6c5ed2",
   "metadata": {},
   "outputs": [],
   "source": [
    "X_train, X_test, y_train, y_test = train_test_split(X, y)"
   ]
  },
  {
   "cell_type": "code",
   "execution_count": 85,
   "id": "b64ac8d5-ad51-44da-afb2-b755e991b789",
   "metadata": {},
   "outputs": [
    {
     "data": {
      "text/html": [
       "<style>#sk-container-id-4 {color: black;background-color: white;}#sk-container-id-4 pre{padding: 0;}#sk-container-id-4 div.sk-toggleable {background-color: white;}#sk-container-id-4 label.sk-toggleable__label {cursor: pointer;display: block;width: 100%;margin-bottom: 0;padding: 0.3em;box-sizing: border-box;text-align: center;}#sk-container-id-4 label.sk-toggleable__label-arrow:before {content: \"▸\";float: left;margin-right: 0.25em;color: #696969;}#sk-container-id-4 label.sk-toggleable__label-arrow:hover:before {color: black;}#sk-container-id-4 div.sk-estimator:hover label.sk-toggleable__label-arrow:before {color: black;}#sk-container-id-4 div.sk-toggleable__content {max-height: 0;max-width: 0;overflow: hidden;text-align: left;background-color: #f0f8ff;}#sk-container-id-4 div.sk-toggleable__content pre {margin: 0.2em;color: black;border-radius: 0.25em;background-color: #f0f8ff;}#sk-container-id-4 input.sk-toggleable__control:checked~div.sk-toggleable__content {max-height: 200px;max-width: 100%;overflow: auto;}#sk-container-id-4 input.sk-toggleable__control:checked~label.sk-toggleable__label-arrow:before {content: \"▾\";}#sk-container-id-4 div.sk-estimator input.sk-toggleable__control:checked~label.sk-toggleable__label {background-color: #d4ebff;}#sk-container-id-4 div.sk-label input.sk-toggleable__control:checked~label.sk-toggleable__label {background-color: #d4ebff;}#sk-container-id-4 input.sk-hidden--visually {border: 0;clip: rect(1px 1px 1px 1px);clip: rect(1px, 1px, 1px, 1px);height: 1px;margin: -1px;overflow: hidden;padding: 0;position: absolute;width: 1px;}#sk-container-id-4 div.sk-estimator {font-family: monospace;background-color: #f0f8ff;border: 1px dotted black;border-radius: 0.25em;box-sizing: border-box;margin-bottom: 0.5em;}#sk-container-id-4 div.sk-estimator:hover {background-color: #d4ebff;}#sk-container-id-4 div.sk-parallel-item::after {content: \"\";width: 100%;border-bottom: 1px solid gray;flex-grow: 1;}#sk-container-id-4 div.sk-label:hover label.sk-toggleable__label {background-color: #d4ebff;}#sk-container-id-4 div.sk-serial::before {content: \"\";position: absolute;border-left: 1px solid gray;box-sizing: border-box;top: 0;bottom: 0;left: 50%;z-index: 0;}#sk-container-id-4 div.sk-serial {display: flex;flex-direction: column;align-items: center;background-color: white;padding-right: 0.2em;padding-left: 0.2em;position: relative;}#sk-container-id-4 div.sk-item {position: relative;z-index: 1;}#sk-container-id-4 div.sk-parallel {display: flex;align-items: stretch;justify-content: center;background-color: white;position: relative;}#sk-container-id-4 div.sk-item::before, #sk-container-id-4 div.sk-parallel-item::before {content: \"\";position: absolute;border-left: 1px solid gray;box-sizing: border-box;top: 0;bottom: 0;left: 50%;z-index: -1;}#sk-container-id-4 div.sk-parallel-item {display: flex;flex-direction: column;z-index: 1;position: relative;background-color: white;}#sk-container-id-4 div.sk-parallel-item:first-child::after {align-self: flex-end;width: 50%;}#sk-container-id-4 div.sk-parallel-item:last-child::after {align-self: flex-start;width: 50%;}#sk-container-id-4 div.sk-parallel-item:only-child::after {width: 0;}#sk-container-id-4 div.sk-dashed-wrapped {border: 1px dashed gray;margin: 0 0.4em 0.5em 0.4em;box-sizing: border-box;padding-bottom: 0.4em;background-color: white;}#sk-container-id-4 div.sk-label label {font-family: monospace;font-weight: bold;display: inline-block;line-height: 1.2em;}#sk-container-id-4 div.sk-label-container {text-align: center;}#sk-container-id-4 div.sk-container {/* jupyter's `normalize.less` sets `[hidden] { display: none; }` but bootstrap.min.css set `[hidden] { display: none !important; }` so we also need the `!important` here to be able to override the default hidden behavior on the sphinx rendered scikit-learn.org. See: https://github.com/scikit-learn/scikit-learn/issues/21755 */display: inline-block !important;position: relative;}#sk-container-id-4 div.sk-text-repr-fallback {display: none;}</style><div id=\"sk-container-id-4\" class=\"sk-top-container\"><div class=\"sk-text-repr-fallback\"><pre>LinearRegression()</pre><b>In a Jupyter environment, please rerun this cell to show the HTML representation or trust the notebook. <br />On GitHub, the HTML representation is unable to render, please try loading this page with nbviewer.org.</b></div><div class=\"sk-container\" hidden><div class=\"sk-item\"><div class=\"sk-estimator sk-toggleable\"><input class=\"sk-toggleable__control sk-hidden--visually\" id=\"sk-estimator-id-4\" type=\"checkbox\" checked><label for=\"sk-estimator-id-4\" class=\"sk-toggleable__label sk-toggleable__label-arrow\">LinearRegression</label><div class=\"sk-toggleable__content\"><pre>LinearRegression()</pre></div></div></div></div></div>"
      ],
      "text/plain": [
       "LinearRegression()"
      ]
     },
     "execution_count": 85,
     "metadata": {},
     "output_type": "execute_result"
    }
   ],
   "source": [
    "mlr = LinearRegression()\n",
    "mlr.fit(X_train, y_train)"
   ]
  },
  {
   "cell_type": "code",
   "execution_count": 86,
   "id": "a6da6a9f-9d6e-45fb-9ee4-5afe5ce0333f",
   "metadata": {},
   "outputs": [
    {
     "data": {
      "text/plain": [
       "0.4655227466055807"
      ]
     },
     "execution_count": 86,
     "metadata": {},
     "output_type": "execute_result"
    }
   ],
   "source": [
    "# r-squared\n",
    "mlr.score(X_test, y_test)"
   ]
  },
  {
   "cell_type": "markdown",
   "id": "027317c1-99d2-4857-9137-7385b37fadaa",
   "metadata": {},
   "source": [
    "Das Modell erklärt einen geringen Teil der Variabilität der Daten. Eher mäßig."
   ]
  },
  {
   "cell_type": "markdown",
   "id": "d1803bf5-48a9-4633-9752-9f850113489e",
   "metadata": {},
   "source": [
    "#### Visual Überprüfung"
   ]
  },
  {
   "cell_type": "markdown",
   "id": "13054a38-563e-4260-ba94-3b9300184064",
   "metadata": {},
   "source": [
    "<div style=\"background-color :#FFFF00\">\n",
    "Die Wahrscheinlichkeitsdichtefunktion (PDF) gibt die Wahrscheinlichkeitsdichte an, dass eine Zufallsvariable einen bestimmten Wert annimmt.\n",
    "\n",
    "$$ \\hat{f}(y) = \\frac{1}{nh} \\sum_{i=1}^{n} K\\left(\\frac{y - y_i}{h}\\right)$$\n",
    "\n",
    "- $\\hat{f}(y)$: ist die geschätzte Dichtefunktion bei $y$\n",
    "- $n$: ist die Anzahl der $y$-values\n",
    "- $h$: ist die Bandbreite (bandwidth), die die Breite der Gaußschen Kerne bestimmt. in kde-plot von seaborn ist 'bw_adjust' nimmt 1 als Default Value\n",
    "- $y_i$: sind die Werte von $y$. in unserem Fall die Preise\n",
    "- $K(u) = \\frac{1}{\\sqrt{2\\pi}} e^{-\\frac{1}{2}u^2}$: ist die Kernfunktion\n",
    "</div>"
   ]
  },
  {
   "cell_type": "code",
   "execution_count": 87,
   "id": "3c796593-c531-4661-82a0-b5ad4bc24f6d",
   "metadata": {},
   "outputs": [],
   "source": [
    "y_test_pred = mlr.predict(X_test)\n",
    "#y_pred[0:5]"
   ]
  },
  {
   "cell_type": "code",
   "execution_count": 88,
   "id": "cb120ce4-09a4-4544-bde7-48c0b18c49be",
   "metadata": {},
   "outputs": [],
   "source": [
    "import warnings\n",
    "# Deaktiviere die FutureWarnings\n",
    "warnings.simplefilter(action='ignore', category=FutureWarning)"
   ]
  },
  {
   "cell_type": "markdown",
   "id": "33e43e95-84d4-4bcb-a905-001cad2d3d4a",
   "metadata": {},
   "source": [
    "Dichte der tatsächlichen und vorhergesagten Preise vergleichen:"
   ]
  },
  {
   "cell_type": "code",
   "execution_count": 89,
   "id": "61df1533-b15f-46e0-8c23-d65b32e5b0ca",
   "metadata": {},
   "outputs": [
    {
     "data": {
      "text/plain": [
       "[]"
      ]
     },
     "execution_count": 89,
     "metadata": {},
     "output_type": "execute_result"
    },
    {
     "data": {
      "image/png": "[encoded data removed]",
      "text/plain": [
       "<Figure size 800x600 with 1 Axes>"
      ]
     },
     "metadata": {},
     "output_type": "display_data"
    }
   ],
   "source": [
    "plt.figure(figsize=(8,6))\n",
    "sns.kdeplot(y_test, color ='r', label ='Tatsächlicher Preis')\n",
    "sns.kdeplot(y_test_pred, color ='b', label ='Vorhergesagter Preis')\n",
    "plt.title(\"Vergleich der Dichte der tatsächlichen Preis und vorhergesagten Preis mithilfe von Multiple Linear Regression\")\n",
    "plt.legend()\n",
    "plt.plot()"
   ]
  },
  {
   "cell_type": "markdown",
   "id": "340832e2-ca95-423a-8e98-36fabe0df3da",
   "metadata": {},
   "source": [
    "Wir können erkennen, dass die angepassten Werte langsam näher an die tatsächlichen Werte herankommen, Wenn wir alle unabhängige Variable in Betracht genommen haben. Aber da ist auf jeden Fall noch Platz für Verbesserungen."
   ]
  },
  {
   "cell_type": "markdown",
   "id": "64971e32-8dcd-4e00-8c4d-40a07cafd752",
   "metadata": {},
   "source": [
    "### 3. Polynomial Regression"
   ]
  },
  {
   "cell_type": "code",
   "execution_count": 90,
   "id": "68abc5fe-948d-4768-b8e6-a072a16b1fa9",
   "metadata": {},
   "outputs": [],
   "source": [
    "from sklearn.model_selection import train_test_split"
   ]
  },
  {
   "cell_type": "code",
   "execution_count": 91,
   "id": "dc08e3bd-abf0-437b-b26b-5b065f62de63",
   "metadata": {},
   "outputs": [],
   "source": [
    "from sklearn.preprocessing import PolynomialFeatures"
   ]
  },
  {
   "cell_type": "code",
   "execution_count": 92,
   "id": "c28cfb87-0447-4bf4-98f3-fa2cb0212eb0",
   "metadata": {},
   "outputs": [],
   "source": [
    "X_train, X_test, y_train, y_test = train_test_split(X, y)"
   ]
  },
  {
   "cell_type": "code",
   "execution_count": 93,
   "id": "a2c4f417-1ca7-4914-ada0-4922c2b53b87",
   "metadata": {},
   "outputs": [],
   "source": [
    "pr = PolynomialFeatures(degree=1)\n",
    "X_train_pr = pr.fit_transform(X_train)\n",
    "X_test_pr = pr.transform(X_test)\n",
    "    \n",
    "# Polynomregression durchführen\n",
    "coefficients, _, _, _ = np.linalg.lstsq(X_train_pr, y_train, rcond=None)\n",
    "    \n",
    "# Vorhersagen machen\n",
    "y_test_pred = np.dot(X_test_pr, coefficients)"
   ]
  },
  {
   "cell_type": "code",
   "execution_count": 94,
   "id": "e38887ea-531b-4c89-aa8c-417e423beda3",
   "metadata": {},
   "outputs": [
    {
     "data": {
      "text/plain": [
       "0.5442166313088082"
      ]
     },
     "execution_count": 94,
     "metadata": {},
     "output_type": "execute_result"
    }
   ],
   "source": [
    "from sklearn.metrics import r2_score\n",
    "r2 = r2_score(y_test, y_test_pred)\n",
    "r2"
   ]
  },
  {
   "cell_type": "markdown",
   "id": "1bd2da5e-ab54-4230-b9ee-bd7a53e2f8cf",
   "metadata": {},
   "source": [
    "#### Visual überprüfen"
   ]
  },
  {
   "cell_type": "code",
   "execution_count": 95,
   "id": "5f101395-4834-45ce-acf4-2603201954ae",
   "metadata": {},
   "outputs": [
    {
     "data": {
      "text/plain": [
       "[]"
      ]
     },
     "execution_count": 95,
     "metadata": {},
     "output_type": "execute_result"
    },
    {
     "data": {
      "image/png": "[encoded data removed]",
      "text/plain": [
       "<Figure size 800x600 with 1 Axes>"
      ]
     },
     "metadata": {},
     "output_type": "display_data"
    }
   ],
   "source": [
    "plt.figure(figsize=(8,6))\n",
    "sns.kdeplot(y_test, color ='r', label ='Tatsächlicher Preis')\n",
    "sns.kdeplot(y_test_pred, color ='b', label ='Vorhergesagter Preis')\n",
    "plt.title(\"Vergleich der Dichte der tatsächlichen Preis und vorhergesagten Preis mithilfe von Polynomial Regression\")\n",
    "plt.legend()\n",
    "plt.plot()"
   ]
  },
  {
   "cell_type": "markdown",
   "id": "3c4d5f6c-16bb-46f0-bbbe-ddfc1755989c",
   "metadata": {},
   "source": [
    "Der beste Grad für die Polynomregression ist 1. Polynomialregression Graden scheint ausreichend zu unseren Daten zu passen."
   ]
  },
  {
   "cell_type": "markdown",
   "id": "eadb320e-1dea-45f1-93d9-aee112002468",
   "metadata": {},
   "source": [
    "### 4. XGboost Regressor"
   ]
  },
  {
   "cell_type": "code",
   "execution_count": 96,
   "id": "b2907602-21a2-4186-84f0-9182f70ce5d4",
   "metadata": {},
   "outputs": [],
   "source": [
    "X = df_num.drop('price', axis =1)\n",
    "y = df_num['price']"
   ]
  },
  {
   "cell_type": "code",
   "execution_count": 97,
   "id": "e32937b2-d77c-4c21-bff8-88abd3aafa93",
   "metadata": {},
   "outputs": [],
   "source": [
    "from sklearn.model_selection import train_test_split\n",
    "X_train, X_test, y_train, y_test = train_test_split(X, y, test_size=0.2)"
   ]
  },
  {
   "cell_type": "code",
   "execution_count": 98,
   "id": "053ba42d-e8f2-4257-bef5-801badd0d32f",
   "metadata": {},
   "outputs": [
    {
     "data": {
      "text/html": [
       "<style>#sk-container-id-5 {color: black;background-color: white;}#sk-container-id-5 pre{padding: 0;}#sk-container-id-5 div.sk-toggleable {background-color: white;}#sk-container-id-5 label.sk-toggleable__label {cursor: pointer;display: block;width: 100%;margin-bottom: 0;padding: 0.3em;box-sizing: border-box;text-align: center;}#sk-container-id-5 label.sk-toggleable__label-arrow:before {content: \"▸\";float: left;margin-right: 0.25em;color: #696969;}#sk-container-id-5 label.sk-toggleable__label-arrow:hover:before {color: black;}#sk-container-id-5 div.sk-estimator:hover label.sk-toggleable__label-arrow:before {color: black;}#sk-container-id-5 div.sk-toggleable__content {max-height: 0;max-width: 0;overflow: hidden;text-align: left;background-color: #f0f8ff;}#sk-container-id-5 div.sk-toggleable__content pre {margin: 0.2em;color: black;border-radius: 0.25em;background-color: #f0f8ff;}#sk-container-id-5 input.sk-toggleable__control:checked~div.sk-toggleable__content {max-height: 200px;max-width: 100%;overflow: auto;}#sk-container-id-5 input.sk-toggleable__control:checked~label.sk-toggleable__label-arrow:before {content: \"▾\";}#sk-container-id-5 div.sk-estimator input.sk-toggleable__control:checked~label.sk-toggleable__label {background-color: #d4ebff;}#sk-container-id-5 div.sk-label input.sk-toggleable__control:checked~label.sk-toggleable__label {background-color: #d4ebff;}#sk-container-id-5 input.sk-hidden--visually {border: 0;clip: rect(1px 1px 1px 1px);clip: rect(1px, 1px, 1px, 1px);height: 1px;margin: -1px;overflow: hidden;padding: 0;position: absolute;width: 1px;}#sk-container-id-5 div.sk-estimator {font-family: monospace;background-color: #f0f8ff;border: 1px dotted black;border-radius: 0.25em;box-sizing: border-box;margin-bottom: 0.5em;}#sk-container-id-5 div.sk-estimator:hover {background-color: #d4ebff;}#sk-container-id-5 div.sk-parallel-item::after {content: \"\";width: 100%;border-bottom: 1px solid gray;flex-grow: 1;}#sk-container-id-5 div.sk-label:hover label.sk-toggleable__label {background-color: #d4ebff;}#sk-container-id-5 div.sk-serial::before {content: \"\";position: absolute;border-left: 1px solid gray;box-sizing: border-box;top: 0;bottom: 0;left: 50%;z-index: 0;}#sk-container-id-5 div.sk-serial {display: flex;flex-direction: column;align-items: center;background-color: white;padding-right: 0.2em;padding-left: 0.2em;position: relative;}#sk-container-id-5 div.sk-item {position: relative;z-index: 1;}#sk-container-id-5 div.sk-parallel {display: flex;align-items: stretch;justify-content: center;background-color: white;position: relative;}#sk-container-id-5 div.sk-item::before, #sk-container-id-5 div.sk-parallel-item::before {content: \"\";position: absolute;border-left: 1px solid gray;box-sizing: border-box;top: 0;bottom: 0;left: 50%;z-index: -1;}#sk-container-id-5 div.sk-parallel-item {display: flex;flex-direction: column;z-index: 1;position: relative;background-color: white;}#sk-container-id-5 div.sk-parallel-item:first-child::after {align-self: flex-end;width: 50%;}#sk-container-id-5 div.sk-parallel-item:last-child::after {align-self: flex-start;width: 50%;}#sk-container-id-5 div.sk-parallel-item:only-child::after {width: 0;}#sk-container-id-5 div.sk-dashed-wrapped {border: 1px dashed gray;margin: 0 0.4em 0.5em 0.4em;box-sizing: border-box;padding-bottom: 0.4em;background-color: white;}#sk-container-id-5 div.sk-label label {font-family: monospace;font-weight: bold;display: inline-block;line-height: 1.2em;}#sk-container-id-5 div.sk-label-container {text-align: center;}#sk-container-id-5 div.sk-container {/* jupyter's `normalize.less` sets `[hidden] { display: none; }` but bootstrap.min.css set `[hidden] { display: none !important; }` so we also need the `!important` here to be able to override the default hidden behavior on the sphinx rendered scikit-learn.org. See: https://github.com/scikit-learn/scikit-learn/issues/21755 */display: inline-block !important;position: relative;}#sk-container-id-5 div.sk-text-repr-fallback {display: none;}</style><div id=\"sk-container-id-5\" class=\"sk-top-container\"><div class=\"sk-text-repr-fallback\"><pre>XGBRegressor(base_score=None, booster=None, callbacks=None,\n",
       "             colsample_bylevel=None, colsample_bynode=None,\n",
       "             colsample_bytree=None, device=None, early_stopping_rounds=None,\n",
       "             enable_categorical=False, eval_metric=None, feature_types=None,\n",
       "             gamma=None, grow_policy=None, importance_type=None,\n",
       "             interaction_constraints=None, learning_rate=None, max_bin=None,\n",
       "             max_cat_threshold=None, max_cat_to_onehot=None,\n",
       "             max_delta_step=None, max_depth=3, max_leaves=None,\n",
       "             min_child_weight=None, missing=nan, monotone_constraints=None,\n",
       "             multi_strategy=None, n_estimators=600, n_jobs=None,\n",
       "             num_parallel_tree=None, random_state=None, ...)</pre><b>In a Jupyter environment, please rerun this cell to show the HTML representation or trust the notebook. <br />On GitHub, the HTML representation is unable to render, please try loading this page with nbviewer.org.</b></div><div class=\"sk-container\" hidden><div class=\"sk-item\"><div class=\"sk-estimator sk-toggleable\"><input class=\"sk-toggleable__control sk-hidden--visually\" id=\"sk-estimator-id-5\" type=\"checkbox\" checked><label for=\"sk-estimator-id-5\" class=\"sk-toggleable__label sk-toggleable__label-arrow\">XGBRegressor</label><div class=\"sk-toggleable__content\"><pre>XGBRegressor(base_score=None, booster=None, callbacks=None,\n",
       "             colsample_bylevel=None, colsample_bynode=None,\n",
       "             colsample_bytree=None, device=None, early_stopping_rounds=None,\n",
       "             enable_categorical=False, eval_metric=None, feature_types=None,\n",
       "             gamma=None, grow_policy=None, importance_type=None,\n",
       "             interaction_constraints=None, learning_rate=None, max_bin=None,\n",
       "             max_cat_threshold=None, max_cat_to_onehot=None,\n",
       "             max_delta_step=None, max_depth=3, max_leaves=None,\n",
       "             min_child_weight=None, missing=nan, monotone_constraints=None,\n",
       "             multi_strategy=None, n_estimators=600, n_jobs=None,\n",
       "             num_parallel_tree=None, random_state=None, ...)</pre></div></div></div></div></div>"
      ],
      "text/plain": [
       "XGBRegressor(base_score=None, booster=None, callbacks=None,\n",
       "             colsample_bylevel=None, colsample_bynode=None,\n",
       "             colsample_bytree=None, device=None, early_stopping_rounds=None,\n",
       "             enable_categorical=False, eval_metric=None, feature_types=None,\n",
       "             gamma=None, grow_policy=None, importance_type=None,\n",
       "             interaction_constraints=None, learning_rate=None, max_bin=None,\n",
       "             max_cat_threshold=None, max_cat_to_onehot=None,\n",
       "             max_delta_step=None, max_depth=3, max_leaves=None,\n",
       "             min_child_weight=None, missing=nan, monotone_constraints=None,\n",
       "             multi_strategy=None, n_estimators=600, n_jobs=None,\n",
       "             num_parallel_tree=None, random_state=None, ...)"
      ]
     },
     "execution_count": 98,
     "metadata": {},
     "output_type": "execute_result"
    }
   ],
   "source": [
    "import xgboost as xgb \n",
    "xgb_r = xgb.XGBRegressor(\n",
    "    max_depth=3,  \n",
    "    n_estimators=600,  # Anzahl der Bäume im Modell\n",
    "    reg_alpha=25,  # Regularisierung\n",
    ")\n",
    "xgb_r.fit(X_train,y_train)"
   ]
  },
  {
   "cell_type": "code",
   "execution_count": 99,
   "id": "f57606f7-d206-44c7-a392-bd8fef3e538a",
   "metadata": {},
   "outputs": [
    {
     "data": {
      "text/plain": [
       "0.9394816231385039"
      ]
     },
     "execution_count": 99,
     "metadata": {},
     "output_type": "execute_result"
    }
   ],
   "source": [
    "# R-squared\n",
    "xgb_r.score(X_test, y_test)"
   ]
  },
  {
   "cell_type": "code",
   "execution_count": 100,
   "id": "06e63d8a-e974-4367-9c37-d45d05b41a5e",
   "metadata": {},
   "outputs": [],
   "source": [
    "y_test_pred = xgb_r.predict(X_test)"
   ]
  },
  {
   "cell_type": "markdown",
   "id": "b4b759b2-c919-4811-8332-99863788d4cb",
   "metadata": {},
   "source": [
    "### Visual überprüfen"
   ]
  },
  {
   "cell_type": "code",
   "execution_count": 101,
   "id": "a6bd0d61-260f-414a-b42b-dbac3c682ca3",
   "metadata": {},
   "outputs": [
    {
     "data": {
      "text/plain": [
       "[]"
      ]
     },
     "execution_count": 101,
     "metadata": {},
     "output_type": "execute_result"
    },
    {
     "data": {
      "image/png": "[encoded data removed]",
      "text/plain": [
       "<Figure size 800x600 with 1 Axes>"
      ]
     },
     "metadata": {},
     "output_type": "display_data"
    }
   ],
   "source": [
    "plt.figure(figsize=(8,6))\n",
    "sns.kdeplot(y_test, color ='r', label ='Tatsächlicher Test Preis')\n",
    "sns.kdeplot(y_test_pred, color ='b', label ='Vorhergesagter Test Preis')\n",
    "plt.legend()\n",
    "plt.title(\"Vergleich der Dichte der tatsächlichen Preis und vorhergesagten Preis unter Verwendung von Xgboost\")\n",
    "plt.plot()"
   ]
  },
  {
   "cell_type": "markdown",
   "id": "ef93ca62-e15f-4e99-aeb6-1d869bb776ad",
   "metadata": {},
   "source": [
    "Xgboost mit dieser Parametern scheint ein guter Model für unser Data zu passen. Weil die beiden Kurven sich ziemlich überklappen"
   ]
  },
  {
   "cell_type": "markdown",
   "id": "0353d700-a564-4c0c-9c3e-186bd85a885b",
   "metadata": {},
   "source": [
    "Das Diagramm vermittelt uns, dass rund um die Spitze der Dichtfunktion bzw wo sich die Daten am haüfigsten auftreten zwischen 250 und 350 die vorhergesagten Preise von den tatsächlichen abweichen was darauf hindeuten kann, dass unser Model nicht so genau hier. möglicherweiße brauchen wir mehr Merkmale um den genauen Preis zwischen 250 und 350 anzunähren"
   ]
  },
  {
   "cell_type": "code",
   "execution_count": 102,
   "id": "80290991-5db1-4235-a30f-469c2fcb898f",
   "metadata": {},
   "outputs": [
    {
     "data": {
      "text/plain": [
       "170"
      ]
     },
     "execution_count": 102,
     "metadata": {},
     "output_type": "execute_result"
    }
   ],
   "source": [
    "df[(df['price']> 250) & (df['price']<350)].shape[0]"
   ]
  },
  {
   "cell_type": "markdown",
   "id": "6460d983-87af-4afa-bcb6-c5f95a1f5911",
   "metadata": {},
   "source": [
    "## Lassen wir uns ein paar beliebige Handys auswählen und unser Model Testen "
   ]
  },
  {
   "cell_type": "code",
   "execution_count": 103,
   "id": "e054f841-fd84-44a4-9fdf-f24f17e4d2b6",
   "metadata": {},
   "outputs": [],
   "source": [
    "y_pred = xgb_r.predict(X)"
   ]
  },
  {
   "cell_type": "markdown",
   "id": "5fba4051-c624-4205-83d0-3b0795ecc4e7",
   "metadata": {},
   "source": [
    "\"Ich werde die Indizes der Testdaten verwenden, die mein Modell nicht gelernt hat.\""
   ]
  },
  {
   "cell_type": "code",
   "execution_count": 104,
   "id": "b2340265-80c8-423a-ae3a-12aa2647b047",
   "metadata": {},
   "outputs": [
    {
     "data": {
      "text/plain": [
       "Index([ 677,  351, 1079,  727,  707,  242,  929, 1221,  822,  219,\n",
       "       ...\n",
       "        966,  750,  181,  868,  635,  673,  139,  726, 1033,  616],\n",
       "      dtype='int64', length=247)"
      ]
     },
     "execution_count": 104,
     "metadata": {},
     "output_type": "execute_result"
    }
   ],
   "source": [
    "X_test.index"
   ]
  },
  {
   "cell_type": "code",
   "execution_count": 105,
   "id": "9638790c-9a40-4b1d-86ee-62669d58f65e",
   "metadata": {},
   "outputs": [
    {
     "name": "stdout",
     "output_type": "stream",
     "text": [
      "brand                                 SAMSUNG\n",
      "model                   Samsung Note 8.0 32GB\n",
      "process_brand                          Exynos\n",
      "processor                    Exynos 4412 Quad\n",
      "internal_storage                           32\n",
      "ram                                       2.0\n",
      "battery_capacity_mAh                   4600.0\n",
      "rar_camera_total_mp                       5.0\n",
      "front_camera_mp                           1.0\n",
      "display                                  8.0\"\n",
      "disp_size_inch                            8.0\n",
      "price                                  477.92\n",
      "brand_num                                   3\n",
      "process_brand_num                           2\n",
      "processor_num                              48\n",
      "Name: 388, dtype: object\n",
      "\n",
      "\n",
      "Der vorhergesgter Preis lautet: 466.2547302246094 €\n"
     ]
    }
   ],
   "source": [
    "print(df.loc[388,:])\n",
    "print('\\n')\n",
    "print(f'Der vorhergesgter Preis lautet: {y_pred[388]} €')"
   ]
  },
  {
   "cell_type": "markdown",
   "id": "026c2dc9-cbbc-40da-a34d-11248586feaa",
   "metadata": {},
   "source": [
    "<div style=\"background-color:#e6c1ff\">\n",
    "    <h2>Spreicherung des Models</h2>\n",
    "</div"
   ]
  },
  {
   "cell_type": "code",
   "execution_count": 106,
   "id": "a4a14d71-e7bf-46c6-92f0-aa3d5e2381c5",
   "metadata": {},
   "outputs": [],
   "source": [
    "with open('xgb_phone_price_model.sav','wb') as f:\n",
    "    pickle.dump(xgb_r,f)"
   ]
  },
  {
   "cell_type": "code",
   "execution_count": 107,
   "id": "6f53ead9-f6ca-48a7-96e3-4e0c2e21ca88",
   "metadata": {},
   "outputs": [],
   "source": [
    "with open('xgb_phone_price_model.sav','rb') as f:\n",
    "    price = pickle.load(f)"
   ]
  },
  {
   "cell_type": "markdown",
   "id": "ba80eb2b-7023-46f8-ba69-b11be2a605d5",
   "metadata": {},
   "source": [
    "<div style=\"background-color:#e6c1ff\">\n",
    "    <h2>User Skript</h2>\n",
    "</div"
   ]
  },
  {
   "cell_type": "markdown",
   "id": "5c03847c-49bc-40a5-9f32-cb466773450f",
   "metadata": {},
   "source": [
    "In diesem Abschnitt werde ich mein gespreichertes Model aufrufen anhand einer Funktion. Im Abschnitt **Kodierung** oben haben wir eine funktion `convert_to_numeric` erstellt die uns ermöglicht die kategorische Eingaben zu den entsprechenden Coden konvertiert. Mit anderen Worten der Benutzer sollte nur diese inputs eingeben : `brand`, `process_brand`, `processor`, `internal_storage`, `ram`, `battery_capacity_mAh`, `rar_camera_total_mp`, `front_camera_mp`, `disp_size_inch` um Vorhersage zu kriegen ohne expizit die Kategoriecoden zu erkennen"
   ]
  },
  {
   "cell_type": "code",
   "execution_count": 108,
   "id": "f3b21442-360a-41d2-8bcf-6a900da5ffcb",
   "metadata": {},
   "outputs": [],
   "source": [
    "def price_predict(user_input):\n",
    "    # Konvertiere die Benutzereingabe in numerische Werte\n",
    "    user_input_con = convert_to_numeric(user_input)\n",
    "    \n",
    "    # Vorhersage des Preises mit dem Modell\n",
    "    pred_price = price.predict([user_input_con])[0]\n",
    "    \n",
    "    # Runde die Vorhersage auf zwei Dezimalstellen\n",
    "    pred_price_rounded = round(pred_price, 2)\n",
    "    \n",
    "    # Formatieren\n",
    "    pred_price_formatted = '{:.2f}'.format(pred_price_rounded)\n",
    "    \n",
    "    # Rückgabe der Vorhersage \n",
    "    return f'Der vorhergesagte Preis: {pred_price_formatted} €'"
   ]
  },
  {
   "cell_type": "code",
   "execution_count": 109,
   "id": "3bc0e00f-832f-4635-ae17-6b8e87d4fa07",
   "metadata": {},
   "outputs": [],
   "source": [
    "user_input = ['ONEPLUS', 'Snapdragon', 'Snapdragon 855+', 64, 8.0, 3800.0, 76.0, 16.0, 6.55]"
   ]
  },
  {
   "cell_type": "code",
   "execution_count": 110,
   "id": "3013c3d5-790c-4ffe-969e-747bda9bfb61",
   "metadata": {},
   "outputs": [],
   "source": [
    "df_inp = df[['brand', 'process_brand','processor','internal_storage', 'ram','battery_capacity_mAh','rar_camera_total_mp','front_camera_mp','disp_size_inch'    ]]"
   ]
  },
  {
   "cell_type": "code",
   "execution_count": 111,
   "id": "f54cc2fb-cc38-404a-a304-926fbab30702",
   "metadata": {},
   "outputs": [
    {
     "data": {
      "text/plain": [
       "'Der vorhergesagte Preis: 650.54 €'"
      ]
     },
     "execution_count": 111,
     "metadata": {},
     "output_type": "execute_result"
    }
   ],
   "source": [
    "price_predict(user_input)"
   ]
  },
  {
   "cell_type": "code",
   "execution_count": 112,
   "id": "c7df9d7a-090f-4155-8506-ddef88c628b9",
   "metadata": {},
   "outputs": [
    {
     "data": {
      "text/plain": [
       "brand                      APPLE\n",
       "process_brand              Apple\n",
       "processor               Apple M2\n",
       "internal_storage            1024\n",
       "ram                         16.0\n",
       "battery_capacity_mAh      7538.0\n",
       "rar_camera_total_mp         22.0\n",
       "front_camera_mp             12.0\n",
       "disp_size_inch              11.0\n",
       "Name: 800, dtype: object"
      ]
     },
     "execution_count": 112,
     "metadata": {},
     "output_type": "execute_result"
    }
   ],
   "source": [
    "df_inp.iloc[800]"
   ]
  },
  {
   "cell_type": "code",
   "execution_count": 113,
   "id": "b338a944-6e2b-4d08-a0f4-ab84b763708e",
   "metadata": {},
   "outputs": [
    {
     "data": {
      "text/plain": [
       "'Der vorhergesagte Preis: 1504.32 €'"
      ]
     },
     "execution_count": 113,
     "metadata": {},
     "output_type": "execute_result"
    }
   ],
   "source": [
    "price_predict(df_inp.iloc[800].tolist())"
   ]
  },
  {
   "cell_type": "markdown",
   "id": "dc3afb68-19ca-498e-82df-d6ed0577dd82",
   "metadata": {},
   "source": [
    "##### Vergleichung mit dem tatsächlichen Preis"
   ]
  },
  {
   "cell_type": "code",
   "execution_count": 114,
   "id": "a2525979-83a8-4d19-b7b3-7cd673d0a33a",
   "metadata": {},
   "outputs": [
    {
     "data": {
      "text/plain": [
       "array(['Exynos', 'Snapdragon', 'MediaTek', 'MT6739W', 'Dimensity',\n",
       "       'Unisoc', 'MT6833', 'MT6853', 'MT6739WW', 'Spreadtrum', 'MT6737T',\n",
       "       'Pega-Dual', 'MT6889Z', 'Apple', 'MT6765V', 'MT6873V'],\n",
       "      dtype=object)"
      ]
     },
     "execution_count": 114,
     "metadata": {},
     "output_type": "execute_result"
    }
   ],
   "source": [
    "df['process_brand'].unique()"
   ]
  },
  {
   "cell_type": "code",
   "execution_count": 115,
   "id": "e4e69abc-30ef-4c4f-b54f-c564d1cccfd5",
   "metadata": {},
   "outputs": [
    {
     "data": {
      "text/plain": [
       "135.13"
      ]
     },
     "execution_count": 115,
     "metadata": {},
     "output_type": "execute_result"
    }
   ],
   "source": [
    "df.loc[34,'price']"
   ]
  },
  {
   "cell_type": "markdown",
   "id": "bd6ed00c-3e90-4dbf-baf8-b23f6aa36647",
   "metadata": {},
   "source": [
    "<div style=\"background-color:#e6c1ff\">\n",
    "    <h2>Kategorien speichern</h2>\n",
    "</div"
   ]
  },
  {
   "cell_type": "markdown",
   "id": "42c967ff-dce6-4360-a3c5-8bf46be14603",
   "metadata": {},
   "source": [
    "In diesem Abschnitt möchte alle einzigartige Werte der Kategorien abspreichen."
   ]
  },
  {
   "cell_type": "code",
   "execution_count": 116,
   "id": "5e6fc5b5-922f-409b-97ef-9caf7e1aa085",
   "metadata": {},
   "outputs": [],
   "source": [
    "brand = df['brand'].unique()\n",
    "brand_df = pd.DataFrame(brand, columns=['brand'])\n",
    "\n",
    "process_brand = df['process_brand'].unique()\n",
    "proces_brand_df = pd.DataFrame(process_brand, columns=['process_brand'])\n",
    "\n",
    "processor = df['processor'].unique()\n",
    "processor_df = pd.DataFrame(processor, columns=['processor'])\n",
    "\n",
    "# Merging the DataFrames\n",
    "choice = pd.merge(brand_df, proces_brand_df, left_index=True, right_index=True, how='right')\n",
    "choice = pd.merge(choice, processor_df, left_index=True, right_index=True, how='right')"
   ]
  },
  {
   "cell_type": "code",
   "execution_count": 138,
   "id": "e40f5780-a56e-4cc3-8ae7-22ffbecb47ad",
   "metadata": {},
   "outputs": [
    {
     "data": {
      "text/plain": [
       "['Apple A10 Fusion',\n",
       " 'Apple A11 Bionic',\n",
       " 'Apple A12 Bionic',\n",
       " 'Apple A12X Bionic',\n",
       " 'Apple A13 Bionic',\n",
       " 'Apple A14',\n",
       " 'Apple A14 Bionic',\n",
       " 'Apple A15 Bionic',\n",
       " 'Apple A16 Bionic',\n",
       " 'Apple A4',\n",
       " 'Apple A5',\n",
       " 'Apple A6',\n",
       " 'Apple A7',\n",
       " 'Apple A8',\n",
       " 'Apple A9',\n",
       " 'Apple Bionic',\n",
       " 'Apple M1',\n",
       " 'Apple M2',\n",
       " 'Dimensity',\n",
       " 'Dimensity 1000+',\n",
       " 'Dimensity 1080',\n",
       " 'Dimensity 1100 5G',\n",
       " 'Dimensity 1200 5G',\n",
       " 'Dimensity 1200 Max 5G',\n",
       " 'Dimensity 1200-Max 5G',\n",
       " 'Dimensity 1300 5G',\n",
       " 'Dimensity 700',\n",
       " 'Dimensity 700 5G',\n",
       " 'Dimensity 720',\n",
       " 'Dimensity 720 5G',\n",
       " 'Dimensity 8000 5G',\n",
       " 'Dimensity 8000 Max',\n",
       " 'Dimensity 800U 5G',\n",
       " 'Dimensity 810',\n",
       " 'Dimensity 810 5G',\n",
       " 'Dimensity 8100',\n",
       " 'Dimensity 8100 5G',\n",
       " 'Dimensity 8100 Max 5G',\n",
       " 'Dimensity 8100-Max',\n",
       " 'Dimensity 900 5G',\n",
       " 'Dimensity 9000 5G',\n",
       " 'Dimensity 920 5G',\n",
       " 'Exynos',\n",
       " 'Exynos 1200',\n",
       " 'Exynos 2100',\n",
       " 'Exynos 2200',\n",
       " 'Exynos 3470 Quad',\n",
       " 'Exynos 3475 Quad',\n",
       " 'Exynos 4412 Quad',\n",
       " 'Exynos 5410 Octa',\n",
       " 'Exynos 7420 Octa',\n",
       " 'Exynos 7570 Quad',\n",
       " 'Exynos 7580 Octa',\n",
       " 'Exynos 7870 Octa',\n",
       " 'Exynos 7880',\n",
       " 'Exynos 7884',\n",
       " 'Exynos 7885',\n",
       " 'Exynos 7904',\n",
       " 'Exynos 850',\n",
       " 'Exynos 8890 Octa',\n",
       " 'Exynos 8895',\n",
       " 'Exynos 9610',\n",
       " 'Exynos 9611',\n",
       " 'Exynos 980',\n",
       " 'Exynos 9810',\n",
       " 'Exynos 9820',\n",
       " 'Exynos 9825',\n",
       " 'Exynos 990',\n",
       " 'Exynos 992',\n",
       " 'MT6737T',\n",
       " 'MT6739W',\n",
       " 'MT6739WW',\n",
       " 'MT6765V',\n",
       " 'MT6833 Dimensity 700',\n",
       " 'MT6833 Dimensity 700 5G',\n",
       " 'MT6853 Dimensity 720 5G',\n",
       " 'MT6873V Dimensity 800 5G',\n",
       " 'MT6889Z Dimensity 1000+',\n",
       " 'MediaTek',\n",
       " 'MediaTek G25',\n",
       " 'MediaTek G35',\n",
       " 'MediaTek G80',\n",
       " 'MediaTek G88',\n",
       " 'MediaTek G95',\n",
       " 'MediaTek Helio G35',\n",
       " 'MediaTek Helio G99',\n",
       " 'MediaTek Helio P22',\n",
       " 'MediaTek P20',\n",
       " 'MediaTek P22',\n",
       " 'MediaTek P23',\n",
       " 'MediaTek P35',\n",
       " 'MediaTek P60',\n",
       " 'MediaTek P65',\n",
       " 'MediaTek P70',\n",
       " 'MediaTek P95',\n",
       " 'Mediatek',\n",
       " 'Mediatek G25',\n",
       " 'Mediatek G35',\n",
       " 'Mediatek G80',\n",
       " 'Mediatek G85',\n",
       " 'Mediatek G88',\n",
       " 'Mediatek G90T',\n",
       " 'Mediatek G96',\n",
       " 'Mediatek Helio A22',\n",
       " 'Mediatek Helio G95',\n",
       " 'Mediatek Helio G96',\n",
       " 'Mediatek Helio G99',\n",
       " 'Mediatek P35',\n",
       " 'Mediatek P65',\n",
       " 'Mediatek P90',\n",
       " 'Mediatek P95',\n",
       " 'Pega-Dual +XMM6262',\n",
       " 'Snapdragon',\n",
       " 'Snapdragon 400',\n",
       " 'Snapdragon 410',\n",
       " 'Snapdragon 425',\n",
       " 'Snapdragon 430',\n",
       " 'Snapdragon 435',\n",
       " 'Snapdragon 439',\n",
       " 'Snapdragon 450',\n",
       " 'Snapdragon 460',\n",
       " 'Snapdragon 480 5G',\n",
       " 'Snapdragon 600',\n",
       " 'Snapdragon 615',\n",
       " 'Snapdragon 617',\n",
       " 'Snapdragon 625',\n",
       " 'Snapdragon 626',\n",
       " 'Snapdragon 632',\n",
       " 'Snapdragon 652',\n",
       " 'Snapdragon 653',\n",
       " 'Snapdragon 660',\n",
       " 'Snapdragon 662',\n",
       " 'Snapdragon 665',\n",
       " 'Snapdragon 675',\n",
       " 'Snapdragon 678',\n",
       " 'Snapdragon 680 4G',\n",
       " 'Snapdragon 690 5G',\n",
       " 'Snapdragon 695 5G',\n",
       " 'Snapdragon 710',\n",
       " 'Snapdragon 720G',\n",
       " 'Snapdragon 730',\n",
       " 'Snapdragon 730G',\n",
       " 'Snapdragon 732G',\n",
       " 'Snapdragon 750',\n",
       " 'Snapdragon 750 5G',\n",
       " 'Snapdragon 750G',\n",
       " 'Snapdragon 750G 5G',\n",
       " 'Snapdragon 765G',\n",
       " 'Snapdragon 765G 5G',\n",
       " 'Snapdragon 768G 5G',\n",
       " 'Snapdragon 778G',\n",
       " 'Snapdragon 778G 5G',\n",
       " 'Snapdragon 778G+ 5G',\n",
       " 'Snapdragon 780G',\n",
       " 'Snapdragon 8 Gen 1',\n",
       " 'Snapdragon 8 Gen 1 Plus',\n",
       " 'Snapdragon 8 Gen 2',\n",
       " 'Snapdragon 8 Gen1',\n",
       " 'Snapdragon 8+ Gen 1',\n",
       " 'Snapdragon 800',\n",
       " 'Snapdragon 801',\n",
       " 'Snapdragon 805',\n",
       " 'Snapdragon 820',\n",
       " 'Snapdragon 835',\n",
       " 'Snapdragon 845',\n",
       " 'Snapdragon 855',\n",
       " 'Snapdragon 855+',\n",
       " 'Snapdragon 860',\n",
       " 'Snapdragon 865',\n",
       " 'Snapdragon 865 5G',\n",
       " 'Snapdragon 865+',\n",
       " 'Snapdragon 870 5G',\n",
       " 'Snapdragon 888',\n",
       " 'Snapdragon 888 5G',\n",
       " 'Snapdragon 888+ 5G',\n",
       " 'Snapdragon 898 5G',\n",
       " 'Spreadtrum',\n",
       " 'Spreadtrum SC9830',\n",
       " 'Unisoc SC9863A']"
      ]
     },
     "execution_count": 138,
     "metadata": {},
     "output_type": "execute_result"
    }
   ],
   "source": [
    "sorted(processor_df['processor'].unique())"
   ]
  },
  {
   "cell_type": "code",
   "execution_count": 118,
   "id": "ac6fb397-00f4-4872-93f3-93bd3fdfdec6",
   "metadata": {},
   "outputs": [],
   "source": [
    "processor_df.to_csv('prozessoren.csv', index=False)"
   ]
  },
  {
   "cell_type": "code",
   "execution_count": 119,
   "id": "059302b0-ef2e-457f-a780-4dcb3d917d4e",
   "metadata": {},
   "outputs": [],
   "source": [
    "# choice = choice.fillna('')"
   ]
  },
  {
   "cell_type": "code",
   "execution_count": 120,
   "id": "9135818a-a8a7-44b5-b959-fc812fe96637",
   "metadata": {},
   "outputs": [],
   "source": [
    "# choice.to_csv('choice.csv', index=False)"
   ]
  },
  {
   "cell_type": "code",
   "execution_count": 121,
   "id": "5f616245-da00-49ee-83e6-8d0f4b9da6d5",
   "metadata": {},
   "outputs": [],
   "source": [
    "df.to_csv('mobiletelefone.csv', index=False)"
   ]
  },
  {
   "cell_type": "code",
   "execution_count": null,
   "id": "0d9dac41-93ac-4d8d-9093-d8b2615d3d91",
   "metadata": {},
   "outputs": [],
   "source": []
  },
  {
   "cell_type": "markdown",
   "id": "914d565a-48d3-4760-a810-b212a5d53b27",
   "metadata": {},
   "source": [
    "#### Autor: Solaiman Karroumi"
   ]
  }
 ],
 "metadata": {
  "kernelspec": {
   "display_name": "Python 3 (ipykernel)",
   "language": "python",
   "name": "python3"
  },
  "language_info": {
   "codemirror_mode": {
    "name": "ipython",
    "version": 3
   },
   "file_extension": ".py",
   "mimetype": "text/x-python",
   "name": "python",
   "nbconvert_exporter": "python",
   "pygments_lexer": "ipython3",
   "version": "3.11.7"
  }
 },
 "nbformat": 4,
 "nbformat_minor": 5
}
